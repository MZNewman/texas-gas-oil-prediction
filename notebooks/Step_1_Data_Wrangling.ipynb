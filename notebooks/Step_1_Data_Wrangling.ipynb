{
 "cells": [
  {
   "cell_type": "markdown",
   "id": "d9220953-de91-481e-8b53-2c0b6e53250e",
   "metadata": {},
   "source": [
    "# Table of Contents\n",
    "\n",
    "- [Data Collection and Loading](#Loading)\n",
    "    - [Imports](#Imports)\n",
    "    - [Dataset Loading](#Loading)\n",
    "    - [API Standardization](#API)\n",
    "    - [Data Quality Assessment](#Quality)\n",
    "    - [Individual Column Assessment](#Column)\n",
    "        - [Well Production](#Prod)\n",
    "        - [Well Properties](#Properties)\n",
    "        - [Well Formations](#Formations)\n",
    "- [Data Quality Assessment and Cleaning](#Clean)\n",
    "    - [Understanding Production Units and Data Context](#Units)\n",
    "    - [Time Series Analysis and Spike Period Assessment](#Spike)\n",
    "    - [Production Patterns and Zero Values](#ProdPatterns)\n",
    "    - [Production Month Validation and Gap Analysis](#Gap)\n",
    "    - [Geospatial Coordinate Validation](#Geospatial)\n",
    "    - [Operator Performance and Size Analysis](#Operator)\n",
    "    - [Formation Name Standardization](#Formation)"
   ]
  },
  {
   "cell_type": "markdown",
   "id": "c203bae1-1306-4468-8da9-3233cda92a77",
   "metadata": {},
   "source": [
    "## Data Collection and Loading <a id=\"Loading\"></a>"
   ]
  },
  {
   "cell_type": "markdown",
   "id": "6e809e01-198b-44cd-8343-5821005a85f3",
   "metadata": {},
   "source": [
    "### Imports <a id=\"Imports\"></a>"
   ]
  },
  {
   "cell_type": "code",
   "execution_count": 1,
   "id": "f61256c4-2a4c-48e7-904d-6e33e99f32c0",
   "metadata": {},
   "outputs": [],
   "source": [
    "#libraries for data collection and loading\n",
    "import pandas as pd\n",
    "import numpy as np\n",
    "import geopandas as gpd\n",
    "\n",
    "#support libraries\n",
    "from datetime import datetime\n",
    "import re\n",
    "\n",
    "#display settings for pandas output\n",
    "pd.set_option('display.max_columns', None)\n",
    "pd.set_option('display.width', None)\n",
    "pd.set_option('display.max_colwidth', 50)"
   ]
  },
  {
   "cell_type": "markdown",
   "id": "d2287a33-171d-44f3-b10b-8071b650d79e",
   "metadata": {},
   "source": [
    "### Dataset Loading <a id=\"Loading\"></a>"
   ]
  },
  {
   "cell_type": "code",
   "execution_count": 2,
   "id": "f2b7b94f-95d0-4479-b01a-fa5e1367f1c0",
   "metadata": {},
   "outputs": [],
   "source": [
    "def load_parquet_datasets(file_paths):\n",
    "    \"\"\"\n",
    "    Load multiple parquet files with error handling and initial inspection.\n",
    "    \n",
    "    Args:\n",
    "        file_paths (dict): Dictionary with dataset names as keys and file paths as values\n",
    "        \n",
    "    Returns:\n",
    "        dict: Dictionary containing loaded DataFrames\n",
    "    \"\"\"\n",
    "    datasets = {}\n",
    "    \n",
    "    for name, path in file_paths.items():\n",
    "        try:\n",
    "            df = pd.read_parquet(path)\n",
    "            print(f\"  Successfully loaded {name} with pandas\")\n",
    "            print(f\"  Shape: {df.shape}\")\n",
    "            datasets[name] = df\n",
    "            \n",
    "        except Exception as e:\n",
    "            print(f\"✗ Failed to load {name}: {str(e)}\")\n",
    "            \n",
    "    return datasets"
   ]
  },
  {
   "cell_type": "code",
   "execution_count": 3,
   "id": "f20060e2-7943-4b28-b81d-f0b8f2e78d77",
   "metadata": {},
   "outputs": [
    {
     "data": {
      "text/plain": [
       "{'well_production': '../data/ds_interview_well_prod.parquet',\n",
       " 'well_properties': '../data/ds_interview_well_props.parquet',\n",
       " 'well_formations': '../data/ds_interview_formations.parquet'}"
      ]
     },
     "execution_count": 3,
     "metadata": {},
     "output_type": "execute_result"
    }
   ],
   "source": [
    "file_paths = {\n",
    "    'well_production': '../data/ds_interview_well_prod.parquet',\n",
    "    'well_properties': '../data/ds_interview_well_props.parquet', \n",
    "    'well_formations': '../data/ds_interview_formations.parquet'\n",
    "}\n",
    "\n",
    "file_paths"
   ]
  },
  {
   "cell_type": "code",
   "execution_count": 4,
   "id": "f511ce8f-35bf-4f22-83c5-1e52b905ab68",
   "metadata": {
    "scrolled": true
   },
   "outputs": [
    {
     "name": "stdout",
     "output_type": "stream",
     "text": [
      "  Successfully loaded well_production with pandas\n",
      "  Shape: (17724875, 9)\n",
      "  Successfully loaded well_properties with pandas\n",
      "  Shape: (430661, 19)\n",
      "  Successfully loaded well_formations with pandas\n",
      "  Shape: (382132, 3)\n"
     ]
    },
    {
     "data": {
      "text/plain": [
       "{'well_production':           date_prod   api_no_10  gas_monthly  oil_monthly  production_month  \\\n",
       " 0        2024-05-01  4218385145        450.0        238.0               108   \n",
       " 1        2022-04-01  4213534842         35.0         27.0               352   \n",
       " 2        2024-06-01  4218700792          0.0          1.0               244   \n",
       " 3        2023-05-01  4200342397        357.0         37.0               124   \n",
       " 4        2021-05-01  4240135173          0.0          0.0               116   \n",
       " ...             ...         ...          ...          ...               ...   \n",
       " 17724870 2021-01-01  4247581581          2.0         35.0               337   \n",
       " 17724871 2024-01-01  4250533767       3212.0          0.0               310   \n",
       " 17724872 2022-06-01  4218331486       1433.0         18.0               245   \n",
       " 17724873 2024-06-01  4243930536          0.0          0.0               257   \n",
       " 17724874 2022-09-01  4229105462          2.0          1.0               355   \n",
       " \n",
       "           start_date     county        sub_region region  \n",
       " 0         2015-06-01      GREGG  Haynesville - TX   None  \n",
       " 1         1993-01-01      ECTOR         West - TX   None  \n",
       " 2         1993-04-01  GUADALUPE        South - TX   None  \n",
       " 3         2013-02-01    ANDREWS         West - TX   None  \n",
       " 4         2011-10-01       RUSK  Haynesville - TX   None  \n",
       " ...              ...        ...               ...    ...  \n",
       " 17724870  1993-01-01       WARD         West - TX   None  \n",
       " 17724871  1998-04-01     ZAPATA        South - TX   None  \n",
       " 17724872  2002-02-01      GREGG  Haynesville - TX   None  \n",
       " 17724873  2003-02-01    TARRANT      Central - TX   None  \n",
       " 17724874  1993-03-01    LIBERTY        South - TX   None  \n",
       " \n",
       " [17724875 rows x 9 columns],\n",
       " 'well_properties':          api_no_10                    operator_name  lon_surface  lat_surface  \\\n",
       " 0       4242131075           PANTERA ENERGY COMPANY  -101.974072    36.162055   \n",
       " 1       4243934705                 BKV BARNETT, LLC   -97.526495    32.644941   \n",
       " 2       4239530630           HILCORP ENERGY COMPANY   -96.452169    31.182714   \n",
       " 3       4225130640             TEP BARNETT USA, LLC   -97.427153    32.246395   \n",
       " 4       4204131998             VESS OIL CORPORATION   -96.214825    30.818681   \n",
       " ...            ...                              ...          ...          ...   \n",
       " 430656  4231134458        REPSOL OIL & GAS USA, LLC   -98.510868    28.400472   \n",
       " 430657  4222736804  BAYSWATER OPERATING COMPANY LLC  -101.294003    32.362319   \n",
       " 430658  4222739543             SURGE OPERATING, LLC  -101.601973    32.461515   \n",
       " 430659  4236500943         HOPEWELL OPERATING, INC.   -94.050932    32.340568   \n",
       " 430660  4248380185              PNG PRODUCTION, LLC          NaN          NaN   \n",
       " \n",
       "        lon_bottomhole lat_bottomhole elevation_ground  depth_tvd lower_perf  \\\n",
       " 0         -101.974072      36.162055             None        NaN       None   \n",
       " 1          -97.504325      32.652936             None        NaN       None   \n",
       " 2          -96.452169      31.182714             None        NaN       None   \n",
       " 3          -97.435732      32.254940             None        NaN       None   \n",
       " 4          -96.214825      30.818681             None        NaN       None   \n",
       " ...               ...            ...              ...        ...        ...   \n",
       " 430656     -98.510748      28.387553             None        NaN       None   \n",
       " 430657    -101.294003      32.362319             None        NaN       None   \n",
       " 430658    -101.596192      32.441648             None        NaN       None   \n",
       " 430659     -94.050932      32.340568             None        NaN       None   \n",
       " 430660           None           None             None        NaN       None   \n",
       " \n",
       "        upper_perf measured_depth  horizontal_length wellbore_type  \\\n",
       " 0            None        3314.00                NaN       Unknown   \n",
       " 1            None        6833.00            7404.71    Horizontal   \n",
       " 2            None       13029.00                NaN       Unknown   \n",
       " 3            None        6881.00            4078.53    Horizontal   \n",
       " 4            None        8799.00                NaN       Unknown   \n",
       " ...           ...            ...                ...           ...   \n",
       " 430656       None       11773.00            4692.89    Horizontal   \n",
       " 430657       None        9181.00                NaN       Unknown   \n",
       " 430658       None        8075.00            7430.68    Horizontal   \n",
       " 430659       None           None                NaN       Unknown   \n",
       " 430660       None           None                NaN          None   \n",
       " \n",
       "                             field_name township section range county_name  \\\n",
       " 0                        TEXAS HUGOTON     None    None  None     SHERMAN   \n",
       " 1         NEWARK, EAST (BARNETT SHALE)     None    None  None     TARRANT   \n",
       " 2       BALD PRAIRIE (CV CONSOLIDATED)     None    None  None   ROBERTSON   \n",
       " 3         NEWARK, EAST (BARNETT SHALE)     None    None  None     JOHNSON   \n",
       " 4                    KURTEN (WOODBINE)     None    None  None      BRAZOS   \n",
       " ...                                ...      ...     ...   ...         ...   \n",
       " 430656       EAGLEVILLE (EAGLE FORD-1)     None    None  None    MCMULLEN   \n",
       " 430657          SPRABERRY (TREND AREA)     None    None  None      HOWARD   \n",
       " 430658          SPRABERRY (TREND AREA)     None    None  None      HOWARD   \n",
       " 430659        BETHANY, NE. (LIME 3850)     None    None  None      PANOLA   \n",
       " 430660                 PANHANDLE, EAST     None    None  None     WHEELER   \n",
       " \n",
       "               sub_region  \n",
       " 0             North - TX  \n",
       " 1           Central - TX  \n",
       " 2           Central - TX  \n",
       " 3           Central - TX  \n",
       " 4             South - TX  \n",
       " ...                  ...  \n",
       " 430656        South - TX  \n",
       " 430657         West - TX  \n",
       " 430658         West - TX  \n",
       " 430659  Haynesville - TX  \n",
       " 430660        North - TX  \n",
       " \n",
       " [430661 rows x 19 columns],\n",
       " 'well_formations':          api_no_10   formation         basin\n",
       " 0       4243936095     Barnett     Ft. Worth\n",
       " 1       4210500728  Wolfcamp A       Permian\n",
       " 2       4202934580  Eagle Ford  Western Gulf\n",
       " 3       4210532959  Wolfcamp A       Permian\n",
       " 4       4216530509  Wolfcamp A       Permian\n",
       " ...            ...         ...           ...\n",
       " 382127  4232935868  Wolfcamp A       Permian\n",
       " 382128  4250732348  Eagle Ford  Western Gulf\n",
       " 382129  4228334858  Eagle Ford  Western Gulf\n",
       " 382130  4200346398  Wolfcamp A       Permian\n",
       " 382131  4238301165  Wolfcamp A       Permian\n",
       " \n",
       " [382132 rows x 3 columns]}"
      ]
     },
     "execution_count": 4,
     "metadata": {},
     "output_type": "execute_result"
    }
   ],
   "source": [
    "raw_datasets = load_parquet_datasets(file_paths)\n",
    "\n",
    "raw_datasets"
   ]
  },
  {
   "cell_type": "code",
   "execution_count": 5,
   "id": "11bbba57-a6e7-4404-bbf8-851b0d61269a",
   "metadata": {},
   "outputs": [
    {
     "name": "stdout",
     "output_type": "stream",
     "text": [
      "<class 'pandas.core.frame.DataFrame'>\n",
      "RangeIndex: 17724875 entries, 0 to 17724874\n",
      "Data columns (total 9 columns):\n",
      " #   Column            Dtype         \n",
      "---  ------            -----         \n",
      " 0   date_prod         datetime64[ms]\n",
      " 1   api_no_10         object        \n",
      " 2   gas_monthly       float64       \n",
      " 3   oil_monthly       float64       \n",
      " 4   production_month  int64         \n",
      " 5   start_date        object        \n",
      " 6   county            object        \n",
      " 7   sub_region        object        \n",
      " 8   region            object        \n",
      "dtypes: datetime64[ms](1), float64(2), int64(1), object(5)\n",
      "memory usage: 1.2+ GB\n"
     ]
    }
   ],
   "source": [
    "raw_datasets['well_production'].info()"
   ]
  },
  {
   "cell_type": "markdown",
   "id": "d106078b-c271-4ed6-8bb0-2fea377d00e4",
   "metadata": {},
   "source": [
    "The data types seem to match the columns mostly well:\n",
    "- we have a datetime column that could serve as the later index\n",
    "- gas and oil being floats makes sense\n",
    "- production month works as an integer\n",
    "- api number, country, sub_region and region all make sense as strings\n",
    "- start_date might make more sense as a datetime object but we'll see how we'll use it\n",
    "\n",
    "There aren't any obvious null values either but we'll have to explore that more closely"
   ]
  },
  {
   "cell_type": "code",
   "execution_count": 6,
   "id": "193f53b0-e7c7-479d-94af-00777615407c",
   "metadata": {},
   "outputs": [
    {
     "name": "stdout",
     "output_type": "stream",
     "text": [
      "<class 'pandas.core.frame.DataFrame'>\n",
      "RangeIndex: 430661 entries, 0 to 430660\n",
      "Data columns (total 19 columns):\n",
      " #   Column             Non-Null Count   Dtype  \n",
      "---  ------             --------------   -----  \n",
      " 0   api_no_10          430661 non-null  object \n",
      " 1   operator_name      430657 non-null  object \n",
      " 2   lon_surface        428394 non-null  float64\n",
      " 3   lat_surface        428394 non-null  float64\n",
      " 4   lon_bottomhole     428382 non-null  object \n",
      " 5   lat_bottomhole     428382 non-null  object \n",
      " 6   elevation_ground   0 non-null       object \n",
      " 7   depth_tvd          32733 non-null   float64\n",
      " 8   lower_perf         0 non-null       object \n",
      " 9   upper_perf         0 non-null       object \n",
      " 10  measured_depth     391995 non-null  object \n",
      " 11  horizontal_length  102008 non-null  float64\n",
      " 12  wellbore_type      428462 non-null  object \n",
      " 13  field_name         429374 non-null  object \n",
      " 14  township           0 non-null       object \n",
      " 15  section            0 non-null       object \n",
      " 16  range              0 non-null       object \n",
      " 17  county_name        430661 non-null  object \n",
      " 18  sub_region         430658 non-null  object \n",
      "dtypes: float64(4), object(15)\n",
      "memory usage: 62.4+ MB\n"
     ]
    }
   ],
   "source": [
    "raw_datasets['well_properties'].info()"
   ]
  },
  {
   "cell_type": "markdown",
   "id": "63d9bd2f-9cf2-4eb4-bf23-8527e3a3d214",
   "metadata": {},
   "source": [
    "Here there are a lot of empty columns:\n",
    "- elevation_ground, lower_perf, upper_perf, township, section and range\n",
    "    - with no values at all I'm not sure how we'd use these, but we can explore if they would be very helpful later, otherwise we probably won't worry about them for now\n",
    "    - I doubt things like township or section would ever be helpful because they seem like conventional human borders, we're studying natural wells and rock formations, etc.\n",
    "\n",
    "Here are some more meanings for some of the less obvious parameters:\n",
    "- elevation_ground: the elevation of the ground surface at the wellhead location. It's a type of elevation (EL) used in the oil and gas industry to help determine the well's depth relative to the surface and the target formation, influencing factors like the length of the drill string\n",
    "- depth_tvd: True Vertical Depth. It refers to the vertical distance from a reference point at the surface (often the rotary kelly bushing (RKB) or wellhead) to a point in the wellbore. Unlike measured depth (MD), which follows the path of the wellbore, TVD is the straight, vertical distance. It is a critical parameter for:\n",
    "    - Reservoir characterization: Helping geologists understand the depth of the reservoir and its properties.\n",
    "    - Drilling and completion: Informing well planning and completion designs, like the placement of perforations.\n",
    "    - Production optimization: Assisting in estimating fluid flow rates and pressure gradients.\n",
    "    - Wellbore stability: Helping assess potential instability due to rock stresses and pore pressure.\n",
    "- lower_perf and upper_perf: These likely represent the measured depths (MD) of the lower and upper perforation points, respectively, within the wellbore. Perforations are holes made in the well casing and cement to allow hydrocarbons (oil and gas) to flow from the formation into the wellbore for production.\n",
    "    - Upper Perf: The measured depth to the top perforation in the perforated interval.\n",
    "    - Lower Perf: The measured depth to the lowest interval in the perforated interval.\n",
    "\n",
    "It might be possible to calculate elevation ground using geospatial tools, but upper perf and lower perf would likely to be difficult to calculate without being told, unless the api number is associated with some highly specific tools that would have standardized values for how far apart they are or something like that\n",
    "\n",
    "...\n",
    "\n",
    "api number and county name seem to be the only fields where there are no (obvious) null values, other columns have null values of varying amounts\n",
    "- We will need to check whether the api values are standardized throughout the datasets, so we'll investigate that column in all 3 datasets before moving on\n",
    "\n",
    "Some null values might make sense, such as horizontal_length being null for a conventional vertical drilling methods, we'll need to think of how to handle that (can forecast different types of drills separately for example, or just make the feature 0 in the case of vertical drill)\n",
    "\n",
    "The only other column with a lot of null values (relatively speaking compared to the total) is depth_tvd, I wonder if it's possible to derive that value from knowing the differences in lat/lon at the surface and bottom, combined with the measured depth (we could even check our measurement on existing values for these parameters)\n",
    "\n",
    "The other null values seem to be a very low percentage of the column, so it might be more happenstance, but we should also check whether null values in one column co-occur with null values in another\n",
    "\n",
    "...\n",
    "\n",
    "About data types, some of the missing columns don't make sense but that doesn't matter yet\n",
    "\n",
    "Lat, lon and measured depth should be numbers, not object/string"
   ]
  },
  {
   "cell_type": "code",
   "execution_count": 7,
   "id": "620db5f5-0010-4c09-9db6-649b7cf69390",
   "metadata": {},
   "outputs": [
    {
     "name": "stdout",
     "output_type": "stream",
     "text": [
      "<class 'pandas.core.frame.DataFrame'>\n",
      "RangeIndex: 382132 entries, 0 to 382131\n",
      "Data columns (total 3 columns):\n",
      " #   Column     Non-Null Count   Dtype \n",
      "---  ------     --------------   ----- \n",
      " 0   api_no_10  382132 non-null  object\n",
      " 1   formation  382132 non-null  object\n",
      " 2   basin      382132 non-null  object\n",
      "dtypes: object(3)\n",
      "memory usage: 8.7+ MB\n"
     ]
    }
   ],
   "source": [
    "raw_datasets['well_formations'].info()"
   ]
  },
  {
   "cell_type": "markdown",
   "id": "5c46ed62-fe9a-4ab3-87ba-036384885082",
   "metadata": {},
   "source": [
    "In this case we have no (apparent) missing data and the column types all make sense, so I don't think there is anything to worry about here yet\n",
    "\n",
    "For now, we need to explore the API columns and make sure their format is appropriately standardized"
   ]
  },
  {
   "cell_type": "markdown",
   "id": "6343398a-0e27-42ad-8395-1c8881ed60e0",
   "metadata": {},
   "source": [
    "### API Standardization <a id=\"API\"></a>"
   ]
  },
  {
   "cell_type": "code",
   "execution_count": 8,
   "id": "50d45583-e5b2-4e3f-8ff3-63e1523a2585",
   "metadata": {},
   "outputs": [
    {
     "data": {
      "text/plain": [
       "0    4218385145\n",
       "1    4213534842\n",
       "2    4218700792\n",
       "3    4200342397\n",
       "4    4240135173\n",
       "Name: api_no_10, dtype: object"
      ]
     },
     "execution_count": 8,
     "metadata": {},
     "output_type": "execute_result"
    }
   ],
   "source": [
    "raw_datasets['well_production']['api_no_10'].head()"
   ]
  },
  {
   "cell_type": "code",
   "execution_count": 9,
   "id": "aaa5f813-ff41-4836-a853-d2cc288ddc38",
   "metadata": {},
   "outputs": [
    {
     "data": {
      "text/plain": [
       "17724870    4247581581\n",
       "17724871    4250533767\n",
       "17724872    4218331486\n",
       "17724873    4243930536\n",
       "17724874    4229105462\n",
       "Name: api_no_10, dtype: object"
      ]
     },
     "execution_count": 9,
     "metadata": {},
     "output_type": "execute_result"
    }
   ],
   "source": [
    "raw_datasets['well_production']['api_no_10'].tail()"
   ]
  },
  {
   "cell_type": "code",
   "execution_count": 10,
   "id": "9e43390a-ae49-4f79-9594-942cc746ba2a",
   "metadata": {},
   "outputs": [
    {
     "data": {
      "text/plain": [
       "0    4242131075\n",
       "1    4243934705\n",
       "2    4239530630\n",
       "3    4225130640\n",
       "4    4204131998\n",
       "Name: api_no_10, dtype: object"
      ]
     },
     "execution_count": 10,
     "metadata": {},
     "output_type": "execute_result"
    }
   ],
   "source": [
    "raw_datasets['well_properties']['api_no_10'].head()"
   ]
  },
  {
   "cell_type": "code",
   "execution_count": 11,
   "id": "f0597995-c341-4457-862b-b1bf09b3f569",
   "metadata": {},
   "outputs": [
    {
     "data": {
      "text/plain": [
       "430656    4231134458\n",
       "430657    4222736804\n",
       "430658    4222739543\n",
       "430659    4236500943\n",
       "430660    4248380185\n",
       "Name: api_no_10, dtype: object"
      ]
     },
     "execution_count": 11,
     "metadata": {},
     "output_type": "execute_result"
    }
   ],
   "source": [
    "raw_datasets['well_properties']['api_no_10'].tail()"
   ]
  },
  {
   "cell_type": "code",
   "execution_count": 12,
   "id": "af0269db-78cc-426e-a6bb-1948d53c1f20",
   "metadata": {},
   "outputs": [
    {
     "data": {
      "text/plain": [
       "0    4243936095\n",
       "1    4210500728\n",
       "2    4202934580\n",
       "3    4210532959\n",
       "4    4216530509\n",
       "Name: api_no_10, dtype: object"
      ]
     },
     "execution_count": 12,
     "metadata": {},
     "output_type": "execute_result"
    }
   ],
   "source": [
    "raw_datasets['well_formations']['api_no_10'].head()"
   ]
  },
  {
   "cell_type": "code",
   "execution_count": 13,
   "id": "2b80444a-d260-462a-9a52-f0bc2731f4ab",
   "metadata": {},
   "outputs": [
    {
     "data": {
      "text/plain": [
       "382127    4232935868\n",
       "382128    4250732348\n",
       "382129    4228334858\n",
       "382130    4200346398\n",
       "382131    4238301165\n",
       "Name: api_no_10, dtype: object"
      ]
     },
     "execution_count": 13,
     "metadata": {},
     "output_type": "execute_result"
    }
   ],
   "source": [
    "raw_datasets['well_formations']['api_no_10'].tail()"
   ]
  },
  {
   "cell_type": "markdown",
   "id": "4a286bcd-6009-4e2d-94c6-69b13d8f1758",
   "metadata": {},
   "source": [
    "The format seems to be a 10 digit number, starting with 42 (which as I learned from my research, is associated with Texas). We need to confirm that this format is universal across the datasets, for properly working join operations."
   ]
  },
  {
   "cell_type": "code",
   "execution_count": 8,
   "id": "84dd5cf2-8986-4fca-95ab-ea5beecc6d41",
   "metadata": {},
   "outputs": [
    {
     "data": {
      "text/plain": [
       "'^42\\\\d{8}$'"
      ]
     },
     "execution_count": 8,
     "metadata": {},
     "output_type": "execute_result"
    }
   ],
   "source": [
    "api_pattern = r'^42\\d{8}$'\n",
    "\n",
    "api_pattern"
   ]
  },
  {
   "cell_type": "code",
   "execution_count": 9,
   "id": "229d2950-ac14-4096-8a0c-baefab0ea116",
   "metadata": {},
   "outputs": [
    {
     "data": {
      "text/html": [
       "<div>\n",
       "<style scoped>\n",
       "    .dataframe tbody tr th:only-of-type {\n",
       "        vertical-align: middle;\n",
       "    }\n",
       "\n",
       "    .dataframe tbody tr th {\n",
       "        vertical-align: top;\n",
       "    }\n",
       "\n",
       "    .dataframe thead th {\n",
       "        text-align: right;\n",
       "    }\n",
       "</style>\n",
       "<table border=\"1\" class=\"dataframe\">\n",
       "  <thead>\n",
       "    <tr style=\"text-align: right;\">\n",
       "      <th></th>\n",
       "      <th>date_prod</th>\n",
       "      <th>api_no_10</th>\n",
       "      <th>gas_monthly</th>\n",
       "      <th>oil_monthly</th>\n",
       "      <th>production_month</th>\n",
       "      <th>start_date</th>\n",
       "      <th>county</th>\n",
       "      <th>sub_region</th>\n",
       "      <th>region</th>\n",
       "    </tr>\n",
       "  </thead>\n",
       "  <tbody>\n",
       "    <tr>\n",
       "      <th>275</th>\n",
       "      <td>1996-11-01</td>\n",
       "      <td>4903520816</td>\n",
       "      <td>1058826.0</td>\n",
       "      <td>0.0</td>\n",
       "      <td>120</td>\n",
       "      <td>1986-12-01</td>\n",
       "      <td>SUBLETTE</td>\n",
       "      <td>Wyoming</td>\n",
       "      <td>west</td>\n",
       "    </tr>\n",
       "    <tr>\n",
       "      <th>2553</th>\n",
       "      <td>2010-03-01</td>\n",
       "      <td>4903520815</td>\n",
       "      <td>693243.0</td>\n",
       "      <td>0.0</td>\n",
       "      <td>281</td>\n",
       "      <td>1986-11-01</td>\n",
       "      <td>SUBLETTE</td>\n",
       "      <td>Wyoming</td>\n",
       "      <td>west</td>\n",
       "    </tr>\n",
       "    <tr>\n",
       "      <th>5088</th>\n",
       "      <td>2020-08-01</td>\n",
       "      <td>4903520816</td>\n",
       "      <td>0.0</td>\n",
       "      <td>0.0</td>\n",
       "      <td>405</td>\n",
       "      <td>1986-12-01</td>\n",
       "      <td>SUBLETTE</td>\n",
       "      <td>Wyoming</td>\n",
       "      <td>west</td>\n",
       "    </tr>\n",
       "    <tr>\n",
       "      <th>6815</th>\n",
       "      <td>2019-01-01</td>\n",
       "      <td>4903520815</td>\n",
       "      <td>846197.0</td>\n",
       "      <td>0.0</td>\n",
       "      <td>387</td>\n",
       "      <td>1986-11-01</td>\n",
       "      <td>SUBLETTE</td>\n",
       "      <td>Wyoming</td>\n",
       "      <td>west</td>\n",
       "    </tr>\n",
       "    <tr>\n",
       "      <th>12701</th>\n",
       "      <td>1996-04-01</td>\n",
       "      <td>4903520871</td>\n",
       "      <td>1229301.0</td>\n",
       "      <td>0.0</td>\n",
       "      <td>122</td>\n",
       "      <td>1986-03-01</td>\n",
       "      <td>SUBLETTE</td>\n",
       "      <td>Wyoming</td>\n",
       "      <td>west</td>\n",
       "    </tr>\n",
       "    <tr>\n",
       "      <th>...</th>\n",
       "      <td>...</td>\n",
       "      <td>...</td>\n",
       "      <td>...</td>\n",
       "      <td>...</td>\n",
       "      <td>...</td>\n",
       "      <td>...</td>\n",
       "      <td>...</td>\n",
       "      <td>...</td>\n",
       "      <td>...</td>\n",
       "    </tr>\n",
       "    <tr>\n",
       "      <th>17694594</th>\n",
       "      <td>1991-04-01</td>\n",
       "      <td>4903520858</td>\n",
       "      <td>0.0</td>\n",
       "      <td>0.0</td>\n",
       "      <td>65</td>\n",
       "      <td>1985-12-01</td>\n",
       "      <td>SUBLETTE</td>\n",
       "      <td>Wyoming</td>\n",
       "      <td>west</td>\n",
       "    </tr>\n",
       "    <tr>\n",
       "      <th>17695519</th>\n",
       "      <td>1997-01-01</td>\n",
       "      <td>4903520816</td>\n",
       "      <td>898777.0</td>\n",
       "      <td>0.0</td>\n",
       "      <td>122</td>\n",
       "      <td>1986-12-01</td>\n",
       "      <td>SUBLETTE</td>\n",
       "      <td>Wyoming</td>\n",
       "      <td>west</td>\n",
       "    </tr>\n",
       "    <tr>\n",
       "      <th>17699560</th>\n",
       "      <td>1987-04-01</td>\n",
       "      <td>4903520862</td>\n",
       "      <td>698886.0</td>\n",
       "      <td>0.0</td>\n",
       "      <td>10</td>\n",
       "      <td>1986-07-01</td>\n",
       "      <td>SUBLETTE</td>\n",
       "      <td>Wyoming</td>\n",
       "      <td>west</td>\n",
       "    </tr>\n",
       "    <tr>\n",
       "      <th>17708059</th>\n",
       "      <td>2000-04-01</td>\n",
       "      <td>4903520816</td>\n",
       "      <td>0.0</td>\n",
       "      <td>0.0</td>\n",
       "      <td>161</td>\n",
       "      <td>1986-12-01</td>\n",
       "      <td>SUBLETTE</td>\n",
       "      <td>Wyoming</td>\n",
       "      <td>west</td>\n",
       "    </tr>\n",
       "    <tr>\n",
       "      <th>17712438</th>\n",
       "      <td>2009-08-01</td>\n",
       "      <td>4903520866</td>\n",
       "      <td>639844.0</td>\n",
       "      <td>0.0</td>\n",
       "      <td>273</td>\n",
       "      <td>1986-12-01</td>\n",
       "      <td>SUBLETTE</td>\n",
       "      <td>Wyoming</td>\n",
       "      <td>west</td>\n",
       "    </tr>\n",
       "  </tbody>\n",
       "</table>\n",
       "<p>2792 rows × 9 columns</p>\n",
       "</div>"
      ],
      "text/plain": [
       "          date_prod   api_no_10  gas_monthly  oil_monthly  production_month  \\\n",
       "275      1996-11-01  4903520816    1058826.0          0.0               120   \n",
       "2553     2010-03-01  4903520815     693243.0          0.0               281   \n",
       "5088     2020-08-01  4903520816          0.0          0.0               405   \n",
       "6815     2019-01-01  4903520815     846197.0          0.0               387   \n",
       "12701    1996-04-01  4903520871    1229301.0          0.0               122   \n",
       "...             ...         ...          ...          ...               ...   \n",
       "17694594 1991-04-01  4903520858          0.0          0.0                65   \n",
       "17695519 1997-01-01  4903520816     898777.0          0.0               122   \n",
       "17699560 1987-04-01  4903520862     698886.0          0.0                10   \n",
       "17708059 2000-04-01  4903520816          0.0          0.0               161   \n",
       "17712438 2009-08-01  4903520866     639844.0          0.0               273   \n",
       "\n",
       "          start_date    county sub_region region  \n",
       "275       1986-12-01  SUBLETTE    Wyoming   west  \n",
       "2553      1986-11-01  SUBLETTE    Wyoming   west  \n",
       "5088      1986-12-01  SUBLETTE    Wyoming   west  \n",
       "6815      1986-11-01  SUBLETTE    Wyoming   west  \n",
       "12701     1986-03-01  SUBLETTE    Wyoming   west  \n",
       "...              ...       ...        ...    ...  \n",
       "17694594  1985-12-01  SUBLETTE    Wyoming   west  \n",
       "17695519  1986-12-01  SUBLETTE    Wyoming   west  \n",
       "17699560  1986-07-01  SUBLETTE    Wyoming   west  \n",
       "17708059  1986-12-01  SUBLETTE    Wyoming   west  \n",
       "17712438  1986-12-01  SUBLETTE    Wyoming   west  \n",
       "\n",
       "[2792 rows x 9 columns]"
      ]
     },
     "execution_count": 9,
     "metadata": {},
     "output_type": "execute_result"
    }
   ],
   "source": [
    "invalid_api_numbers_production = raw_datasets['well_production'][~raw_datasets['well_production']['api_no_10'].str.contains(api_pattern, na=False)]\n",
    "\n",
    "invalid_api_numbers_production"
   ]
  },
  {
   "cell_type": "markdown",
   "id": "8229cd28-0a87-435e-9774-83fca3ee7961",
   "metadata": {},
   "source": [
    "There are a fair few invalid api numbers, and from a superficial inspection, all seem to be from the state of Wyoming, so let's check if all of them are (if so, we can simply drop this subset since we are focused on Texas)"
   ]
  },
  {
   "cell_type": "code",
   "execution_count": 16,
   "id": "da56f372-b2f1-4438-a059-eeb8a50b3811",
   "metadata": {},
   "outputs": [
    {
     "data": {
      "text/plain": [
       "sub_region\n",
       "Wyoming    2792\n",
       "Name: count, dtype: int64"
      ]
     },
     "execution_count": 16,
     "metadata": {},
     "output_type": "execute_result"
    }
   ],
   "source": [
    "invalid_api_numbers_production['sub_region'].value_counts()"
   ]
  },
  {
   "cell_type": "markdown",
   "id": "72d1c276-eba2-4d02-90f4-f06319551e50",
   "metadata": {},
   "source": [
    "Our suspicion was confirmed, so let's just drop this data:"
   ]
  },
  {
   "cell_type": "code",
   "execution_count": 10,
   "id": "f937e176-93a1-4ce6-998d-18f778129c07",
   "metadata": {},
   "outputs": [
    {
     "data": {
      "text/plain": [
       "(17722083, 9)"
      ]
     },
     "execution_count": 10,
     "metadata": {},
     "output_type": "execute_result"
    }
   ],
   "source": [
    "raw_datasets['well_production'] = raw_datasets['well_production'][raw_datasets['well_production']['api_no_10'].str.contains(api_pattern, na=False)].copy()\n",
    "raw_datasets['well_production'].shape"
   ]
  },
  {
   "cell_type": "markdown",
   "id": "53479dc3-56e8-48af-8a22-d7402eb7b478",
   "metadata": {},
   "source": [
    "17724875-17722083=2792, so that checks out"
   ]
  },
  {
   "cell_type": "code",
   "execution_count": 11,
   "id": "da757d3e-c035-43a0-b97a-174282b8a6cc",
   "metadata": {},
   "outputs": [
    {
     "data": {
      "text/html": [
       "<div>\n",
       "<style scoped>\n",
       "    .dataframe tbody tr th:only-of-type {\n",
       "        vertical-align: middle;\n",
       "    }\n",
       "\n",
       "    .dataframe tbody tr th {\n",
       "        vertical-align: top;\n",
       "    }\n",
       "\n",
       "    .dataframe thead th {\n",
       "        text-align: right;\n",
       "    }\n",
       "</style>\n",
       "<table border=\"1\" class=\"dataframe\">\n",
       "  <thead>\n",
       "    <tr style=\"text-align: right;\">\n",
       "      <th></th>\n",
       "      <th>api_no_10</th>\n",
       "      <th>operator_name</th>\n",
       "      <th>lon_surface</th>\n",
       "      <th>lat_surface</th>\n",
       "      <th>lon_bottomhole</th>\n",
       "      <th>lat_bottomhole</th>\n",
       "      <th>elevation_ground</th>\n",
       "      <th>depth_tvd</th>\n",
       "      <th>lower_perf</th>\n",
       "      <th>upper_perf</th>\n",
       "      <th>measured_depth</th>\n",
       "      <th>horizontal_length</th>\n",
       "      <th>wellbore_type</th>\n",
       "      <th>field_name</th>\n",
       "      <th>township</th>\n",
       "      <th>section</th>\n",
       "      <th>range</th>\n",
       "      <th>county_name</th>\n",
       "      <th>sub_region</th>\n",
       "    </tr>\n",
       "  </thead>\n",
       "  <tbody>\n",
       "  </tbody>\n",
       "</table>\n",
       "</div>"
      ],
      "text/plain": [
       "Empty DataFrame\n",
       "Columns: [api_no_10, operator_name, lon_surface, lat_surface, lon_bottomhole, lat_bottomhole, elevation_ground, depth_tvd, lower_perf, upper_perf, measured_depth, horizontal_length, wellbore_type, field_name, township, section, range, county_name, sub_region]\n",
       "Index: []"
      ]
     },
     "execution_count": 11,
     "metadata": {},
     "output_type": "execute_result"
    }
   ],
   "source": [
    "invalid_api_numbers_properties = raw_datasets['well_properties'][~raw_datasets['well_properties']['api_no_10'].str.contains(api_pattern, na=False)]\n",
    "\n",
    "invalid_api_numbers_properties"
   ]
  },
  {
   "cell_type": "markdown",
   "id": "ab395bce-164e-44b7-80f5-f515865b67f8",
   "metadata": {},
   "source": [
    "No problems there, so let's check the formations:"
   ]
  },
  {
   "cell_type": "code",
   "execution_count": 12,
   "id": "76d1cdcf-da01-4642-8000-ca2258bd914c",
   "metadata": {},
   "outputs": [
    {
     "data": {
      "text/html": [
       "<div>\n",
       "<style scoped>\n",
       "    .dataframe tbody tr th:only-of-type {\n",
       "        vertical-align: middle;\n",
       "    }\n",
       "\n",
       "    .dataframe tbody tr th {\n",
       "        vertical-align: top;\n",
       "    }\n",
       "\n",
       "    .dataframe thead th {\n",
       "        text-align: right;\n",
       "    }\n",
       "</style>\n",
       "<table border=\"1\" class=\"dataframe\">\n",
       "  <thead>\n",
       "    <tr style=\"text-align: right;\">\n",
       "      <th></th>\n",
       "      <th>api_no_10</th>\n",
       "      <th>formation</th>\n",
       "      <th>basin</th>\n",
       "    </tr>\n",
       "  </thead>\n",
       "  <tbody>\n",
       "  </tbody>\n",
       "</table>\n",
       "</div>"
      ],
      "text/plain": [
       "Empty DataFrame\n",
       "Columns: [api_no_10, formation, basin]\n",
       "Index: []"
      ]
     },
     "execution_count": 12,
     "metadata": {},
     "output_type": "execute_result"
    }
   ],
   "source": [
    "invalid_api_numbers_formations = raw_datasets['well_formations'][~raw_datasets['well_formations']['api_no_10'].str.contains(api_pattern, na=False)]\n",
    "\n",
    "invalid_api_numbers_formations"
   ]
  },
  {
   "cell_type": "markdown",
   "id": "f71528b1-1641-4756-b77a-00b6789c776b",
   "metadata": {},
   "source": [
    "In that case, we've done what we can to ensure that the wells have a standardized API number for all future join operations that will need an index.\n",
    "\n",
    "Now let's get into scoping out more comprehensive data definitions:"
   ]
  },
  {
   "cell_type": "markdown",
   "id": "5dc40d5f-6e35-4d3b-ae95-3fcf57a1e573",
   "metadata": {},
   "source": [
    "### Data Quality Assessment <a id=\"Quality\"></a>"
   ]
  },
  {
   "cell_type": "code",
   "execution_count": 42,
   "id": "95e8432b-e8dc-434d-b446-2373ef450231",
   "metadata": {},
   "outputs": [],
   "source": [
    "def comprehensive_data_overview(datasets):\n",
    "    \"\"\"\n",
    "    Provide comprehensive overview of all datasets including data types,\n",
    "    missing values, and basic statistics.\n",
    "    \n",
    "    Args:\n",
    "        datasets (dict): Dictionary of DataFrames to analyze\n",
    "    \"\"\"\n",
    "    for name, df in datasets.items():\n",
    "        print(f\"\\n{'='*60}\")\n",
    "        print(f\"DATASET: {name.upper()}\")\n",
    "        print(f\"{'='*60}\")\n",
    "        \n",
    "        # Shape\n",
    "        print(f\"Shape: {df.shape}\")\n",
    "        \n",
    "        # Column information\n",
    "        print(f\"\\nColumn Overview:\")\n",
    "        print(f\"{'Column':<25} {'Type':<15} {'Non-Null':<10} {'Unique':<10} {'Missing %':<10}\")\n",
    "        print(\"-\" * 80)\n",
    "        \n",
    "        for col in df.columns:\n",
    "            dtype = str(df[col].dtype)\n",
    "            non_null = df[col].count()\n",
    "            unique_count = df[col].nunique()\n",
    "            missing_pct = (df[col].isnull().sum() / len(df)) * 100\n",
    "            \n",
    "            print(f\"{col:<25} {dtype:<15} {non_null:<10} {unique_count:<10} {missing_pct:<10.1f}%\")\n",
    "        \n",
    "        # Date/time columns detection\n",
    "        potential_date_cols = [col for col in df.columns if \n",
    "                              any(keyword in col.lower() for keyword in \n",
    "                                  ['date', 'time', 'year', 'month', 'spud', 'completion'])]\n",
    "        if potential_date_cols:\n",
    "            print(f\"\\nPotential date/time columns: {potential_date_cols}\")\n",
    "            \n",
    "        # Coordinate columns detection\n",
    "        coord_cols = [col for col in df.columns if \n",
    "                     any(keyword in col.lower() for keyword in \n",
    "                         ['lat', 'lon', 'longitude', 'latitude', 'surface', 'bottom'])]\n",
    "        if coord_cols:\n",
    "            print(f\"\\nCoordinate columns: {coord_cols}\")\n",
    "        \n",
    "        # Production-related columns (for well_production dataset)\n",
    "        if 'production' in name.lower():\n",
    "            prod_cols = [col for col in df.columns if \n",
    "                        any(keyword in col.lower() for keyword in \n",
    "                            ['oil', 'gas', 'water', 'bbl', 'mcf', 'prod', 'volume'])]\n",
    "            if prod_cols:\n",
    "                print(f\"\\nProduction columns: {prod_cols}\")\n",
    "        \n",
    "        # Formation-related columns (for well_formations dataset)\n",
    "        if 'formation' in name.lower():\n",
    "            form_cols = [col for col in df.columns if \n",
    "                        any(keyword in col.lower() for keyword in \n",
    "                            ['formation', 'zone', 'reservoir', 'rock', 'geology', 'basin'])]\n",
    "            if form_cols:\n",
    "                print(f\"\\nFormation columns: {form_cols}\")\n",
    "        \n",
    "        # Well properties columns\n",
    "        if 'properties' in name.lower() or 'props' in name.lower():\n",
    "            prop_cols = [col for col in df.columns if \n",
    "                        any(keyword in col.lower() for keyword in \n",
    "                            ['depth', 'length', 'horizontal', 'vertical', 'lateral', 'completion', 'wellbore', 'field', 'county', 'region'])]\n",
    "            if prop_cols:\n",
    "                print(f\"\\nWell property columns: {prop_cols}\")"
   ]
  },
  {
   "cell_type": "code",
   "execution_count": 27,
   "id": "2d885704-6001-4c96-9581-09d675e4f477",
   "metadata": {},
   "outputs": [
    {
     "name": "stdout",
     "output_type": "stream",
     "text": [
      "\n",
      "============================================================\n",
      "DATASET: WELL_PRODUCTION\n",
      "============================================================\n",
      "Shape: (17722083, 9)\n",
      "\n",
      "Column Overview:\n",
      "Column                    Type            Non-Null   Unique     Missing % \n",
      "--------------------------------------------------------------------------------\n",
      "date_prod                 datetime64[ms]  17722083   472        0.0       %\n",
      "api_no_10                 object          17722083   430661     0.0       %\n",
      "gas_monthly               float64         17722083   130811     0.0       %\n",
      "oil_monthly               float64         17722083   38712      0.0       %\n",
      "production_month          int64           17722083   473        0.0       %\n",
      "start_date                object          17719431   387        0.0       %\n",
      "county                    object          17722083   227        0.0       %\n",
      "sub_region                object          17722083   5          0.0       %\n",
      "region                    object          1320       1          100.0     %\n",
      "\n",
      "Potential date/time columns: ['date_prod', 'gas_monthly', 'oil_monthly', 'production_month', 'start_date']\n",
      "\n",
      "Production columns: ['date_prod', 'gas_monthly', 'oil_monthly', 'production_month']\n",
      "\n",
      "============================================================\n",
      "DATASET: WELL_PROPERTIES\n",
      "============================================================\n",
      "Shape: (430661, 19)\n",
      "\n",
      "Column Overview:\n",
      "Column                    Type            Non-Null   Unique     Missing % \n",
      "--------------------------------------------------------------------------------\n",
      "api_no_10                 object          430661     430661     0.0       %\n",
      "operator_name             object          430657     9646       0.0       %\n",
      "lon_surface               float64         428394     413100     0.5       %\n",
      "lat_surface               float64         428394     405946     0.5       %\n",
      "lon_bottomhole            object          428382     414990     0.5       %\n",
      "lat_bottomhole            object          428382     409858     0.5       %\n",
      "elevation_ground          object          0          0          100.0     %\n",
      "depth_tvd                 float64         32733      9812       92.4      %\n",
      "lower_perf                object          0          0          100.0     %\n",
      "upper_perf                object          0          0          100.0     %\n",
      "measured_depth            object          391995     16379      9.0       %\n",
      "horizontal_length         float64         102008     97121      76.3      %\n",
      "wellbore_type             object          428462     3          0.5       %\n",
      "field_name                object          429374     19895      0.3       %\n",
      "township                  object          0          0          100.0     %\n",
      "section                   object          0          0          100.0     %\n",
      "range                     object          0          0          100.0     %\n",
      "county_name               object          430661     227        0.0       %\n",
      "sub_region                object          430658     5          0.0       %\n",
      "\n",
      "Coordinate columns: ['lon_surface', 'lat_surface', 'lon_bottomhole', 'lat_bottomhole']\n",
      "\n",
      "Well property columns: ['depth_tvd', 'measured_depth', 'horizontal_length', 'wellbore_type', 'field_name', 'county_name', 'sub_region']\n",
      "\n",
      "============================================================\n",
      "DATASET: WELL_FORMATIONS\n",
      "============================================================\n",
      "Shape: (382132, 3)\n",
      "\n",
      "Column Overview:\n",
      "Column                    Type            Non-Null   Unique     Missing % \n",
      "--------------------------------------------------------------------------------\n",
      "api_no_10                 object          382132     382132     0.0       %\n",
      "formation                 object          382132     25         0.0       %\n",
      "basin                     object          382132     4          0.0       %\n",
      "\n",
      "Formation columns: ['formation', 'basin']\n"
     ]
    }
   ],
   "source": [
    "comprehensive_data_overview(raw_datasets)"
   ]
  },
  {
   "cell_type": "markdown",
   "id": "9f64c6d5-5f9b-44ea-b1f3-bc5dcb330203",
   "metadata": {},
   "source": [
    "Some notes and thoughts about the above that might be relevant later:\n",
    "\n",
    "In general, there are more missing values that it seemed from .info(), because \"is_null\" seems to pick up more of them\n",
    "\n",
    "WELL_PRODUCTION:\n",
    "- Two columns have missing data, start_date (which has almost no data missing) and region (which has nearly all data missing), region likely doesn't matter because sub_region seems to indicate the state, which is the main large region boundary we are concerned with, so I can probably drop region and find a way to impute start_date (maybe based on the first dates I have for the wells in question, or based on other average patterns in the dataset, or something else)\n",
    "- the data has 472 unique monthly values so that's most likely roughly 40 years of data\n",
    "\n",
    "WELL_PROPERTIES:\n",
    "- we already saw that most columns had at least a few missing values, so that's mostly not noteworthy\n",
    "- I note that sub-region has 5 values though (with a tiny few missing), so we will want to make sure all of those are within Texas in addition to performing geospatial validation of the data (and that might help fill the missing data)\n",
    "- operator name has a very high number of values, but not entirely unique (like a class with nearly 10000 values), there are probably too many classes in a feature like that to be useful, it would be good to look into clustering it based on relationship to targets, or even just to examine the unique values to see if a smaller portion dominates and there just turns out to be a lot of very small unique one's that don't matter much\n",
    "- the same appplies to field name and somewhat to county_name, it is a class with a huge number of values, we need to narrow these classes down into fewer that contain more information\n",
    "- we don't want to miss lat/lon values and we should also see if the missing values co-occur (same with measured_depth. and maybe also with depth_tvd but that one will be harder because it's almost entirely missing)\n",
    "- horizontal length is mostly missing but that might make sense just based on the type of drilling being done so we'll need to investigate that, and indeed there are only 3 wellbore types so that feature will help us investigate it, so are missing but might be able to be imputed based on having other features like horizontal length or by comparing the production values to the wellbore types and seeing where they cluster\n",
    "\n",
    "WELL_FORMATION:\n",
    "- There are no missing values and the columns don't have too many features, so I should just investigate the classes a little more closely\n",
    "\n",
    "...\n",
    "\n",
    "Before moving on, I'll run one more comprehensive check for missing values and duplicates so we're in a good place to assess the rest of the data"
   ]
  },
  {
   "cell_type": "code",
   "execution_count": 43,
   "id": "549350eb-7cfe-490c-bd2a-7c74dab51aaf",
   "metadata": {},
   "outputs": [],
   "source": [
    "def data_quality_assessment(datasets):\n",
    "    \"\"\"\n",
    "    Comprehensive data quality assessment including missing values,\n",
    "    duplicates, and data consistency checks.\n",
    "    \"\"\"\n",
    "    quality_report = {}\n",
    "    \n",
    "    for name, df in datasets.items():\n",
    "        print(f\"\\n{'='*50}\")\n",
    "        print(f\"DATA QUALITY ASSESSMENT: {name.upper()}\")\n",
    "        print(f\"{'='*50}\")\n",
    "        \n",
    "        # Missing values analysis\n",
    "        missing_data = df.isnull().sum()\n",
    "        missing_pct = (missing_data / len(df)) * 100\n",
    "        \n",
    "        print(\"Missing Values Analysis:\")\n",
    "        print(f\"{'Column':<25} {'Missing Count':<15} {'Missing %':<10}\")\n",
    "        print(\"-\" * 50)\n",
    "        \n",
    "        for col in df.columns:\n",
    "            miss_count = missing_data[col]\n",
    "            miss_pct = missing_pct[col]\n",
    "            if miss_count > 0:\n",
    "                print(f\"{col:<25} {miss_count:<15} {miss_pct:<10.1f}%\")\n",
    "        \n",
    "        # Overall missing data summary\n",
    "        total_missing = missing_data.sum()\n",
    "        total_cells = df.shape[0] * df.shape[1]\n",
    "        overall_missing_pct = (total_missing / total_cells) * 100\n",
    "        \n",
    "        print(f\"\\nOverall Missing Data Summary:\")\n",
    "        print(f\"  Total missing cells: {total_missing:,}\")\n",
    "        print(f\"  Total cells: {total_cells:,}\")\n",
    "        print(f\"  Overall missing percentage: {overall_missing_pct:.2f}%\")\n",
    "        \n",
    "        # Duplicate analysis\n",
    "        total_duplicates = df.duplicated().sum()\n",
    "        duplicate_pct = (total_duplicates / len(df)) * 100\n",
    "        \n",
    "        print(f\"\\nDuplicate Analysis:\")\n",
    "        print(f\"  Total duplicate rows: {total_duplicates}\")\n",
    "        print(f\"  Duplicate percentage: {duplicate_pct:.2f}%\")\n",
    "        \n",
    "        # API-specific duplicate analysis if API columns exist\n",
    "        api_cols = [col for col in df.columns if 'api' in col.lower()]\n",
    "        if api_cols:\n",
    "            api_col = api_cols[0]\n",
    "            api_duplicates = df[api_col].duplicated().sum()\n",
    "            print(f\"  API number duplicates: {api_duplicates}\")\n",
    "        \n",
    "        # Store quality metrics\n",
    "        quality_report[name] = {\n",
    "            'total_rows': len(df),\n",
    "            'total_missing': total_missing,\n",
    "            'missing_percentage': overall_missing_pct,\n",
    "            'duplicate_rows': total_duplicates,\n",
    "            'duplicate_percentage': duplicate_pct\n",
    "        }\n",
    "    \n",
    "    return quality_report"
   ]
  },
  {
   "cell_type": "code",
   "execution_count": 29,
   "id": "1010c50c-0698-44ae-8b43-01aa12607145",
   "metadata": {},
   "outputs": [
    {
     "name": "stdout",
     "output_type": "stream",
     "text": [
      "\n",
      "==================================================\n",
      "DATA QUALITY ASSESSMENT: WELL_PRODUCTION\n",
      "==================================================\n",
      "Missing Values Analysis:\n",
      "Column                    Missing Count   Missing % \n",
      "--------------------------------------------------\n",
      "start_date                2652            0.0       %\n",
      "region                    17720763        100.0     %\n",
      "\n",
      "Overall Missing Data Summary:\n",
      "  Total missing cells: 17,723,415\n",
      "  Total cells: 159,498,747\n",
      "  Overall missing percentage: 11.11%\n",
      "\n",
      "Duplicate Analysis:\n",
      "  Total duplicate rows: 0\n",
      "  Duplicate percentage: 0.00%\n",
      "  API number duplicates: 17291422\n",
      "\n",
      "==================================================\n",
      "DATA QUALITY ASSESSMENT: WELL_PROPERTIES\n",
      "==================================================\n",
      "Missing Values Analysis:\n",
      "Column                    Missing Count   Missing % \n",
      "--------------------------------------------------\n",
      "operator_name             4               0.0       %\n",
      "lon_surface               2267            0.5       %\n",
      "lat_surface               2267            0.5       %\n",
      "lon_bottomhole            2279            0.5       %\n",
      "lat_bottomhole            2279            0.5       %\n",
      "elevation_ground          430661          100.0     %\n",
      "depth_tvd                 397928          92.4      %\n",
      "lower_perf                430661          100.0     %\n",
      "upper_perf                430661          100.0     %\n",
      "measured_depth            38666           9.0       %\n",
      "horizontal_length         328653          76.3      %\n",
      "wellbore_type             2199            0.5       %\n",
      "field_name                1287            0.3       %\n",
      "township                  430661          100.0     %\n",
      "section                   430661          100.0     %\n",
      "range                     430661          100.0     %\n",
      "sub_region                3               0.0       %\n",
      "\n",
      "Overall Missing Data Summary:\n",
      "  Total missing cells: 3,361,798\n",
      "  Total cells: 8,182,559\n",
      "  Overall missing percentage: 41.08%\n",
      "\n",
      "Duplicate Analysis:\n",
      "  Total duplicate rows: 0\n",
      "  Duplicate percentage: 0.00%\n",
      "  API number duplicates: 0\n",
      "\n",
      "==================================================\n",
      "DATA QUALITY ASSESSMENT: WELL_FORMATIONS\n",
      "==================================================\n",
      "Missing Values Analysis:\n",
      "Column                    Missing Count   Missing % \n",
      "--------------------------------------------------\n",
      "\n",
      "Overall Missing Data Summary:\n",
      "  Total missing cells: 0\n",
      "  Total cells: 1,146,396\n",
      "  Overall missing percentage: 0.00%\n",
      "\n",
      "Duplicate Analysis:\n",
      "  Total duplicate rows: 0\n",
      "  Duplicate percentage: 0.00%\n",
      "  API number duplicates: 0\n"
     ]
    }
   ],
   "source": [
    "quality_report = data_quality_assessment(raw_datasets)"
   ]
  },
  {
   "cell_type": "markdown",
   "id": "0eff33c7-4042-42af-87f5-7408f39bf17e",
   "metadata": {},
   "source": [
    "There looks to be essentially no duplicate rows (the only thing that shows up duplicates in the api value is the production data but there should be duplicates there since it's time series data, it's looking at the same well throughout time)\n",
    "\n",
    "Looking at the counts is helpful though since it provides hints about the co-occurence of missing values:\n",
    "- lon and lat surface values have the same number of missing\n",
    "- long and lat bottom also have the same\n",
    "- the other are unique and don't tell us much by the value, so we'll need to investigate more closely to see if there are missing co-occurences which might inform our imputation strategy (except for the one's that are missing all of them but it's obvious that those would have identical counts)\n",
    "\n",
    "So the last thing I'm going to do for this step of Data Wrangling is examining each individual feature, to better understand its values, its distribution, and any missing values it tends to co-occur with so we can understand what other values we'll have available to impute it."
   ]
  },
  {
   "cell_type": "markdown",
   "id": "c5d4ae04-ee94-4b12-9762-085c6cf487a3",
   "metadata": {},
   "source": [
    "### Individual Column Assessment <a id=\"Column\"></a>"
   ]
  },
  {
   "cell_type": "markdown",
   "id": "63c670bc-a25c-483f-85b1-03e8a53a524d",
   "metadata": {},
   "source": [
    "#### Well Production <a id=\"Prod\"></a>"
   ]
  },
  {
   "cell_type": "code",
   "execution_count": 30,
   "id": "e3f36eac-1db1-49aa-8f27-00ed5bd51bc5",
   "metadata": {},
   "outputs": [
    {
     "data": {
      "text/plain": [
       "count                      17722083\n",
       "mean     2022-10-24 14:46:29.154000\n",
       "min             1986-01-01 00:00:00\n",
       "25%             2021-12-01 00:00:00\n",
       "50%             2022-11-01 00:00:00\n",
       "75%             2023-10-01 00:00:00\n",
       "max             2025-04-01 00:00:00\n",
       "Name: date_prod, dtype: object"
      ]
     },
     "execution_count": 30,
     "metadata": {},
     "output_type": "execute_result"
    }
   ],
   "source": [
    "raw_datasets['well_production']['date_prod'].describe()"
   ]
  },
  {
   "cell_type": "markdown",
   "id": "58fcd89e-1c2f-4fa6-a9dd-9b99cb573c92",
   "metadata": {},
   "source": [
    "This is a very noteworthy distribution, because the mean of our data is only 3 years ago, but the minimum of the data is all the way back in 1986. It's a heavily left-tailed distribution. We should visualize it:"
   ]
  },
  {
   "cell_type": "code",
   "execution_count": 33,
   "id": "182a5b6c-a879-49a7-b86e-3287af392f6f",
   "metadata": {},
   "outputs": [
    {
     "data": {
      "image/png": "[encoded data removed]",
      "text/plain": [
       "<Figure size 640x480 with 1 Axes>"
      ]
     },
     "metadata": {},
     "output_type": "display_data"
    }
   ],
   "source": [
    "raw_datasets['well_production'][['date_prod']].hist();"
   ]
  },
  {
   "cell_type": "markdown",
   "id": "ecc18a52-6e57-4852-afb5-0fdae5b780e3",
   "metadata": {},
   "source": [
    "Indeed, nearly all of the data is recent. It would be interesting to see how evenly distribution that data is on the massive left tail:"
   ]
  },
  {
   "cell_type": "code",
   "execution_count": 37,
   "id": "88c58d59-b15a-43ce-9ae6-5a24ad0d77f1",
   "metadata": {},
   "outputs": [
    {
     "data": {
      "image/png": "[encoded data removed]",
      "text/plain": [
       "<Figure size 640x480 with 1 Axes>"
      ]
     },
     "metadata": {},
     "output_type": "display_data"
    }
   ],
   "source": [
    "Pre2020 = raw_datasets['well_production'][raw_datasets['well_production']['date_prod'] < \"2020-01-01\"]\n",
    "Pre2020[['date_prod']].hist(bins=32);"
   ]
  },
  {
   "cell_type": "code",
   "execution_count": 38,
   "id": "30749ca2-4e63-4da9-ba98-958d8bba1b4e",
   "metadata": {},
   "outputs": [
    {
     "data": {
      "image/png": "[encoded data removed]",
      "text/plain": [
       "<Figure size 640x480 with 1 Axes>"
      ]
     },
     "metadata": {},
     "output_type": "display_data"
    }
   ],
   "source": [
    "Post2020 = raw_datasets['well_production'][raw_datasets['well_production']['date_prod'] >= \"2020-01-01\"]\n",
    "Post2020[['date_prod']].hist(bins=6);"
   ]
  },
  {
   "cell_type": "markdown",
   "id": "d2acea5e-b0e6-4d3f-aa83-40902af1e317",
   "metadata": {},
   "source": [
    "So before 2020, we had something in the ballpark of 25 to 40 well production readings per year, and now it's climbed to millions per year, mainly in 2021 it seems since in 2020 there seems to have been somewhat of a decline due to covid"
   ]
  },
  {
   "cell_type": "code",
   "execution_count": 40,
   "id": "f085b1e9-770d-4345-a994-ed32b91290e0",
   "metadata": {},
   "outputs": [
    {
     "data": {
      "text/plain": [
       "count\n",
       "3         329\n",
       "2          96\n",
       "393049      1\n",
       "395589      1\n",
       "395311      1\n",
       "394995      1\n",
       "394832      1\n",
       "394461      1\n",
       "394165      1\n",
       "394030      1\n",
       "393600      1\n",
       "393462      1\n",
       "392936      1\n",
       "395783      1\n",
       "392911      1\n",
       "392654      1\n",
       "392491      1\n",
       "392114      1\n",
       "391734      1\n",
       "391445      1\n",
       "156817      1\n",
       "63563       1\n",
       "63109       1\n",
       "395619      1\n",
       "400638      1\n",
       "400500      1\n",
       "396301      1\n",
       "400486      1\n",
       "400218      1\n",
       "399954      1\n",
       "399819      1\n",
       "399492      1\n",
       "399285      1\n",
       "399135      1\n",
       "398613      1\n",
       "398514      1\n",
       "398468      1\n",
       "397910      1\n",
       "397680      1\n",
       "397407      1\n",
       "397401      1\n",
       "397240      1\n",
       "397194      1\n",
       "397071      1\n",
       "396961      1\n",
       "396784      1\n",
       "396637      1\n",
       "396502      1\n",
       "396024      1\n",
       "Name: count, dtype: int64"
      ]
     },
     "execution_count": 40,
     "metadata": {},
     "output_type": "execute_result"
    }
   ],
   "source": [
    "raw_datasets['well_production']['date_prod'].value_counts().value_counts()"
   ]
  },
  {
   "cell_type": "markdown",
   "id": "a88555aa-2ef9-4c26-b54f-6730da35dffe",
   "metadata": {},
   "source": [
    "So nearly every datetime period has only 2 or 3 values (or wells) that it has data for, and then there is a huge spike, probably in 2021."
   ]
  },
  {
   "cell_type": "code",
   "execution_count": 42,
   "id": "dc9ee175-e83a-493b-8d2b-ccbc34196d9d",
   "metadata": {},
   "outputs": [
    {
     "data": {
      "text/plain": [
       "count\n",
       "3    312\n",
       "2     96\n",
       "Name: count, dtype: int64"
      ]
     },
     "execution_count": 42,
     "metadata": {},
     "output_type": "execute_result"
    }
   ],
   "source": [
    "Pre2020['date_prod'].value_counts().value_counts()"
   ]
  },
  {
   "cell_type": "code",
   "execution_count": 45,
   "id": "35475d41-4b11-4b02-b5dd-04f72b79769c",
   "metadata": {},
   "outputs": [
    {
     "data": {
      "text/plain": [
       "date_prod\n",
       "2024-09-01    156817\n",
       "2024-11-01     63563\n",
       "2024-10-01     63109\n",
       "2020-10-01         3\n",
       "2020-12-01         3\n",
       "2025-02-01         3\n",
       "2025-01-01         3\n",
       "2025-03-01         3\n",
       "2024-12-01         3\n",
       "2020-06-01         3\n",
       "2020-09-01         3\n",
       "2020-05-01         3\n",
       "2020-03-01         3\n",
       "2020-01-01         3\n",
       "2020-08-01         3\n",
       "2020-11-01         3\n",
       "2020-04-01         3\n",
       "2020-07-01         3\n",
       "2020-02-01         3\n",
       "2025-04-01         3\n",
       "Name: count, dtype: int64"
      ]
     },
     "execution_count": 45,
     "metadata": {},
     "output_type": "execute_result"
    }
   ],
   "source": [
    "Post2020['date_prod'].value_counts().tail(20)"
   ]
  },
  {
   "cell_type": "markdown",
   "id": "73e22570-6e89-4089-8f8a-6195489e8160",
   "metadata": {},
   "source": [
    "All 12 months of 2020 are before the spike as well, and the last month of 2024 and the last 4 months of 2025 are back down to pre-spike levels (maybe it's just an artifact of data availability)\n",
    "\n",
    "Almost ALL of our data is from the years 2021 through 2024"
   ]
  },
  {
   "cell_type": "code",
   "execution_count": 46,
   "id": "43e34a29-c3bd-4436-bdf8-164b4ba350d4",
   "metadata": {},
   "outputs": [
    {
     "data": {
      "text/plain": [
       "count    1.772208e+07\n",
       "mean     2.567404e+03\n",
       "std      2.131087e+04\n",
       "min      0.000000e+00\n",
       "25%      0.000000e+00\n",
       "50%      3.800000e+01\n",
       "75%      6.890000e+02\n",
       "max      1.614492e+07\n",
       "Name: gas_monthly, dtype: float64"
      ]
     },
     "execution_count": 46,
     "metadata": {},
     "output_type": "execute_result"
    }
   ],
   "source": [
    "raw_datasets['well_production']['gas_monthly'].describe()"
   ]
  },
  {
   "cell_type": "code",
   "execution_count": 13,
   "id": "b3b68724-307e-45e0-8b2b-fc9b4eb38821",
   "metadata": {},
   "outputs": [],
   "source": [
    "pd.set_option('display.float_format', lambda x: '%.2f' % x)"
   ]
  },
  {
   "cell_type": "code",
   "execution_count": 48,
   "id": "500acf5f-645e-4b35-b70e-e698a63da78a",
   "metadata": {},
   "outputs": [
    {
     "data": {
      "text/plain": [
       "count   17722083.00\n",
       "mean        2567.40\n",
       "std        21310.87\n",
       "min            0.00\n",
       "25%            0.00\n",
       "50%           38.00\n",
       "75%          689.00\n",
       "max     16144920.00\n",
       "Name: gas_monthly, dtype: float64"
      ]
     },
     "execution_count": 48,
     "metadata": {},
     "output_type": "execute_result"
    }
   ],
   "source": [
    "raw_datasets['well_production']['gas_monthly'].describe()"
   ]
  },
  {
   "cell_type": "code",
   "execution_count": 51,
   "id": "03509c16-eec0-497d-b00e-2e48e3bd4cb9",
   "metadata": {},
   "outputs": [
    {
     "data": {
      "text/plain": [
       "count                      17720904\n",
       "mean     2022-10-25 01:15:43.008000\n",
       "min             2021-01-01 00:00:00\n",
       "25%             2021-12-01 00:00:00\n",
       "50%             2022-11-01 00:00:00\n",
       "75%             2023-10-01 00:00:00\n",
       "max             2024-11-01 00:00:00\n",
       "Name: date_prod, dtype: object"
      ]
     },
     "execution_count": 51,
     "metadata": {},
     "output_type": "execute_result"
    }
   ],
   "source": [
    "spike_period = raw_datasets['well_production'][(raw_datasets['well_production']['date_prod'] >= \"2021-01-01\") & (raw_datasets['well_production']['date_prod'] < \"2024-12-01\")]\n",
    "spike_period['date_prod'].describe()"
   ]
  },
  {
   "cell_type": "code",
   "execution_count": 52,
   "id": "942802b9-9956-48eb-a28c-243670c08d19",
   "metadata": {},
   "outputs": [
    {
     "data": {
      "text/plain": [
       "count   17720904.00\n",
       "mean        2481.80\n",
       "std        18220.70\n",
       "min            0.00\n",
       "25%            0.00\n",
       "50%           38.00\n",
       "75%          689.00\n",
       "max     16144920.00\n",
       "Name: gas_monthly, dtype: float64"
      ]
     },
     "execution_count": 52,
     "metadata": {},
     "output_type": "execute_result"
    }
   ],
   "source": [
    "spike_period['gas_monthly'].describe()"
   ]
  },
  {
   "cell_type": "markdown",
   "id": "b57e24d9-ce1f-49d8-bd4b-3297aa5bb325",
   "metadata": {},
   "source": [
    "Even in the spike period, it turns out that lots of months have very low values or even no values for gas monthly production, maybe this is just a consequence of reporting though"
   ]
  },
  {
   "cell_type": "code",
   "execution_count": 53,
   "id": "8cbd56be-1ed5-41d9-b88e-911e700ba8fa",
   "metadata": {},
   "outputs": [
    {
     "data": {
      "text/plain": [
       "count   17720904.00\n",
       "mean        2481.80\n",
       "std        18220.70\n",
       "min            0.00\n",
       "10%            0.00\n",
       "20%            0.00\n",
       "30%            1.00\n",
       "40%           10.00\n",
       "50%           38.00\n",
       "60%          126.00\n",
       "70%          398.00\n",
       "80%         1202.00\n",
       "90%         4183.00\n",
       "max     16144920.00\n",
       "Name: gas_monthly, dtype: float64"
      ]
     },
     "execution_count": 53,
     "metadata": {},
     "output_type": "execute_result"
    }
   ],
   "source": [
    "spike_period['gas_monthly'].describe(percentiles=[0.1, 0.2, 0.3, 0.4, 0.5, 0.6, 0.7, 0.8, 0.9])"
   ]
  },
  {
   "cell_type": "markdown",
   "id": "eb3ce5ae-7772-4440-8439-3cf50bf533f9",
   "metadata": {},
   "source": [
    "And the max value is quite an anomoly even compared to the 90 percentile, which could mean it's the result of fracking practices which have high early productivity. I should investigate that by figuring out where that occurs and how many other anomolous values like that there are:"
   ]
  },
  {
   "cell_type": "code",
   "execution_count": 55,
   "id": "a2e83136-bff1-425a-b407-65ae5820431c",
   "metadata": {},
   "outputs": [
    {
     "data": {
      "text/html": [
       "<div>\n",
       "<style scoped>\n",
       "    .dataframe tbody tr th:only-of-type {\n",
       "        vertical-align: middle;\n",
       "    }\n",
       "\n",
       "    .dataframe tbody tr th {\n",
       "        vertical-align: top;\n",
       "    }\n",
       "\n",
       "    .dataframe thead th {\n",
       "        text-align: right;\n",
       "    }\n",
       "</style>\n",
       "<table border=\"1\" class=\"dataframe\">\n",
       "  <thead>\n",
       "    <tr style=\"text-align: right;\">\n",
       "      <th></th>\n",
       "      <th>date_prod</th>\n",
       "      <th>api_no_10</th>\n",
       "      <th>gas_monthly</th>\n",
       "      <th>oil_monthly</th>\n",
       "      <th>production_month</th>\n",
       "      <th>start_date</th>\n",
       "      <th>county</th>\n",
       "      <th>sub_region</th>\n",
       "      <th>region</th>\n",
       "    </tr>\n",
       "  </thead>\n",
       "  <tbody>\n",
       "    <tr>\n",
       "      <th>9855698</th>\n",
       "      <td>2023-04-01</td>\n",
       "      <td>4220335531</td>\n",
       "      <td>16144920.00</td>\n",
       "      <td>0.00</td>\n",
       "      <td>2</td>\n",
       "      <td>2023-03-01</td>\n",
       "      <td>HARRISON</td>\n",
       "      <td>Haynesville - TX</td>\n",
       "      <td>None</td>\n",
       "    </tr>\n",
       "    <tr>\n",
       "      <th>796330</th>\n",
       "      <td>2023-05-01</td>\n",
       "      <td>4220335531</td>\n",
       "      <td>14510120.00</td>\n",
       "      <td>0.00</td>\n",
       "      <td>3</td>\n",
       "      <td>2023-03-01</td>\n",
       "      <td>HARRISON</td>\n",
       "      <td>Haynesville - TX</td>\n",
       "      <td>None</td>\n",
       "    </tr>\n",
       "    <tr>\n",
       "      <th>13453280</th>\n",
       "      <td>2023-03-01</td>\n",
       "      <td>4220335531</td>\n",
       "      <td>12883440.00</td>\n",
       "      <td>0.00</td>\n",
       "      <td>1</td>\n",
       "      <td>2023-03-01</td>\n",
       "      <td>HARRISON</td>\n",
       "      <td>Haynesville - TX</td>\n",
       "      <td>None</td>\n",
       "    </tr>\n",
       "    <tr>\n",
       "      <th>17630797</th>\n",
       "      <td>2023-06-01</td>\n",
       "      <td>4220335531</td>\n",
       "      <td>12432120.00</td>\n",
       "      <td>0.00</td>\n",
       "      <td>4</td>\n",
       "      <td>2023-03-01</td>\n",
       "      <td>HARRISON</td>\n",
       "      <td>Haynesville - TX</td>\n",
       "      <td>None</td>\n",
       "    </tr>\n",
       "    <tr>\n",
       "      <th>16458519</th>\n",
       "      <td>2023-07-01</td>\n",
       "      <td>4220335531</td>\n",
       "      <td>11653520.00</td>\n",
       "      <td>0.00</td>\n",
       "      <td>5</td>\n",
       "      <td>2023-03-01</td>\n",
       "      <td>HARRISON</td>\n",
       "      <td>Haynesville - TX</td>\n",
       "      <td>None</td>\n",
       "    </tr>\n",
       "    <tr>\n",
       "      <th>5766779</th>\n",
       "      <td>2023-08-01</td>\n",
       "      <td>4220335531</td>\n",
       "      <td>10453240.00</td>\n",
       "      <td>0.00</td>\n",
       "      <td>6</td>\n",
       "      <td>2023-03-01</td>\n",
       "      <td>HARRISON</td>\n",
       "      <td>Haynesville - TX</td>\n",
       "      <td>None</td>\n",
       "    </tr>\n",
       "    <tr>\n",
       "      <th>7999771</th>\n",
       "      <td>2023-09-01</td>\n",
       "      <td>4220335531</td>\n",
       "      <td>9251360.00</td>\n",
       "      <td>0.00</td>\n",
       "      <td>7</td>\n",
       "      <td>2023-03-01</td>\n",
       "      <td>HARRISON</td>\n",
       "      <td>Haynesville - TX</td>\n",
       "      <td>None</td>\n",
       "    </tr>\n",
       "    <tr>\n",
       "      <th>3742723</th>\n",
       "      <td>2023-10-01</td>\n",
       "      <td>4220335531</td>\n",
       "      <td>8484760.00</td>\n",
       "      <td>0.00</td>\n",
       "      <td>8</td>\n",
       "      <td>2023-03-01</td>\n",
       "      <td>HARRISON</td>\n",
       "      <td>Haynesville - TX</td>\n",
       "      <td>None</td>\n",
       "    </tr>\n",
       "    <tr>\n",
       "      <th>9495095</th>\n",
       "      <td>2023-11-01</td>\n",
       "      <td>4220335531</td>\n",
       "      <td>7592120.00</td>\n",
       "      <td>0.00</td>\n",
       "      <td>9</td>\n",
       "      <td>2023-03-01</td>\n",
       "      <td>HARRISON</td>\n",
       "      <td>Haynesville - TX</td>\n",
       "      <td>None</td>\n",
       "    </tr>\n",
       "    <tr>\n",
       "      <th>3884731</th>\n",
       "      <td>2023-12-01</td>\n",
       "      <td>4220335531</td>\n",
       "      <td>7143800.00</td>\n",
       "      <td>0.00</td>\n",
       "      <td>10</td>\n",
       "      <td>2023-03-01</td>\n",
       "      <td>HARRISON</td>\n",
       "      <td>Haynesville - TX</td>\n",
       "      <td>None</td>\n",
       "    </tr>\n",
       "    <tr>\n",
       "      <th>3273171</th>\n",
       "      <td>2024-01-01</td>\n",
       "      <td>4220335531</td>\n",
       "      <td>6242640.00</td>\n",
       "      <td>0.00</td>\n",
       "      <td>11</td>\n",
       "      <td>2023-03-01</td>\n",
       "      <td>HARRISON</td>\n",
       "      <td>Haynesville - TX</td>\n",
       "      <td>None</td>\n",
       "    </tr>\n",
       "    <tr>\n",
       "      <th>7250696</th>\n",
       "      <td>2024-02-01</td>\n",
       "      <td>4220335531</td>\n",
       "      <td>5610640.00</td>\n",
       "      <td>0.00</td>\n",
       "      <td>12</td>\n",
       "      <td>2023-03-01</td>\n",
       "      <td>HARRISON</td>\n",
       "      <td>Haynesville - TX</td>\n",
       "      <td>None</td>\n",
       "    </tr>\n",
       "    <tr>\n",
       "      <th>10380483</th>\n",
       "      <td>2023-06-01</td>\n",
       "      <td>4212134605</td>\n",
       "      <td>5602280.00</td>\n",
       "      <td>0.00</td>\n",
       "      <td>1</td>\n",
       "      <td>2023-06-01</td>\n",
       "      <td>DENTON</td>\n",
       "      <td>Central - TX</td>\n",
       "      <td>None</td>\n",
       "    </tr>\n",
       "    <tr>\n",
       "      <th>16389780</th>\n",
       "      <td>2024-03-01</td>\n",
       "      <td>4220335531</td>\n",
       "      <td>5478000.00</td>\n",
       "      <td>0.00</td>\n",
       "      <td>13</td>\n",
       "      <td>2023-03-01</td>\n",
       "      <td>HARRISON</td>\n",
       "      <td>Haynesville - TX</td>\n",
       "      <td>None</td>\n",
       "    </tr>\n",
       "    <tr>\n",
       "      <th>12664980</th>\n",
       "      <td>2023-03-01</td>\n",
       "      <td>4229736275</td>\n",
       "      <td>5403200.00</td>\n",
       "      <td>1391600.00</td>\n",
       "      <td>1</td>\n",
       "      <td>2023-03-01</td>\n",
       "      <td>LIVE OAK</td>\n",
       "      <td>South - TX</td>\n",
       "      <td>None</td>\n",
       "    </tr>\n",
       "    <tr>\n",
       "      <th>12886140</th>\n",
       "      <td>2023-07-01</td>\n",
       "      <td>4212134605</td>\n",
       "      <td>5022320.00</td>\n",
       "      <td>0.00</td>\n",
       "      <td>2</td>\n",
       "      <td>2023-06-01</td>\n",
       "      <td>DENTON</td>\n",
       "      <td>Central - TX</td>\n",
       "      <td>None</td>\n",
       "    </tr>\n",
       "    <tr>\n",
       "      <th>13520513</th>\n",
       "      <td>2024-04-01</td>\n",
       "      <td>4220335531</td>\n",
       "      <td>4740640.00</td>\n",
       "      <td>0.00</td>\n",
       "      <td>14</td>\n",
       "      <td>2023-03-01</td>\n",
       "      <td>HARRISON</td>\n",
       "      <td>Haynesville - TX</td>\n",
       "      <td>None</td>\n",
       "    </tr>\n",
       "    <tr>\n",
       "      <th>12939648</th>\n",
       "      <td>2024-05-01</td>\n",
       "      <td>4220335531</td>\n",
       "      <td>4484960.00</td>\n",
       "      <td>0.00</td>\n",
       "      <td>15</td>\n",
       "      <td>2023-03-01</td>\n",
       "      <td>HARRISON</td>\n",
       "      <td>Haynesville - TX</td>\n",
       "      <td>None</td>\n",
       "    </tr>\n",
       "    <tr>\n",
       "      <th>1182240</th>\n",
       "      <td>2023-08-01</td>\n",
       "      <td>4212134605</td>\n",
       "      <td>4319880.00</td>\n",
       "      <td>0.00</td>\n",
       "      <td>3</td>\n",
       "      <td>2023-06-01</td>\n",
       "      <td>DENTON</td>\n",
       "      <td>Central - TX</td>\n",
       "      <td>None</td>\n",
       "    </tr>\n",
       "    <tr>\n",
       "      <th>741470</th>\n",
       "      <td>2023-04-01</td>\n",
       "      <td>4229736275</td>\n",
       "      <td>4261280.00</td>\n",
       "      <td>880160.00</td>\n",
       "      <td>2</td>\n",
       "      <td>2023-03-01</td>\n",
       "      <td>LIVE OAK</td>\n",
       "      <td>South - TX</td>\n",
       "      <td>None</td>\n",
       "    </tr>\n",
       "  </tbody>\n",
       "</table>\n",
       "</div>"
      ],
      "text/plain": [
       "          date_prod   api_no_10  gas_monthly  oil_monthly  production_month  \\\n",
       "9855698  2023-04-01  4220335531  16144920.00         0.00                 2   \n",
       "796330   2023-05-01  4220335531  14510120.00         0.00                 3   \n",
       "13453280 2023-03-01  4220335531  12883440.00         0.00                 1   \n",
       "17630797 2023-06-01  4220335531  12432120.00         0.00                 4   \n",
       "16458519 2023-07-01  4220335531  11653520.00         0.00                 5   \n",
       "5766779  2023-08-01  4220335531  10453240.00         0.00                 6   \n",
       "7999771  2023-09-01  4220335531   9251360.00         0.00                 7   \n",
       "3742723  2023-10-01  4220335531   8484760.00         0.00                 8   \n",
       "9495095  2023-11-01  4220335531   7592120.00         0.00                 9   \n",
       "3884731  2023-12-01  4220335531   7143800.00         0.00                10   \n",
       "3273171  2024-01-01  4220335531   6242640.00         0.00                11   \n",
       "7250696  2024-02-01  4220335531   5610640.00         0.00                12   \n",
       "10380483 2023-06-01  4212134605   5602280.00         0.00                 1   \n",
       "16389780 2024-03-01  4220335531   5478000.00         0.00                13   \n",
       "12664980 2023-03-01  4229736275   5403200.00   1391600.00                 1   \n",
       "12886140 2023-07-01  4212134605   5022320.00         0.00                 2   \n",
       "13520513 2024-04-01  4220335531   4740640.00         0.00                14   \n",
       "12939648 2024-05-01  4220335531   4484960.00         0.00                15   \n",
       "1182240  2023-08-01  4212134605   4319880.00         0.00                 3   \n",
       "741470   2023-04-01  4229736275   4261280.00    880160.00                 2   \n",
       "\n",
       "          start_date    county        sub_region region  \n",
       "9855698   2023-03-01  HARRISON  Haynesville - TX   None  \n",
       "796330    2023-03-01  HARRISON  Haynesville - TX   None  \n",
       "13453280  2023-03-01  HARRISON  Haynesville - TX   None  \n",
       "17630797  2023-03-01  HARRISON  Haynesville - TX   None  \n",
       "16458519  2023-03-01  HARRISON  Haynesville - TX   None  \n",
       "5766779   2023-03-01  HARRISON  Haynesville - TX   None  \n",
       "7999771   2023-03-01  HARRISON  Haynesville - TX   None  \n",
       "3742723   2023-03-01  HARRISON  Haynesville - TX   None  \n",
       "9495095   2023-03-01  HARRISON  Haynesville - TX   None  \n",
       "3884731   2023-03-01  HARRISON  Haynesville - TX   None  \n",
       "3273171   2023-03-01  HARRISON  Haynesville - TX   None  \n",
       "7250696   2023-03-01  HARRISON  Haynesville - TX   None  \n",
       "10380483  2023-06-01    DENTON      Central - TX   None  \n",
       "16389780  2023-03-01  HARRISON  Haynesville - TX   None  \n",
       "12664980  2023-03-01  LIVE OAK        South - TX   None  \n",
       "12886140  2023-06-01    DENTON      Central - TX   None  \n",
       "13520513  2023-03-01  HARRISON  Haynesville - TX   None  \n",
       "12939648  2023-03-01  HARRISON  Haynesville - TX   None  \n",
       "1182240   2023-06-01    DENTON      Central - TX   None  \n",
       "741470    2023-03-01  LIVE OAK        South - TX   None  "
      ]
     },
     "execution_count": 55,
     "metadata": {},
     "output_type": "execute_result"
    }
   ],
   "source": [
    "raw_datasets['well_production'].sort_values(by='gas_monthly', ascending=False).head(20)"
   ]
  },
  {
   "cell_type": "markdown",
   "id": "01866351-b904-4280-9502-dba11d7f1b39",
   "metadata": {},
   "source": [
    "The highest values are mostly from the same well, so it's not very anomalous, which is good, and we see a few other wells near that top spot as well\n",
    "\n",
    "We also see that some wells produce both gas and oil, whereas a lot produce just gas, so it makes sense that a lot of values would be 0. We might later want to sanity check more of the zero values when cleaning though, such as checking the zero values belong to wells that typically have zero values since some of them might show up as anomalies instead of more natural zeroes, due to reporting lapses for example"
   ]
  },
  {
   "cell_type": "code",
   "execution_count": 56,
   "id": "e9f199e8-63d1-4fce-a12f-bc66e03fdf5a",
   "metadata": {},
   "outputs": [
    {
     "data": {
      "text/plain": [
       "count   17722083.00\n",
       "mean         400.66\n",
       "std         2248.04\n",
       "min            0.00\n",
       "25%            0.00\n",
       "50%           18.00\n",
       "75%           94.00\n",
       "max      1391600.00\n",
       "Name: oil_monthly, dtype: float64"
      ]
     },
     "execution_count": 56,
     "metadata": {},
     "output_type": "execute_result"
    }
   ],
   "source": [
    "raw_datasets['well_production']['oil_monthly'].describe()"
   ]
  },
  {
   "cell_type": "code",
   "execution_count": 57,
   "id": "b577e785-9486-4b5c-be7b-46a1d3f4747c",
   "metadata": {},
   "outputs": [
    {
     "data": {
      "text/plain": [
       "count   17720904.00\n",
       "mean         400.69\n",
       "std         2248.12\n",
       "min            0.00\n",
       "10%            0.00\n",
       "20%            0.00\n",
       "30%            1.00\n",
       "40%            7.00\n",
       "50%           18.00\n",
       "60%           37.00\n",
       "70%           67.00\n",
       "80%          138.00\n",
       "90%          403.00\n",
       "max      1391600.00\n",
       "Name: oil_monthly, dtype: float64"
      ]
     },
     "execution_count": 57,
     "metadata": {},
     "output_type": "execute_result"
    }
   ],
   "source": [
    "spike_period['oil_monthly'].describe(percentiles=[0.1, 0.2, 0.3, 0.4, 0.5, 0.6, 0.7, 0.8, 0.9])"
   ]
  },
  {
   "cell_type": "markdown",
   "id": "8e860dd2-5a1f-499a-9983-7ec04098b1bf",
   "metadata": {},
   "source": [
    "The oil data shape looks very similar to the gas data shape, just with somewhat smaller values"
   ]
  },
  {
   "cell_type": "code",
   "execution_count": 58,
   "id": "ae5d8bb8-c100-4f59-af50-430162555589",
   "metadata": {},
   "outputs": [
    {
     "data": {
      "text/html": [
       "<div>\n",
       "<style scoped>\n",
       "    .dataframe tbody tr th:only-of-type {\n",
       "        vertical-align: middle;\n",
       "    }\n",
       "\n",
       "    .dataframe tbody tr th {\n",
       "        vertical-align: top;\n",
       "    }\n",
       "\n",
       "    .dataframe thead th {\n",
       "        text-align: right;\n",
       "    }\n",
       "</style>\n",
       "<table border=\"1\" class=\"dataframe\">\n",
       "  <thead>\n",
       "    <tr style=\"text-align: right;\">\n",
       "      <th></th>\n",
       "      <th>date_prod</th>\n",
       "      <th>api_no_10</th>\n",
       "      <th>gas_monthly</th>\n",
       "      <th>oil_monthly</th>\n",
       "      <th>production_month</th>\n",
       "      <th>start_date</th>\n",
       "      <th>county</th>\n",
       "      <th>sub_region</th>\n",
       "      <th>region</th>\n",
       "    </tr>\n",
       "  </thead>\n",
       "  <tbody>\n",
       "    <tr>\n",
       "      <th>12664980</th>\n",
       "      <td>2023-03-01</td>\n",
       "      <td>4229736275</td>\n",
       "      <td>5403200.00</td>\n",
       "      <td>1391600.00</td>\n",
       "      <td>1</td>\n",
       "      <td>2023-03-01</td>\n",
       "      <td>LIVE OAK</td>\n",
       "      <td>South - TX</td>\n",
       "      <td>None</td>\n",
       "    </tr>\n",
       "    <tr>\n",
       "      <th>741470</th>\n",
       "      <td>2023-04-01</td>\n",
       "      <td>4229736275</td>\n",
       "      <td>4261280.00</td>\n",
       "      <td>880160.00</td>\n",
       "      <td>2</td>\n",
       "      <td>2023-03-01</td>\n",
       "      <td>LIVE OAK</td>\n",
       "      <td>South - TX</td>\n",
       "      <td>None</td>\n",
       "    </tr>\n",
       "    <tr>\n",
       "      <th>614998</th>\n",
       "      <td>2022-10-01</td>\n",
       "      <td>4230135850</td>\n",
       "      <td>1422145.00</td>\n",
       "      <td>702988.00</td>\n",
       "      <td>3</td>\n",
       "      <td>2022-08-01</td>\n",
       "      <td>LOVING</td>\n",
       "      <td>West - TX</td>\n",
       "      <td>None</td>\n",
       "    </tr>\n",
       "    <tr>\n",
       "      <th>6953386</th>\n",
       "      <td>2023-05-01</td>\n",
       "      <td>4229736275</td>\n",
       "      <td>3766200.00</td>\n",
       "      <td>689240.00</td>\n",
       "      <td>3</td>\n",
       "      <td>2023-03-01</td>\n",
       "      <td>LIVE OAK</td>\n",
       "      <td>South - TX</td>\n",
       "      <td>None</td>\n",
       "    </tr>\n",
       "    <tr>\n",
       "      <th>8814153</th>\n",
       "      <td>2024-04-01</td>\n",
       "      <td>4247944838</td>\n",
       "      <td>0.00</td>\n",
       "      <td>540077.00</td>\n",
       "      <td>14</td>\n",
       "      <td>2023-03-01</td>\n",
       "      <td>WEBB</td>\n",
       "      <td>South - TX</td>\n",
       "      <td>None</td>\n",
       "    </tr>\n",
       "    <tr>\n",
       "      <th>16864707</th>\n",
       "      <td>2023-06-01</td>\n",
       "      <td>4229736275</td>\n",
       "      <td>3227640.00</td>\n",
       "      <td>511600.00</td>\n",
       "      <td>4</td>\n",
       "      <td>2023-03-01</td>\n",
       "      <td>LIVE OAK</td>\n",
       "      <td>South - TX</td>\n",
       "      <td>None</td>\n",
       "    </tr>\n",
       "    <tr>\n",
       "      <th>6681108</th>\n",
       "      <td>2021-10-01</td>\n",
       "      <td>4230135050</td>\n",
       "      <td>968375.00</td>\n",
       "      <td>472368.00</td>\n",
       "      <td>2</td>\n",
       "      <td>2021-09-01</td>\n",
       "      <td>LOVING</td>\n",
       "      <td>West - TX</td>\n",
       "      <td>None</td>\n",
       "    </tr>\n",
       "    <tr>\n",
       "      <th>14058231</th>\n",
       "      <td>2023-07-01</td>\n",
       "      <td>4229736275</td>\n",
       "      <td>3066720.00</td>\n",
       "      <td>444360.00</td>\n",
       "      <td>5</td>\n",
       "      <td>2023-03-01</td>\n",
       "      <td>LIVE OAK</td>\n",
       "      <td>South - TX</td>\n",
       "      <td>None</td>\n",
       "    </tr>\n",
       "    <tr>\n",
       "      <th>13214054</th>\n",
       "      <td>2022-07-01</td>\n",
       "      <td>4231743731</td>\n",
       "      <td>378890.00</td>\n",
       "      <td>424842.00</td>\n",
       "      <td>2</td>\n",
       "      <td>2022-06-01</td>\n",
       "      <td>MARTIN</td>\n",
       "      <td>West - TX</td>\n",
       "      <td>None</td>\n",
       "    </tr>\n",
       "    <tr>\n",
       "      <th>15591002</th>\n",
       "      <td>2024-04-01</td>\n",
       "      <td>4247944839</td>\n",
       "      <td>0.00</td>\n",
       "      <td>391266.00</td>\n",
       "      <td>14</td>\n",
       "      <td>2023-03-01</td>\n",
       "      <td>WEBB</td>\n",
       "      <td>South - TX</td>\n",
       "      <td>None</td>\n",
       "    </tr>\n",
       "    <tr>\n",
       "      <th>3760720</th>\n",
       "      <td>2023-06-01</td>\n",
       "      <td>4232945717</td>\n",
       "      <td>296068.00</td>\n",
       "      <td>361009.00</td>\n",
       "      <td>10</td>\n",
       "      <td>2022-09-01</td>\n",
       "      <td>MIDLAND</td>\n",
       "      <td>West - TX</td>\n",
       "      <td>None</td>\n",
       "    </tr>\n",
       "    <tr>\n",
       "      <th>6775912</th>\n",
       "      <td>2022-10-01</td>\n",
       "      <td>4217338559</td>\n",
       "      <td>400355.00</td>\n",
       "      <td>354431.00</td>\n",
       "      <td>2</td>\n",
       "      <td>2022-09-01</td>\n",
       "      <td>GLASSCOCK</td>\n",
       "      <td>West - TX</td>\n",
       "      <td>None</td>\n",
       "    </tr>\n",
       "    <tr>\n",
       "      <th>12233942</th>\n",
       "      <td>2023-08-01</td>\n",
       "      <td>4229736275</td>\n",
       "      <td>2404440.00</td>\n",
       "      <td>353960.00</td>\n",
       "      <td>6</td>\n",
       "      <td>2023-03-01</td>\n",
       "      <td>LIVE OAK</td>\n",
       "      <td>South - TX</td>\n",
       "      <td>None</td>\n",
       "    </tr>\n",
       "    <tr>\n",
       "      <th>16212586</th>\n",
       "      <td>2024-05-01</td>\n",
       "      <td>4225537779</td>\n",
       "      <td>300203.00</td>\n",
       "      <td>338738.00</td>\n",
       "      <td>1</td>\n",
       "      <td>2024-05-01</td>\n",
       "      <td>KARNES</td>\n",
       "      <td>South - TX</td>\n",
       "      <td>None</td>\n",
       "    </tr>\n",
       "    <tr>\n",
       "      <th>1674071</th>\n",
       "      <td>2024-05-01</td>\n",
       "      <td>4231744876</td>\n",
       "      <td>377242.00</td>\n",
       "      <td>324705.00</td>\n",
       "      <td>1</td>\n",
       "      <td>2024-05-01</td>\n",
       "      <td>MARTIN</td>\n",
       "      <td>West - TX</td>\n",
       "      <td>None</td>\n",
       "    </tr>\n",
       "    <tr>\n",
       "      <th>12865985</th>\n",
       "      <td>2023-01-01</td>\n",
       "      <td>4232945389</td>\n",
       "      <td>288460.00</td>\n",
       "      <td>321794.00</td>\n",
       "      <td>2</td>\n",
       "      <td>2022-12-01</td>\n",
       "      <td>MIDLAND</td>\n",
       "      <td>West - TX</td>\n",
       "      <td>None</td>\n",
       "    </tr>\n",
       "    <tr>\n",
       "      <th>12637230</th>\n",
       "      <td>2022-09-01</td>\n",
       "      <td>4246141958</td>\n",
       "      <td>241336.00</td>\n",
       "      <td>294939.00</td>\n",
       "      <td>2</td>\n",
       "      <td>2022-08-01</td>\n",
       "      <td>UPTON</td>\n",
       "      <td>West - TX</td>\n",
       "      <td>None</td>\n",
       "    </tr>\n",
       "    <tr>\n",
       "      <th>532034</th>\n",
       "      <td>2023-05-01</td>\n",
       "      <td>4232945651</td>\n",
       "      <td>297980.00</td>\n",
       "      <td>278753.00</td>\n",
       "      <td>2</td>\n",
       "      <td>2023-04-01</td>\n",
       "      <td>MIDLAND</td>\n",
       "      <td>West - TX</td>\n",
       "      <td>None</td>\n",
       "    </tr>\n",
       "    <tr>\n",
       "      <th>12207965</th>\n",
       "      <td>2023-09-01</td>\n",
       "      <td>4229736275</td>\n",
       "      <td>1861760.00</td>\n",
       "      <td>272080.00</td>\n",
       "      <td>7</td>\n",
       "      <td>2023-03-01</td>\n",
       "      <td>LIVE OAK</td>\n",
       "      <td>South - TX</td>\n",
       "      <td>None</td>\n",
       "    </tr>\n",
       "    <tr>\n",
       "      <th>4389612</th>\n",
       "      <td>2023-12-01</td>\n",
       "      <td>4216530588</td>\n",
       "      <td>338139.00</td>\n",
       "      <td>270308.00</td>\n",
       "      <td>372</td>\n",
       "      <td>1993-01-01</td>\n",
       "      <td>GAINES</td>\n",
       "      <td>West - TX</td>\n",
       "      <td>None</td>\n",
       "    </tr>\n",
       "  </tbody>\n",
       "</table>\n",
       "</div>"
      ],
      "text/plain": [
       "          date_prod   api_no_10  gas_monthly  oil_monthly  production_month  \\\n",
       "12664980 2023-03-01  4229736275   5403200.00   1391600.00                 1   \n",
       "741470   2023-04-01  4229736275   4261280.00    880160.00                 2   \n",
       "614998   2022-10-01  4230135850   1422145.00    702988.00                 3   \n",
       "6953386  2023-05-01  4229736275   3766200.00    689240.00                 3   \n",
       "8814153  2024-04-01  4247944838         0.00    540077.00                14   \n",
       "16864707 2023-06-01  4229736275   3227640.00    511600.00                 4   \n",
       "6681108  2021-10-01  4230135050    968375.00    472368.00                 2   \n",
       "14058231 2023-07-01  4229736275   3066720.00    444360.00                 5   \n",
       "13214054 2022-07-01  4231743731    378890.00    424842.00                 2   \n",
       "15591002 2024-04-01  4247944839         0.00    391266.00                14   \n",
       "3760720  2023-06-01  4232945717    296068.00    361009.00                10   \n",
       "6775912  2022-10-01  4217338559    400355.00    354431.00                 2   \n",
       "12233942 2023-08-01  4229736275   2404440.00    353960.00                 6   \n",
       "16212586 2024-05-01  4225537779    300203.00    338738.00                 1   \n",
       "1674071  2024-05-01  4231744876    377242.00    324705.00                 1   \n",
       "12865985 2023-01-01  4232945389    288460.00    321794.00                 2   \n",
       "12637230 2022-09-01  4246141958    241336.00    294939.00                 2   \n",
       "532034   2023-05-01  4232945651    297980.00    278753.00                 2   \n",
       "12207965 2023-09-01  4229736275   1861760.00    272080.00                 7   \n",
       "4389612  2023-12-01  4216530588    338139.00    270308.00               372   \n",
       "\n",
       "          start_date     county  sub_region region  \n",
       "12664980  2023-03-01   LIVE OAK  South - TX   None  \n",
       "741470    2023-03-01   LIVE OAK  South - TX   None  \n",
       "614998    2022-08-01     LOVING   West - TX   None  \n",
       "6953386   2023-03-01   LIVE OAK  South - TX   None  \n",
       "8814153   2023-03-01       WEBB  South - TX   None  \n",
       "16864707  2023-03-01   LIVE OAK  South - TX   None  \n",
       "6681108   2021-09-01     LOVING   West - TX   None  \n",
       "14058231  2023-03-01   LIVE OAK  South - TX   None  \n",
       "13214054  2022-06-01     MARTIN   West - TX   None  \n",
       "15591002  2023-03-01       WEBB  South - TX   None  \n",
       "3760720   2022-09-01    MIDLAND   West - TX   None  \n",
       "6775912   2022-09-01  GLASSCOCK   West - TX   None  \n",
       "12233942  2023-03-01   LIVE OAK  South - TX   None  \n",
       "16212586  2024-05-01     KARNES  South - TX   None  \n",
       "1674071   2024-05-01     MARTIN   West - TX   None  \n",
       "12865985  2022-12-01    MIDLAND   West - TX   None  \n",
       "12637230  2022-08-01      UPTON   West - TX   None  \n",
       "532034    2023-04-01    MIDLAND   West - TX   None  \n",
       "12207965  2023-03-01   LIVE OAK  South - TX   None  \n",
       "4389612   1993-01-01     GAINES   West - TX   None  "
      ]
     },
     "execution_count": 58,
     "metadata": {},
     "output_type": "execute_result"
    }
   ],
   "source": [
    "raw_datasets['well_production'].sort_values(by='oil_monthly', ascending=False).head(20)"
   ]
  },
  {
   "cell_type": "markdown",
   "id": "83b7bc26-f770-41ad-a57b-fce4f538ecf1",
   "metadata": {},
   "source": [
    "It's the same thing, often gas > oil, but there are some wells where there is oil but no gas.\n",
    "\n",
    "Another thing that would be good to understand about gas and oil are the units that they are being reported in: I'm not sure how much it matters for forecasting in itself as long as it's consistent, but it would certainly matter when explaining it to someone.\n",
    "\n",
    "I also notice that there are basically no genuine floating point values, the floats for oil and gas seem basically like integers.\n",
    "\n",
    "By looking at these charts, it's also pretty easy to see what production_month and start_date refer to (and we can investigate this by pinpointing an API or two):\n",
    "- production month refers to how many months the individual well has been in production by that point\n",
    "- start date just refers to when the well started producing and had \"month 1\" (and we should investigate that start date never changes for individual wells), I'm not sure start date makes sense to include in the final forecasting model but we'll see"
   ]
  },
  {
   "cell_type": "code",
   "execution_count": 60,
   "id": "8bed75b5-8303-42dd-9a82-bb6fddd315c8",
   "metadata": {},
   "outputs": [
    {
     "data": {
      "text/html": [
       "<div>\n",
       "<style scoped>\n",
       "    .dataframe tbody tr th:only-of-type {\n",
       "        vertical-align: middle;\n",
       "    }\n",
       "\n",
       "    .dataframe tbody tr th {\n",
       "        vertical-align: top;\n",
       "    }\n",
       "\n",
       "    .dataframe thead th {\n",
       "        text-align: right;\n",
       "    }\n",
       "</style>\n",
       "<table border=\"1\" class=\"dataframe\">\n",
       "  <thead>\n",
       "    <tr style=\"text-align: right;\">\n",
       "      <th></th>\n",
       "      <th>date_prod</th>\n",
       "      <th>api_no_10</th>\n",
       "      <th>gas_monthly</th>\n",
       "      <th>oil_monthly</th>\n",
       "      <th>production_month</th>\n",
       "      <th>start_date</th>\n",
       "      <th>county</th>\n",
       "      <th>sub_region</th>\n",
       "      <th>region</th>\n",
       "    </tr>\n",
       "  </thead>\n",
       "  <tbody>\n",
       "    <tr>\n",
       "      <th>12664980</th>\n",
       "      <td>2023-03-01</td>\n",
       "      <td>4229736275</td>\n",
       "      <td>5403200.00</td>\n",
       "      <td>1391600.00</td>\n",
       "      <td>1</td>\n",
       "      <td>2023-03-01</td>\n",
       "      <td>LIVE OAK</td>\n",
       "      <td>South - TX</td>\n",
       "      <td>None</td>\n",
       "    </tr>\n",
       "    <tr>\n",
       "      <th>741470</th>\n",
       "      <td>2023-04-01</td>\n",
       "      <td>4229736275</td>\n",
       "      <td>4261280.00</td>\n",
       "      <td>880160.00</td>\n",
       "      <td>2</td>\n",
       "      <td>2023-03-01</td>\n",
       "      <td>LIVE OAK</td>\n",
       "      <td>South - TX</td>\n",
       "      <td>None</td>\n",
       "    </tr>\n",
       "    <tr>\n",
       "      <th>6953386</th>\n",
       "      <td>2023-05-01</td>\n",
       "      <td>4229736275</td>\n",
       "      <td>3766200.00</td>\n",
       "      <td>689240.00</td>\n",
       "      <td>3</td>\n",
       "      <td>2023-03-01</td>\n",
       "      <td>LIVE OAK</td>\n",
       "      <td>South - TX</td>\n",
       "      <td>None</td>\n",
       "    </tr>\n",
       "    <tr>\n",
       "      <th>16864707</th>\n",
       "      <td>2023-06-01</td>\n",
       "      <td>4229736275</td>\n",
       "      <td>3227640.00</td>\n",
       "      <td>511600.00</td>\n",
       "      <td>4</td>\n",
       "      <td>2023-03-01</td>\n",
       "      <td>LIVE OAK</td>\n",
       "      <td>South - TX</td>\n",
       "      <td>None</td>\n",
       "    </tr>\n",
       "    <tr>\n",
       "      <th>14058231</th>\n",
       "      <td>2023-07-01</td>\n",
       "      <td>4229736275</td>\n",
       "      <td>3066720.00</td>\n",
       "      <td>444360.00</td>\n",
       "      <td>5</td>\n",
       "      <td>2023-03-01</td>\n",
       "      <td>LIVE OAK</td>\n",
       "      <td>South - TX</td>\n",
       "      <td>None</td>\n",
       "    </tr>\n",
       "    <tr>\n",
       "      <th>12233942</th>\n",
       "      <td>2023-08-01</td>\n",
       "      <td>4229736275</td>\n",
       "      <td>2404440.00</td>\n",
       "      <td>353960.00</td>\n",
       "      <td>6</td>\n",
       "      <td>2023-03-01</td>\n",
       "      <td>LIVE OAK</td>\n",
       "      <td>South - TX</td>\n",
       "      <td>None</td>\n",
       "    </tr>\n",
       "    <tr>\n",
       "      <th>12207965</th>\n",
       "      <td>2023-09-01</td>\n",
       "      <td>4229736275</td>\n",
       "      <td>1861760.00</td>\n",
       "      <td>272080.00</td>\n",
       "      <td>7</td>\n",
       "      <td>2023-03-01</td>\n",
       "      <td>LIVE OAK</td>\n",
       "      <td>South - TX</td>\n",
       "      <td>None</td>\n",
       "    </tr>\n",
       "    <tr>\n",
       "      <th>17350515</th>\n",
       "      <td>2023-10-01</td>\n",
       "      <td>4229736275</td>\n",
       "      <td>1574240.00</td>\n",
       "      <td>242600.00</td>\n",
       "      <td>8</td>\n",
       "      <td>2023-03-01</td>\n",
       "      <td>LIVE OAK</td>\n",
       "      <td>South - TX</td>\n",
       "      <td>None</td>\n",
       "    </tr>\n",
       "    <tr>\n",
       "      <th>5542754</th>\n",
       "      <td>2023-11-01</td>\n",
       "      <td>4229736275</td>\n",
       "      <td>1430360.00</td>\n",
       "      <td>238520.00</td>\n",
       "      <td>9</td>\n",
       "      <td>2023-03-01</td>\n",
       "      <td>LIVE OAK</td>\n",
       "      <td>South - TX</td>\n",
       "      <td>None</td>\n",
       "    </tr>\n",
       "    <tr>\n",
       "      <th>1016162</th>\n",
       "      <td>2023-12-01</td>\n",
       "      <td>4229736275</td>\n",
       "      <td>1269440.00</td>\n",
       "      <td>209960.00</td>\n",
       "      <td>10</td>\n",
       "      <td>2023-03-01</td>\n",
       "      <td>LIVE OAK</td>\n",
       "      <td>South - TX</td>\n",
       "      <td>None</td>\n",
       "    </tr>\n",
       "    <tr>\n",
       "      <th>1060527</th>\n",
       "      <td>2024-01-01</td>\n",
       "      <td>4229736275</td>\n",
       "      <td>1109440.00</td>\n",
       "      <td>172640.00</td>\n",
       "      <td>11</td>\n",
       "      <td>2023-03-01</td>\n",
       "      <td>LIVE OAK</td>\n",
       "      <td>South - TX</td>\n",
       "      <td>None</td>\n",
       "    </tr>\n",
       "    <tr>\n",
       "      <th>9530793</th>\n",
       "      <td>2024-02-01</td>\n",
       "      <td>4229736275</td>\n",
       "      <td>986400.00</td>\n",
       "      <td>163880.00</td>\n",
       "      <td>12</td>\n",
       "      <td>2023-03-01</td>\n",
       "      <td>LIVE OAK</td>\n",
       "      <td>South - TX</td>\n",
       "      <td>None</td>\n",
       "    </tr>\n",
       "    <tr>\n",
       "      <th>137916</th>\n",
       "      <td>2024-03-01</td>\n",
       "      <td>4229736275</td>\n",
       "      <td>936120.00</td>\n",
       "      <td>160800.00</td>\n",
       "      <td>13</td>\n",
       "      <td>2023-03-01</td>\n",
       "      <td>LIVE OAK</td>\n",
       "      <td>South - TX</td>\n",
       "      <td>None</td>\n",
       "    </tr>\n",
       "    <tr>\n",
       "      <th>3773096</th>\n",
       "      <td>2024-04-01</td>\n",
       "      <td>4229736275</td>\n",
       "      <td>945640.00</td>\n",
       "      <td>161120.00</td>\n",
       "      <td>14</td>\n",
       "      <td>2023-03-01</td>\n",
       "      <td>LIVE OAK</td>\n",
       "      <td>South - TX</td>\n",
       "      <td>None</td>\n",
       "    </tr>\n",
       "    <tr>\n",
       "      <th>9634085</th>\n",
       "      <td>2024-05-01</td>\n",
       "      <td>4229736275</td>\n",
       "      <td>1016440.00</td>\n",
       "      <td>170240.00</td>\n",
       "      <td>15</td>\n",
       "      <td>2023-03-01</td>\n",
       "      <td>LIVE OAK</td>\n",
       "      <td>South - TX</td>\n",
       "      <td>None</td>\n",
       "    </tr>\n",
       "    <tr>\n",
       "      <th>11974424</th>\n",
       "      <td>2024-06-01</td>\n",
       "      <td>4229736275</td>\n",
       "      <td>901160.00</td>\n",
       "      <td>129000.00</td>\n",
       "      <td>16</td>\n",
       "      <td>2023-03-01</td>\n",
       "      <td>LIVE OAK</td>\n",
       "      <td>South - TX</td>\n",
       "      <td>None</td>\n",
       "    </tr>\n",
       "    <tr>\n",
       "      <th>5321871</th>\n",
       "      <td>2024-07-01</td>\n",
       "      <td>4229736275</td>\n",
       "      <td>911840.00</td>\n",
       "      <td>136200.00</td>\n",
       "      <td>17</td>\n",
       "      <td>2023-03-01</td>\n",
       "      <td>LIVE OAK</td>\n",
       "      <td>South - TX</td>\n",
       "      <td>None</td>\n",
       "    </tr>\n",
       "    <tr>\n",
       "      <th>8517387</th>\n",
       "      <td>2024-08-01</td>\n",
       "      <td>4229736275</td>\n",
       "      <td>875360.00</td>\n",
       "      <td>127720.00</td>\n",
       "      <td>18</td>\n",
       "      <td>2023-03-01</td>\n",
       "      <td>LIVE OAK</td>\n",
       "      <td>South - TX</td>\n",
       "      <td>None</td>\n",
       "    </tr>\n",
       "  </tbody>\n",
       "</table>\n",
       "</div>"
      ],
      "text/plain": [
       "          date_prod   api_no_10  gas_monthly  oil_monthly  production_month  \\\n",
       "12664980 2023-03-01  4229736275   5403200.00   1391600.00                 1   \n",
       "741470   2023-04-01  4229736275   4261280.00    880160.00                 2   \n",
       "6953386  2023-05-01  4229736275   3766200.00    689240.00                 3   \n",
       "16864707 2023-06-01  4229736275   3227640.00    511600.00                 4   \n",
       "14058231 2023-07-01  4229736275   3066720.00    444360.00                 5   \n",
       "12233942 2023-08-01  4229736275   2404440.00    353960.00                 6   \n",
       "12207965 2023-09-01  4229736275   1861760.00    272080.00                 7   \n",
       "17350515 2023-10-01  4229736275   1574240.00    242600.00                 8   \n",
       "5542754  2023-11-01  4229736275   1430360.00    238520.00                 9   \n",
       "1016162  2023-12-01  4229736275   1269440.00    209960.00                10   \n",
       "1060527  2024-01-01  4229736275   1109440.00    172640.00                11   \n",
       "9530793  2024-02-01  4229736275    986400.00    163880.00                12   \n",
       "137916   2024-03-01  4229736275    936120.00    160800.00                13   \n",
       "3773096  2024-04-01  4229736275    945640.00    161120.00                14   \n",
       "9634085  2024-05-01  4229736275   1016440.00    170240.00                15   \n",
       "11974424 2024-06-01  4229736275    901160.00    129000.00                16   \n",
       "5321871  2024-07-01  4229736275    911840.00    136200.00                17   \n",
       "8517387  2024-08-01  4229736275    875360.00    127720.00                18   \n",
       "\n",
       "          start_date    county  sub_region region  \n",
       "12664980  2023-03-01  LIVE OAK  South - TX   None  \n",
       "741470    2023-03-01  LIVE OAK  South - TX   None  \n",
       "6953386   2023-03-01  LIVE OAK  South - TX   None  \n",
       "16864707  2023-03-01  LIVE OAK  South - TX   None  \n",
       "14058231  2023-03-01  LIVE OAK  South - TX   None  \n",
       "12233942  2023-03-01  LIVE OAK  South - TX   None  \n",
       "12207965  2023-03-01  LIVE OAK  South - TX   None  \n",
       "17350515  2023-03-01  LIVE OAK  South - TX   None  \n",
       "5542754   2023-03-01  LIVE OAK  South - TX   None  \n",
       "1016162   2023-03-01  LIVE OAK  South - TX   None  \n",
       "1060527   2023-03-01  LIVE OAK  South - TX   None  \n",
       "9530793   2023-03-01  LIVE OAK  South - TX   None  \n",
       "137916    2023-03-01  LIVE OAK  South - TX   None  \n",
       "3773096   2023-03-01  LIVE OAK  South - TX   None  \n",
       "9634085   2023-03-01  LIVE OAK  South - TX   None  \n",
       "11974424  2023-03-01  LIVE OAK  South - TX   None  \n",
       "5321871   2023-03-01  LIVE OAK  South - TX   None  \n",
       "8517387   2023-03-01  LIVE OAK  South - TX   None  "
      ]
     },
     "execution_count": 60,
     "metadata": {},
     "output_type": "execute_result"
    }
   ],
   "source": [
    "raw_datasets['well_production'][raw_datasets['well_production']['api_no_10'] == '4229736275'].sort_values(by='date_prod')"
   ]
  },
  {
   "cell_type": "code",
   "execution_count": 61,
   "id": "fea0990d-58ac-4ff8-9cd2-11cde55956a6",
   "metadata": {},
   "outputs": [
    {
     "data": {
      "text/html": [
       "<div>\n",
       "<style scoped>\n",
       "    .dataframe tbody tr th:only-of-type {\n",
       "        vertical-align: middle;\n",
       "    }\n",
       "\n",
       "    .dataframe tbody tr th {\n",
       "        vertical-align: top;\n",
       "    }\n",
       "\n",
       "    .dataframe thead th {\n",
       "        text-align: right;\n",
       "    }\n",
       "</style>\n",
       "<table border=\"1\" class=\"dataframe\">\n",
       "  <thead>\n",
       "    <tr style=\"text-align: right;\">\n",
       "      <th></th>\n",
       "      <th>date_prod</th>\n",
       "      <th>api_no_10</th>\n",
       "      <th>gas_monthly</th>\n",
       "      <th>oil_monthly</th>\n",
       "      <th>production_month</th>\n",
       "      <th>start_date</th>\n",
       "      <th>county</th>\n",
       "      <th>sub_region</th>\n",
       "      <th>region</th>\n",
       "    </tr>\n",
       "  </thead>\n",
       "  <tbody>\n",
       "    <tr>\n",
       "      <th>13453280</th>\n",
       "      <td>2023-03-01</td>\n",
       "      <td>4220335531</td>\n",
       "      <td>12883440.00</td>\n",
       "      <td>0.00</td>\n",
       "      <td>1</td>\n",
       "      <td>2023-03-01</td>\n",
       "      <td>HARRISON</td>\n",
       "      <td>Haynesville - TX</td>\n",
       "      <td>None</td>\n",
       "    </tr>\n",
       "    <tr>\n",
       "      <th>9855698</th>\n",
       "      <td>2023-04-01</td>\n",
       "      <td>4220335531</td>\n",
       "      <td>16144920.00</td>\n",
       "      <td>0.00</td>\n",
       "      <td>2</td>\n",
       "      <td>2023-03-01</td>\n",
       "      <td>HARRISON</td>\n",
       "      <td>Haynesville - TX</td>\n",
       "      <td>None</td>\n",
       "    </tr>\n",
       "    <tr>\n",
       "      <th>796330</th>\n",
       "      <td>2023-05-01</td>\n",
       "      <td>4220335531</td>\n",
       "      <td>14510120.00</td>\n",
       "      <td>0.00</td>\n",
       "      <td>3</td>\n",
       "      <td>2023-03-01</td>\n",
       "      <td>HARRISON</td>\n",
       "      <td>Haynesville - TX</td>\n",
       "      <td>None</td>\n",
       "    </tr>\n",
       "    <tr>\n",
       "      <th>17630797</th>\n",
       "      <td>2023-06-01</td>\n",
       "      <td>4220335531</td>\n",
       "      <td>12432120.00</td>\n",
       "      <td>0.00</td>\n",
       "      <td>4</td>\n",
       "      <td>2023-03-01</td>\n",
       "      <td>HARRISON</td>\n",
       "      <td>Haynesville - TX</td>\n",
       "      <td>None</td>\n",
       "    </tr>\n",
       "    <tr>\n",
       "      <th>16458519</th>\n",
       "      <td>2023-07-01</td>\n",
       "      <td>4220335531</td>\n",
       "      <td>11653520.00</td>\n",
       "      <td>0.00</td>\n",
       "      <td>5</td>\n",
       "      <td>2023-03-01</td>\n",
       "      <td>HARRISON</td>\n",
       "      <td>Haynesville - TX</td>\n",
       "      <td>None</td>\n",
       "    </tr>\n",
       "    <tr>\n",
       "      <th>5766779</th>\n",
       "      <td>2023-08-01</td>\n",
       "      <td>4220335531</td>\n",
       "      <td>10453240.00</td>\n",
       "      <td>0.00</td>\n",
       "      <td>6</td>\n",
       "      <td>2023-03-01</td>\n",
       "      <td>HARRISON</td>\n",
       "      <td>Haynesville - TX</td>\n",
       "      <td>None</td>\n",
       "    </tr>\n",
       "    <tr>\n",
       "      <th>7999771</th>\n",
       "      <td>2023-09-01</td>\n",
       "      <td>4220335531</td>\n",
       "      <td>9251360.00</td>\n",
       "      <td>0.00</td>\n",
       "      <td>7</td>\n",
       "      <td>2023-03-01</td>\n",
       "      <td>HARRISON</td>\n",
       "      <td>Haynesville - TX</td>\n",
       "      <td>None</td>\n",
       "    </tr>\n",
       "    <tr>\n",
       "      <th>3742723</th>\n",
       "      <td>2023-10-01</td>\n",
       "      <td>4220335531</td>\n",
       "      <td>8484760.00</td>\n",
       "      <td>0.00</td>\n",
       "      <td>8</td>\n",
       "      <td>2023-03-01</td>\n",
       "      <td>HARRISON</td>\n",
       "      <td>Haynesville - TX</td>\n",
       "      <td>None</td>\n",
       "    </tr>\n",
       "    <tr>\n",
       "      <th>9495095</th>\n",
       "      <td>2023-11-01</td>\n",
       "      <td>4220335531</td>\n",
       "      <td>7592120.00</td>\n",
       "      <td>0.00</td>\n",
       "      <td>9</td>\n",
       "      <td>2023-03-01</td>\n",
       "      <td>HARRISON</td>\n",
       "      <td>Haynesville - TX</td>\n",
       "      <td>None</td>\n",
       "    </tr>\n",
       "    <tr>\n",
       "      <th>3884731</th>\n",
       "      <td>2023-12-01</td>\n",
       "      <td>4220335531</td>\n",
       "      <td>7143800.00</td>\n",
       "      <td>0.00</td>\n",
       "      <td>10</td>\n",
       "      <td>2023-03-01</td>\n",
       "      <td>HARRISON</td>\n",
       "      <td>Haynesville - TX</td>\n",
       "      <td>None</td>\n",
       "    </tr>\n",
       "    <tr>\n",
       "      <th>3273171</th>\n",
       "      <td>2024-01-01</td>\n",
       "      <td>4220335531</td>\n",
       "      <td>6242640.00</td>\n",
       "      <td>0.00</td>\n",
       "      <td>11</td>\n",
       "      <td>2023-03-01</td>\n",
       "      <td>HARRISON</td>\n",
       "      <td>Haynesville - TX</td>\n",
       "      <td>None</td>\n",
       "    </tr>\n",
       "    <tr>\n",
       "      <th>7250696</th>\n",
       "      <td>2024-02-01</td>\n",
       "      <td>4220335531</td>\n",
       "      <td>5610640.00</td>\n",
       "      <td>0.00</td>\n",
       "      <td>12</td>\n",
       "      <td>2023-03-01</td>\n",
       "      <td>HARRISON</td>\n",
       "      <td>Haynesville - TX</td>\n",
       "      <td>None</td>\n",
       "    </tr>\n",
       "    <tr>\n",
       "      <th>16389780</th>\n",
       "      <td>2024-03-01</td>\n",
       "      <td>4220335531</td>\n",
       "      <td>5478000.00</td>\n",
       "      <td>0.00</td>\n",
       "      <td>13</td>\n",
       "      <td>2023-03-01</td>\n",
       "      <td>HARRISON</td>\n",
       "      <td>Haynesville - TX</td>\n",
       "      <td>None</td>\n",
       "    </tr>\n",
       "    <tr>\n",
       "      <th>13520513</th>\n",
       "      <td>2024-04-01</td>\n",
       "      <td>4220335531</td>\n",
       "      <td>4740640.00</td>\n",
       "      <td>0.00</td>\n",
       "      <td>14</td>\n",
       "      <td>2023-03-01</td>\n",
       "      <td>HARRISON</td>\n",
       "      <td>Haynesville - TX</td>\n",
       "      <td>None</td>\n",
       "    </tr>\n",
       "    <tr>\n",
       "      <th>12939648</th>\n",
       "      <td>2024-05-01</td>\n",
       "      <td>4220335531</td>\n",
       "      <td>4484960.00</td>\n",
       "      <td>0.00</td>\n",
       "      <td>15</td>\n",
       "      <td>2023-03-01</td>\n",
       "      <td>HARRISON</td>\n",
       "      <td>Haynesville - TX</td>\n",
       "      <td>None</td>\n",
       "    </tr>\n",
       "    <tr>\n",
       "      <th>13991876</th>\n",
       "      <td>2024-06-01</td>\n",
       "      <td>4220335531</td>\n",
       "      <td>3974600.00</td>\n",
       "      <td>0.00</td>\n",
       "      <td>16</td>\n",
       "      <td>2023-03-01</td>\n",
       "      <td>HARRISON</td>\n",
       "      <td>Haynesville - TX</td>\n",
       "      <td>None</td>\n",
       "    </tr>\n",
       "    <tr>\n",
       "      <th>6652041</th>\n",
       "      <td>2024-07-01</td>\n",
       "      <td>4220335531</td>\n",
       "      <td>3815520.00</td>\n",
       "      <td>0.00</td>\n",
       "      <td>17</td>\n",
       "      <td>2023-03-01</td>\n",
       "      <td>HARRISON</td>\n",
       "      <td>Haynesville - TX</td>\n",
       "      <td>None</td>\n",
       "    </tr>\n",
       "    <tr>\n",
       "      <th>4580176</th>\n",
       "      <td>2024-08-01</td>\n",
       "      <td>4220335531</td>\n",
       "      <td>3503880.00</td>\n",
       "      <td>0.00</td>\n",
       "      <td>18</td>\n",
       "      <td>2023-03-01</td>\n",
       "      <td>HARRISON</td>\n",
       "      <td>Haynesville - TX</td>\n",
       "      <td>None</td>\n",
       "    </tr>\n",
       "  </tbody>\n",
       "</table>\n",
       "</div>"
      ],
      "text/plain": [
       "          date_prod   api_no_10  gas_monthly  oil_monthly  production_month  \\\n",
       "13453280 2023-03-01  4220335531  12883440.00         0.00                 1   \n",
       "9855698  2023-04-01  4220335531  16144920.00         0.00                 2   \n",
       "796330   2023-05-01  4220335531  14510120.00         0.00                 3   \n",
       "17630797 2023-06-01  4220335531  12432120.00         0.00                 4   \n",
       "16458519 2023-07-01  4220335531  11653520.00         0.00                 5   \n",
       "5766779  2023-08-01  4220335531  10453240.00         0.00                 6   \n",
       "7999771  2023-09-01  4220335531   9251360.00         0.00                 7   \n",
       "3742723  2023-10-01  4220335531   8484760.00         0.00                 8   \n",
       "9495095  2023-11-01  4220335531   7592120.00         0.00                 9   \n",
       "3884731  2023-12-01  4220335531   7143800.00         0.00                10   \n",
       "3273171  2024-01-01  4220335531   6242640.00         0.00                11   \n",
       "7250696  2024-02-01  4220335531   5610640.00         0.00                12   \n",
       "16389780 2024-03-01  4220335531   5478000.00         0.00                13   \n",
       "13520513 2024-04-01  4220335531   4740640.00         0.00                14   \n",
       "12939648 2024-05-01  4220335531   4484960.00         0.00                15   \n",
       "13991876 2024-06-01  4220335531   3974600.00         0.00                16   \n",
       "6652041  2024-07-01  4220335531   3815520.00         0.00                17   \n",
       "4580176  2024-08-01  4220335531   3503880.00         0.00                18   \n",
       "\n",
       "          start_date    county        sub_region region  \n",
       "13453280  2023-03-01  HARRISON  Haynesville - TX   None  \n",
       "9855698   2023-03-01  HARRISON  Haynesville - TX   None  \n",
       "796330    2023-03-01  HARRISON  Haynesville - TX   None  \n",
       "17630797  2023-03-01  HARRISON  Haynesville - TX   None  \n",
       "16458519  2023-03-01  HARRISON  Haynesville - TX   None  \n",
       "5766779   2023-03-01  HARRISON  Haynesville - TX   None  \n",
       "7999771   2023-03-01  HARRISON  Haynesville - TX   None  \n",
       "3742723   2023-03-01  HARRISON  Haynesville - TX   None  \n",
       "9495095   2023-03-01  HARRISON  Haynesville - TX   None  \n",
       "3884731   2023-03-01  HARRISON  Haynesville - TX   None  \n",
       "3273171   2023-03-01  HARRISON  Haynesville - TX   None  \n",
       "7250696   2023-03-01  HARRISON  Haynesville - TX   None  \n",
       "16389780  2023-03-01  HARRISON  Haynesville - TX   None  \n",
       "13520513  2023-03-01  HARRISON  Haynesville - TX   None  \n",
       "12939648  2023-03-01  HARRISON  Haynesville - TX   None  \n",
       "13991876  2023-03-01  HARRISON  Haynesville - TX   None  \n",
       "6652041   2023-03-01  HARRISON  Haynesville - TX   None  \n",
       "4580176   2023-03-01  HARRISON  Haynesville - TX   None  "
      ]
     },
     "execution_count": 61,
     "metadata": {},
     "output_type": "execute_result"
    }
   ],
   "source": [
    "raw_datasets['well_production'][raw_datasets['well_production']['api_no_10'] == '4220335531'].sort_values(by='date_prod')"
   ]
  },
  {
   "cell_type": "markdown",
   "id": "bed957a6-9cc7-44c3-80a0-cb9b2a36a7e4",
   "metadata": {},
   "source": [
    "So it seems I've interpreted production month and start date correctly, we'll just need to do more thorough validations of them later\n",
    "\n",
    "There is also good news for start_date: since production_month has no missing values, we can use production_month \"1\" to impute any missing values of start_date if necessary\n",
    "\n",
    "I just want to do a few more things to the production data:\n",
    "- encode start_date as a datetime column\n",
    "- describe production_month and start_date\n",
    "- look at the distributions of county, sub_region and region"
   ]
  },
  {
   "cell_type": "code",
   "execution_count": 14,
   "id": "3434adbc-93dc-4e49-8235-3fc22f4b7016",
   "metadata": {},
   "outputs": [
    {
     "name": "stdout",
     "output_type": "stream",
     "text": [
      "<class 'pandas.core.frame.DataFrame'>\n",
      "Index: 17722083 entries, 0 to 17724874\n",
      "Data columns (total 9 columns):\n",
      " #   Column            Dtype         \n",
      "---  ------            -----         \n",
      " 0   date_prod         datetime64[ms]\n",
      " 1   api_no_10         object        \n",
      " 2   gas_monthly       float64       \n",
      " 3   oil_monthly       float64       \n",
      " 4   production_month  int64         \n",
      " 5   start_date        datetime64[ns]\n",
      " 6   county            object        \n",
      " 7   sub_region        object        \n",
      " 8   region            object        \n",
      "dtypes: datetime64[ms](1), datetime64[ns](1), float64(2), int64(1), object(4)\n",
      "memory usage: 1.3+ GB\n"
     ]
    }
   ],
   "source": [
    "raw_datasets['well_production']['start_date'] = pd.to_datetime(raw_datasets['well_production']['start_date'])\n",
    "raw_datasets['well_production'].info()"
   ]
  },
  {
   "cell_type": "code",
   "execution_count": 66,
   "id": "d5e8b7e3-3d65-47fc-a7db-5e855378688d",
   "metadata": {},
   "outputs": [
    {
     "data": {
      "text/html": [
       "<div>\n",
       "<style scoped>\n",
       "    .dataframe tbody tr th:only-of-type {\n",
       "        vertical-align: middle;\n",
       "    }\n",
       "\n",
       "    .dataframe tbody tr th {\n",
       "        vertical-align: top;\n",
       "    }\n",
       "\n",
       "    .dataframe thead th {\n",
       "        text-align: right;\n",
       "    }\n",
       "</style>\n",
       "<table border=\"1\" class=\"dataframe\">\n",
       "  <thead>\n",
       "    <tr style=\"text-align: right;\">\n",
       "      <th></th>\n",
       "      <th>production_month</th>\n",
       "      <th>start_date</th>\n",
       "    </tr>\n",
       "  </thead>\n",
       "  <tbody>\n",
       "    <tr>\n",
       "      <th>count</th>\n",
       "      <td>17722083.00</td>\n",
       "      <td>17719431</td>\n",
       "    </tr>\n",
       "    <tr>\n",
       "      <th>mean</th>\n",
       "      <td>257.15</td>\n",
       "      <td>2001-04-13 23:59:27.993916288</td>\n",
       "    </tr>\n",
       "    <tr>\n",
       "      <th>min</th>\n",
       "      <td>0.00</td>\n",
       "      <td>1986-01-01 00:00:00</td>\n",
       "    </tr>\n",
       "    <tr>\n",
       "      <th>25%</th>\n",
       "      <td>146.00</td>\n",
       "      <td>1993-01-01 00:00:00</td>\n",
       "    </tr>\n",
       "    <tr>\n",
       "      <th>50%</th>\n",
       "      <td>326.00</td>\n",
       "      <td>1994-11-01 00:00:00</td>\n",
       "    </tr>\n",
       "    <tr>\n",
       "      <th>75%</th>\n",
       "      <td>356.00</td>\n",
       "      <td>2010-10-01 00:00:00</td>\n",
       "    </tr>\n",
       "    <tr>\n",
       "      <th>max</th>\n",
       "      <td>472.00</td>\n",
       "      <td>2025-02-01 00:00:00</td>\n",
       "    </tr>\n",
       "    <tr>\n",
       "      <th>std</th>\n",
       "      <td>116.17</td>\n",
       "      <td>NaN</td>\n",
       "    </tr>\n",
       "  </tbody>\n",
       "</table>\n",
       "</div>"
      ],
      "text/plain": [
       "       production_month                     start_date\n",
       "count       17722083.00                       17719431\n",
       "mean             257.15  2001-04-13 23:59:27.993916288\n",
       "min                0.00            1986-01-01 00:00:00\n",
       "25%              146.00            1993-01-01 00:00:00\n",
       "50%              326.00            1994-11-01 00:00:00\n",
       "75%              356.00            2010-10-01 00:00:00\n",
       "max              472.00            2025-02-01 00:00:00\n",
       "std              116.17                            NaN"
      ]
     },
     "execution_count": 66,
     "metadata": {},
     "output_type": "execute_result"
    }
   ],
   "source": [
    "raw_datasets['well_production'][['production_month', 'start_date']].describe()"
   ]
  },
  {
   "cell_type": "markdown",
   "id": "c3019d78-8b1f-4937-a2b6-ac93b8c0d5c4",
   "metadata": {},
   "source": [
    "So most of the wells have been active for a rather long time, like several hundreds months of production, and most of them aren't new, which makes me wonder how that's represented in the data, like newer wells (maybe due to the fracking revolution) must be far more productive than many of these more standard wells that have been active for a long time\n",
    "\n",
    "It's also a bit odd to me in general that the 50 percentile is more than half of the max value, I'm not sure how it makes sense with a minimum start date of 1986, but we'll have to check for errors in production month as well by making sure it actually goes up by 1 every single time and starts at 1. One guess I'd have for why a distribution like this with such a high median value compared to the mean is a lot of wells did not report their data for many of the early months, so the early production months are missing for a lot of wells with earlier start dates that are consistent with the start date column (and since only later production months were reported, the median value for the parameter is inflated)\n",
    "\n",
    "It does seem that most of the wells were started before the spike period so the reason for the spike isn't just founding a bunch of wells at that time (although the one's that were founded may have far better initial performance due to fracking)"
   ]
  },
  {
   "cell_type": "code",
   "execution_count": 67,
   "id": "f4ee2328-9d74-4e6e-878f-5bc8794fc111",
   "metadata": {},
   "outputs": [
    {
     "data": {
      "text/plain": [
       "county\n",
       "ANDREWS     659289\n",
       "ECTOR       553244\n",
       "WICHITA     439965\n",
       "CROCKETT    395831\n",
       "MIDLAND     382797\n",
       "             ...  \n",
       "SWISHER         42\n",
       "PRESIDIO        24\n",
       "BLANCO          22\n",
       "FANNIN           3\n",
       "KERR             1\n",
       "Name: count, Length: 227, dtype: int64"
      ]
     },
     "execution_count": 67,
     "metadata": {},
     "output_type": "execute_result"
    }
   ],
   "source": [
    "raw_datasets['well_production']['county'].value_counts()"
   ]
  },
  {
   "cell_type": "markdown",
   "id": "428f70a1-9735-4337-9d2e-a565e98a9f4d",
   "metadata": {},
   "source": [
    "This might be good information, but there's still the possibility that it has too many classes to be useful, dimensionality reduction of the class could be useful, we'll see though"
   ]
  },
  {
   "cell_type": "code",
   "execution_count": 68,
   "id": "0816ccdc-5255-4db8-8a0b-862b45ffa962",
   "metadata": {},
   "outputs": [
    {
     "data": {
      "text/plain": [
       "sub_region\n",
       "West - TX           7601145\n",
       "Central - TX        3830071\n",
       "South - TX          3789377\n",
       "North - TX          1367894\n",
       "Haynesville - TX    1133596\n",
       "Name: count, dtype: int64"
      ]
     },
     "execution_count": 68,
     "metadata": {},
     "output_type": "execute_result"
    }
   ],
   "source": [
    "raw_datasets['well_production']['sub_region'].value_counts()"
   ]
  },
  {
   "cell_type": "markdown",
   "id": "1a9bbe2b-24be-4f5d-80d1-64dd14889470",
   "metadata": {},
   "source": [
    "The sub regions are all regions of Texas, which is exactly what we wanted to see, though we will still need to verify lat and lon values from the geospatial perspective"
   ]
  },
  {
   "cell_type": "code",
   "execution_count": 69,
   "id": "28de586b-dd87-4865-b027-be9e0df9e769",
   "metadata": {},
   "outputs": [
    {
     "data": {
      "text/plain": [
       "region\n",
       "west    1320\n",
       "Name: count, dtype: int64"
      ]
     },
     "execution_count": 69,
     "metadata": {},
     "output_type": "execute_result"
    }
   ],
   "source": [
    "raw_datasets['well_production']['region'].value_counts()"
   ]
  },
  {
   "cell_type": "markdown",
   "id": "55f42467-ab18-4735-9e1a-c2c055e63b9a",
   "metadata": {},
   "source": [
    "This seems like useless information, we're just going to drop this column"
   ]
  },
  {
   "cell_type": "code",
   "execution_count": 15,
   "id": "c2f895eb-0534-4e2a-8d67-31c14f7f91d3",
   "metadata": {},
   "outputs": [
    {
     "name": "stdout",
     "output_type": "stream",
     "text": [
      "<class 'pandas.core.frame.DataFrame'>\n",
      "Index: 17722083 entries, 0 to 17724874\n",
      "Data columns (total 8 columns):\n",
      " #   Column            Dtype         \n",
      "---  ------            -----         \n",
      " 0   date_prod         datetime64[ms]\n",
      " 1   api_no_10         object        \n",
      " 2   gas_monthly       float64       \n",
      " 3   oil_monthly       float64       \n",
      " 4   production_month  int64         \n",
      " 5   start_date        datetime64[ns]\n",
      " 6   county            object        \n",
      " 7   sub_region        object        \n",
      "dtypes: datetime64[ms](1), datetime64[ns](1), float64(2), int64(1), object(3)\n",
      "memory usage: 1.2+ GB\n"
     ]
    }
   ],
   "source": [
    "raw_datasets['well_production'].drop('region', axis=1, inplace=True)\n",
    "raw_datasets['well_production'].info()"
   ]
  },
  {
   "cell_type": "markdown",
   "id": "70dd2b7c-1541-4cb4-a170-5b112fdc7f14",
   "metadata": {},
   "source": [
    "#### Well Properties <a id=\"Properties\"></a>"
   ]
  },
  {
   "cell_type": "markdown",
   "id": "5743b6dc-70d1-4ddd-aa79-0e173dda8dc9",
   "metadata": {},
   "source": [
    "Due to the number of missing values in the well properties, there will be much more focus here on co-occuring missing values"
   ]
  },
  {
   "cell_type": "code",
   "execution_count": 73,
   "id": "ceb42d7d-eaa0-4f9a-baa5-b5074449ba6c",
   "metadata": {},
   "outputs": [
    {
     "data": {
      "text/plain": [
       "count\n",
       "1      3097\n",
       "2      1199\n",
       "3       729\n",
       "4       495\n",
       "5       352\n",
       "       ... \n",
       "502       1\n",
       "506       1\n",
       "508       1\n",
       "515       1\n",
       "268       1\n",
       "Name: count, Length: 429, dtype: int64"
      ]
     },
     "execution_count": 73,
     "metadata": {},
     "output_type": "execute_result"
    }
   ],
   "source": [
    "raw_datasets['well_properties']['operator_name'].value_counts().value_counts()"
   ]
  },
  {
   "cell_type": "markdown",
   "id": "8e331ab8-bc0f-4966-b6fa-f4d7157e59f8",
   "metadata": {},
   "source": [
    "Indeed many operators seem to have a very small number of wells, so having a large vs small operator may be a noteworthy feature"
   ]
  },
  {
   "cell_type": "code",
   "execution_count": 76,
   "id": "c2a316a0-ccbc-47b1-972a-d72c79d3e7f2",
   "metadata": {},
   "outputs": [
    {
     "data": {
      "text/plain": [
       "operator_name\n",
       "HILCORP ENERGY COMPANY              15764\n",
       "OCCIDENTAL PERMIAN LTD.             10782\n",
       "SCOUT ENERGY MANAGEMENT LLC         10105\n",
       "DIAMONDBACK E&P LLC                  9702\n",
       "PIONEER NATURAL RES. USA, INC.       9562\n",
       "UPP OPERATING, LLC                   7286\n",
       "EOG RESOURCES, INC.                  5616\n",
       "APACHE CORPORATION                   4931\n",
       "XTO ENERGY INC.                      4726\n",
       "SABINAL ENERGY OPERATING, LLC        4658\n",
       "BKV BARNETT, LLC                     4334\n",
       "DIVERSIFIED PRODUCTION LLC           4205\n",
       "BASA RESOURCES, INC.                 3617\n",
       "JAVELIN ENERGY PARTNERS MGMT LLC     3501\n",
       "COG OPERATING LLC                    3405\n",
       "CONTANGO RESOURCES, LLC              3396\n",
       "FORMENTERA OPERATIONS LLC            3083\n",
       "OXY USA WTP LP                       3026\n",
       "BURK ROYALTY CO., LTD.               2973\n",
       "KINDER MORGAN PRODUCTION CO LLC      2819\n",
       "Name: count, dtype: int64"
      ]
     },
     "execution_count": 76,
     "metadata": {},
     "output_type": "execute_result"
    }
   ],
   "source": [
    "raw_datasets['well_properties']['operator_name'].value_counts().head(20)"
   ]
  },
  {
   "cell_type": "code",
   "execution_count": 77,
   "id": "2947d24d-8c2f-48f3-b7c2-c918e4c4f1cb",
   "metadata": {},
   "outputs": [
    {
     "data": {
      "text/plain": [
       "count    9646.00\n",
       "mean       44.65\n",
       "std       341.59\n",
       "min         1.00\n",
       "25%         1.00\n",
       "50%         3.00\n",
       "75%        14.00\n",
       "max     15764.00\n",
       "Name: count, dtype: float64"
      ]
     },
     "execution_count": 77,
     "metadata": {},
     "output_type": "execute_result"
    }
   ],
   "source": [
    "raw_datasets['well_properties']['operator_name'].value_counts().describe()"
   ]
  },
  {
   "cell_type": "code",
   "execution_count": 82,
   "id": "a0576c32-33fb-4e5e-b911-5e9b625fd89a",
   "metadata": {},
   "outputs": [],
   "source": [
    "def find_missing_cooccurrences(df, column_name):\n",
    "  \"\"\"\n",
    "    Calculates how many missing values in the specified column\n",
    "    co-occur with missing values in other columns.\n",
    "\n",
    "    Args:\n",
    "        df: The input pandas DataFrame.\n",
    "        column_name: The name of the column to analyze.\n",
    "\n",
    "    Returns:\n",
    "       A dictionary where keys are other column names and values are the number of rows\n",
    "       where the input column and the other column share missing values.\n",
    "    \"\"\"\n",
    "\n",
    "  # Generate boolean mask for missing values in the input column\n",
    "  missing_input_col = df[column_name].isnull()\n",
    "\n",
    "  cooccurrence_counts = {}\n",
    "  nonnull_cols=['lon_surface', 'lat_surface', 'lon_bottomhole', 'lat_bottomhole', 'depth_tvd', 'measured_depth', 'horizontal_length', 'wellbore_type', 'field_name', 'sub_region']\n",
    "  for col in nonnull_cols:\n",
    "    if col != column_name:\n",
    "      missing_other_col = df[col].isnull()\n",
    "        # Count the number of rows where both masks are True\n",
    "      cooccurrence_counts[col] = (missing_input_col & missing_other_col).sum()\n",
    "  return cooccurrence_counts"
   ]
  },
  {
   "cell_type": "code",
   "execution_count": 83,
   "id": "7cb7c825-dea6-42f9-b2b1-a2c081dce2d1",
   "metadata": {},
   "outputs": [
    {
     "data": {
      "text/plain": [
       "{'lon_surface': 0,\n",
       " 'lat_surface': 0,\n",
       " 'lon_bottomhole': 3,\n",
       " 'lat_bottomhole': 3,\n",
       " 'depth_tvd': 1,\n",
       " 'measured_depth': 3,\n",
       " 'horizontal_length': 1,\n",
       " 'wellbore_type': 3,\n",
       " 'field_name': 4,\n",
       " 'sub_region': 3}"
      ]
     },
     "execution_count": 83,
     "metadata": {},
     "output_type": "execute_result"
    }
   ],
   "source": [
    "find_missing_cooccurrences(raw_datasets['well_properties'], 'operator_name')"
   ]
  },
  {
   "cell_type": "markdown",
   "id": "dacc6c39-100c-42f6-ad0d-a93d58dd17f4",
   "metadata": {},
   "source": [
    "There seems like some meaningful co-occurrence here, but it's such small numbers that it probably doesn't matter too much"
   ]
  },
  {
   "cell_type": "code",
   "execution_count": 84,
   "id": "7ed7afd1-afe4-4de4-922b-1c51aea4371a",
   "metadata": {},
   "outputs": [
    {
     "data": {
      "text/html": [
       "<div>\n",
       "<style scoped>\n",
       "    .dataframe tbody tr th:only-of-type {\n",
       "        vertical-align: middle;\n",
       "    }\n",
       "\n",
       "    .dataframe tbody tr th {\n",
       "        vertical-align: top;\n",
       "    }\n",
       "\n",
       "    .dataframe thead th {\n",
       "        text-align: right;\n",
       "    }\n",
       "</style>\n",
       "<table border=\"1\" class=\"dataframe\">\n",
       "  <thead>\n",
       "    <tr style=\"text-align: right;\">\n",
       "      <th></th>\n",
       "      <th>lon_surface</th>\n",
       "      <th>lat_surface</th>\n",
       "    </tr>\n",
       "  </thead>\n",
       "  <tbody>\n",
       "    <tr>\n",
       "      <th>count</th>\n",
       "      <td>428394.00</td>\n",
       "      <td>428394.00</td>\n",
       "    </tr>\n",
       "    <tr>\n",
       "      <th>mean</th>\n",
       "      <td>-99.82</td>\n",
       "      <td>31.81</td>\n",
       "    </tr>\n",
       "    <tr>\n",
       "      <th>std</th>\n",
       "      <td>2.57</td>\n",
       "      <td>2.00</td>\n",
       "    </tr>\n",
       "    <tr>\n",
       "      <th>min</th>\n",
       "      <td>-107.74</td>\n",
       "      <td>25.98</td>\n",
       "    </tr>\n",
       "    <tr>\n",
       "      <th>25%</th>\n",
       "      <td>-102.02</td>\n",
       "      <td>30.87</td>\n",
       "    </tr>\n",
       "    <tr>\n",
       "      <th>50%</th>\n",
       "      <td>-100.31</td>\n",
       "      <td>32.04</td>\n",
       "    </tr>\n",
       "    <tr>\n",
       "      <th>75%</th>\n",
       "      <td>-97.90</td>\n",
       "      <td>32.94</td>\n",
       "    </tr>\n",
       "    <tr>\n",
       "      <th>max</th>\n",
       "      <td>-93.53</td>\n",
       "      <td>36.50</td>\n",
       "    </tr>\n",
       "  </tbody>\n",
       "</table>\n",
       "</div>"
      ],
      "text/plain": [
       "       lon_surface  lat_surface\n",
       "count    428394.00    428394.00\n",
       "mean        -99.82        31.81\n",
       "std           2.57         2.00\n",
       "min        -107.74        25.98\n",
       "25%        -102.02        30.87\n",
       "50%        -100.31        32.04\n",
       "75%         -97.90        32.94\n",
       "max         -93.53        36.50"
      ]
     },
     "execution_count": 84,
     "metadata": {},
     "output_type": "execute_result"
    }
   ],
   "source": [
    "raw_datasets['well_properties'][['lon_surface', 'lat_surface']].describe()"
   ]
  },
  {
   "cell_type": "markdown",
   "id": "4ecf96e9-508d-470e-bef4-f7363a7b5e10",
   "metadata": {},
   "source": [
    "There does seem to be some data there that may be slightly outside Texas (which has a western most point of -106.6), but it mostly looks sensible"
   ]
  },
  {
   "cell_type": "code",
   "execution_count": 85,
   "id": "22a61847-5026-486c-b9a6-2b7274f224f0",
   "metadata": {},
   "outputs": [
    {
     "data": {
      "text/plain": [
       "{'lat_surface': 2267,\n",
       " 'lon_bottomhole': 2267,\n",
       " 'lat_bottomhole': 2267,\n",
       " 'depth_tvd': 2234,\n",
       " 'measured_depth': 826,\n",
       " 'horizontal_length': 2248,\n",
       " 'wellbore_type': 2187,\n",
       " 'field_name': 1,\n",
       " 'sub_region': 0}"
      ]
     },
     "execution_count": 85,
     "metadata": {},
     "output_type": "execute_result"
    }
   ],
   "source": [
    "find_missing_cooccurrences(raw_datasets['well_properties'], 'lon_surface')"
   ]
  },
  {
   "cell_type": "code",
   "execution_count": 86,
   "id": "79d743f7-de9a-4e46-8ad6-37fe733a1b4f",
   "metadata": {},
   "outputs": [
    {
     "data": {
      "text/plain": [
       "{'lon_surface': 2267,\n",
       " 'lon_bottomhole': 2267,\n",
       " 'lat_bottomhole': 2267,\n",
       " 'depth_tvd': 2234,\n",
       " 'measured_depth': 826,\n",
       " 'horizontal_length': 2248,\n",
       " 'wellbore_type': 2187,\n",
       " 'field_name': 1,\n",
       " 'sub_region': 0}"
      ]
     },
     "execution_count": 86,
     "metadata": {},
     "output_type": "execute_result"
    }
   ],
   "source": [
    "find_missing_cooccurrences(raw_datasets['well_properties'], 'lat_surface')"
   ]
  },
  {
   "cell_type": "markdown",
   "id": "4382293a-893c-4c4f-9dce-f1dc720225a4",
   "metadata": {},
   "source": [
    "We see perfect co-occurrence in the case of bottomhole lat/lon values, so if we're missing surface values we have no exact location information.\n",
    "\n",
    "Depth_tvd, horizontal_length and wellbore_type also have very good co-occurrence, but I don't see much relationship here. Unfortunately in these cases we have very little information about the wells in question, so that seems to be the main thing indicated, and since we need to forecast decline for all wells, we will need to decide what to do about this.\n",
    "\n",
    "One thing that comes to mind is using some kind of clustering solution and figuring out for these wells what production cluster they belong into, and use that to impute the other values as best as possible (including average lat/lon in the cluster or imputed region, etc.)"
   ]
  },
  {
   "cell_type": "code",
   "execution_count": 87,
   "id": "4a40b870-a82b-4e3f-a451-e00a80bccae6",
   "metadata": {},
   "outputs": [
    {
     "data": {
      "text/html": [
       "<div>\n",
       "<style scoped>\n",
       "    .dataframe tbody tr th:only-of-type {\n",
       "        vertical-align: middle;\n",
       "    }\n",
       "\n",
       "    .dataframe tbody tr th {\n",
       "        vertical-align: top;\n",
       "    }\n",
       "\n",
       "    .dataframe thead th {\n",
       "        text-align: right;\n",
       "    }\n",
       "</style>\n",
       "<table border=\"1\" class=\"dataframe\">\n",
       "  <thead>\n",
       "    <tr style=\"text-align: right;\">\n",
       "      <th></th>\n",
       "      <th>lon_bottomhole</th>\n",
       "      <th>lat_bottomhole</th>\n",
       "    </tr>\n",
       "  </thead>\n",
       "  <tbody>\n",
       "    <tr>\n",
       "      <th>count</th>\n",
       "      <td>428382</td>\n",
       "      <td>428382</td>\n",
       "    </tr>\n",
       "    <tr>\n",
       "      <th>unique</th>\n",
       "      <td>414990</td>\n",
       "      <td>409858</td>\n",
       "    </tr>\n",
       "    <tr>\n",
       "      <th>top</th>\n",
       "      <td>-99.163214</td>\n",
       "      <td>31.999819</td>\n",
       "    </tr>\n",
       "    <tr>\n",
       "      <th>freq</th>\n",
       "      <td>8</td>\n",
       "      <td>6</td>\n",
       "    </tr>\n",
       "  </tbody>\n",
       "</table>\n",
       "</div>"
      ],
      "text/plain": [
       "       lon_bottomhole lat_bottomhole\n",
       "count          428382         428382\n",
       "unique         414990         409858\n",
       "top        -99.163214      31.999819\n",
       "freq                8              6"
      ]
     },
     "execution_count": 87,
     "metadata": {},
     "output_type": "execute_result"
    }
   ],
   "source": [
    "raw_datasets['well_properties'][['lon_bottomhole', 'lat_bottomhole']].describe()"
   ]
  },
  {
   "cell_type": "markdown",
   "id": "dca191ef-322c-4703-a1d6-938348c30976",
   "metadata": {},
   "source": [
    "These need to be floats, not strings"
   ]
  },
  {
   "cell_type": "code",
   "execution_count": 16,
   "id": "76080101-995e-4b66-b6f6-0f8c9a03ffb5",
   "metadata": {},
   "outputs": [
    {
     "name": "stdout",
     "output_type": "stream",
     "text": [
      "<class 'pandas.core.frame.DataFrame'>\n",
      "RangeIndex: 430661 entries, 0 to 430660\n",
      "Data columns (total 19 columns):\n",
      " #   Column             Non-Null Count   Dtype  \n",
      "---  ------             --------------   -----  \n",
      " 0   api_no_10          430661 non-null  object \n",
      " 1   operator_name      430657 non-null  object \n",
      " 2   lon_surface        428394 non-null  float64\n",
      " 3   lat_surface        428394 non-null  float64\n",
      " 4   lon_bottomhole     428382 non-null  float64\n",
      " 5   lat_bottomhole     428382 non-null  float64\n",
      " 6   elevation_ground   0 non-null       object \n",
      " 7   depth_tvd          32733 non-null   float64\n",
      " 8   lower_perf         0 non-null       object \n",
      " 9   upper_perf         0 non-null       object \n",
      " 10  measured_depth     391995 non-null  object \n",
      " 11  horizontal_length  102008 non-null  float64\n",
      " 12  wellbore_type      428462 non-null  object \n",
      " 13  field_name         429374 non-null  object \n",
      " 14  township           0 non-null       object \n",
      " 15  section            0 non-null       object \n",
      " 16  range              0 non-null       object \n",
      " 17  county_name        430661 non-null  object \n",
      " 18  sub_region         430658 non-null  object \n",
      "dtypes: float64(6), object(13)\n",
      "memory usage: 62.4+ MB\n"
     ]
    }
   ],
   "source": [
    "raw_datasets['well_properties']['lon_bottomhole'] = pd.to_numeric(raw_datasets['well_properties']['lon_bottomhole'])\n",
    "raw_datasets['well_properties']['lat_bottomhole'] = pd.to_numeric(raw_datasets['well_properties']['lat_bottomhole'])\n",
    "raw_datasets['well_properties'].info()"
   ]
  },
  {
   "cell_type": "code",
   "execution_count": 91,
   "id": "793b75b4-d9ff-4a82-b13d-d7c41f61bbbd",
   "metadata": {
    "scrolled": true
   },
   "outputs": [
    {
     "data": {
      "text/html": [
       "<div>\n",
       "<style scoped>\n",
       "    .dataframe tbody tr th:only-of-type {\n",
       "        vertical-align: middle;\n",
       "    }\n",
       "\n",
       "    .dataframe tbody tr th {\n",
       "        vertical-align: top;\n",
       "    }\n",
       "\n",
       "    .dataframe thead th {\n",
       "        text-align: right;\n",
       "    }\n",
       "</style>\n",
       "<table border=\"1\" class=\"dataframe\">\n",
       "  <thead>\n",
       "    <tr style=\"text-align: right;\">\n",
       "      <th></th>\n",
       "      <th>lon_bottomhole</th>\n",
       "      <th>lat_bottomhole</th>\n",
       "    </tr>\n",
       "  </thead>\n",
       "  <tbody>\n",
       "    <tr>\n",
       "      <th>count</th>\n",
       "      <td>428382.00</td>\n",
       "      <td>428382.00</td>\n",
       "    </tr>\n",
       "    <tr>\n",
       "      <th>mean</th>\n",
       "      <td>-99.82</td>\n",
       "      <td>31.81</td>\n",
       "    </tr>\n",
       "    <tr>\n",
       "      <th>std</th>\n",
       "      <td>2.57</td>\n",
       "      <td>2.00</td>\n",
       "    </tr>\n",
       "    <tr>\n",
       "      <th>min</th>\n",
       "      <td>-104.84</td>\n",
       "      <td>25.97</td>\n",
       "    </tr>\n",
       "    <tr>\n",
       "      <th>25%</th>\n",
       "      <td>-102.02</td>\n",
       "      <td>30.87</td>\n",
       "    </tr>\n",
       "    <tr>\n",
       "      <th>50%</th>\n",
       "      <td>-100.31</td>\n",
       "      <td>32.03</td>\n",
       "    </tr>\n",
       "    <tr>\n",
       "      <th>75%</th>\n",
       "      <td>-97.90</td>\n",
       "      <td>32.94</td>\n",
       "    </tr>\n",
       "    <tr>\n",
       "      <th>max</th>\n",
       "      <td>-93.53</td>\n",
       "      <td>36.50</td>\n",
       "    </tr>\n",
       "  </tbody>\n",
       "</table>\n",
       "</div>"
      ],
      "text/plain": [
       "       lon_bottomhole  lat_bottomhole\n",
       "count       428382.00       428382.00\n",
       "mean           -99.82           31.81\n",
       "std              2.57            2.00\n",
       "min           -104.84           25.97\n",
       "25%           -102.02           30.87\n",
       "50%           -100.31           32.03\n",
       "75%            -97.90           32.94\n",
       "max            -93.53           36.50"
      ]
     },
     "execution_count": 91,
     "metadata": {},
     "output_type": "execute_result"
    }
   ],
   "source": [
    "raw_datasets['well_properties'][['lon_bottomhole', 'lat_bottomhole']].describe()"
   ]
  },
  {
   "cell_type": "markdown",
   "id": "34540bb0-fcc5-492d-bbb9-3e80d4d94098",
   "metadata": {},
   "source": [
    "These values also look sane, so we'll move on"
   ]
  },
  {
   "cell_type": "code",
   "execution_count": 92,
   "id": "f3c70089-fb35-4825-8378-4cd9075b1846",
   "metadata": {},
   "outputs": [
    {
     "data": {
      "text/plain": [
       "{'lon_surface': 2267,\n",
       " 'lat_surface': 2267,\n",
       " 'lat_bottomhole': 2279,\n",
       " 'depth_tvd': 2243,\n",
       " 'measured_depth': 830,\n",
       " 'horizontal_length': 2252,\n",
       " 'wellbore_type': 2199,\n",
       " 'field_name': 4,\n",
       " 'sub_region': 3}"
      ]
     },
     "execution_count": 92,
     "metadata": {},
     "output_type": "execute_result"
    }
   ],
   "source": [
    "find_missing_cooccurrences(raw_datasets['well_properties'], 'lon_bottomhole')"
   ]
  },
  {
   "cell_type": "code",
   "execution_count": 93,
   "id": "d79c93d0-78c0-4688-a28a-44ee824b5d52",
   "metadata": {},
   "outputs": [
    {
     "data": {
      "text/plain": [
       "{'lon_surface': 2267,\n",
       " 'lat_surface': 2267,\n",
       " 'lon_bottomhole': 2279,\n",
       " 'depth_tvd': 2243,\n",
       " 'measured_depth': 830,\n",
       " 'horizontal_length': 2252,\n",
       " 'wellbore_type': 2199,\n",
       " 'field_name': 4,\n",
       " 'sub_region': 3}"
      ]
     },
     "execution_count": 93,
     "metadata": {},
     "output_type": "execute_result"
    }
   ],
   "source": [
    "find_missing_cooccurrences(raw_datasets['well_properties'], 'lat_bottomhole')"
   ]
  },
  {
   "cell_type": "markdown",
   "id": "10ac6ad2-a917-417f-9fff-b1d1ca5a817a",
   "metadata": {},
   "source": [
    "It's a very similar case to the surface lat/lon, perfect co-occurrence with the other bottomhole, surface has a very lacking on the bottom but it's roughly the same amount, and there is high co-occurrence with some other features which implies that certain wells simply have very little information"
   ]
  },
  {
   "cell_type": "code",
   "execution_count": 94,
   "id": "707f4af0-c934-4ee0-821e-9d75df96ea70",
   "metadata": {},
   "outputs": [
    {
     "data": {
      "text/plain": [
       "count   32733.00\n",
       "mean     7476.00\n",
       "std      2808.32\n",
       "min       100.00\n",
       "25%      5250.00\n",
       "50%      7861.00\n",
       "75%      9480.00\n",
       "max     21708.00\n",
       "Name: depth_tvd, dtype: float64"
      ]
     },
     "execution_count": 94,
     "metadata": {},
     "output_type": "execute_result"
    }
   ],
   "source": [
    "raw_datasets['well_properties']['depth_tvd'].describe()"
   ]
  },
  {
   "cell_type": "code",
   "execution_count": 96,
   "id": "9771e51a-e3ea-4e61-a494-e0491dc6977e",
   "metadata": {},
   "outputs": [
    {
     "data": {
      "image/png": "[encoded data removed]",
      "text/plain": [
       "<Figure size 640x480 with 1 Axes>"
      ]
     },
     "metadata": {},
     "output_type": "display_data"
    }
   ],
   "source": [
    "raw_datasets['well_properties']['depth_tvd'].hist();"
   ]
  },
  {
   "cell_type": "markdown",
   "id": "2ac3bfbb-05d5-4826-a92b-a62ed5e2443d",
   "metadata": {},
   "source": [
    "The values seem to follow a reasonable enough curve that has a roughly bell shape without anything seeming outlandish, so I think we can move on here"
   ]
  },
  {
   "cell_type": "code",
   "execution_count": 97,
   "id": "20ddd46c-9ffc-4b23-9a79-7429e584d76f",
   "metadata": {},
   "outputs": [
    {
     "data": {
      "text/plain": [
       "{'lon_surface': 2234,\n",
       " 'lat_surface': 2234,\n",
       " 'lon_bottomhole': 2243,\n",
       " 'lat_bottomhole': 2243,\n",
       " 'measured_depth': 38623,\n",
       " 'horizontal_length': 314838,\n",
       " 'wellbore_type': 2190,\n",
       " 'field_name': 1282,\n",
       " 'sub_region': 0}"
      ]
     },
     "execution_count": 97,
     "metadata": {},
     "output_type": "execute_result"
    }
   ],
   "source": [
    "find_missing_cooccurrences(raw_datasets['well_properties'], 'depth_tvd')"
   ]
  },
  {
   "cell_type": "markdown",
   "id": "007cb9e8-2309-48b9-a012-97f3ff30f326",
   "metadata": {},
   "source": [
    "The only highly co-occurring value is horizontal length, maybe it's the case that these tend to be measured together or only for certain types of wellbores. In the other cases, co-occurrence values are small enough that there might be hope to impute a value like this from those (such as from measured depth, although obviously it can't be the same, but maybe lon/lat at the surface and bottom can help us mathematically work out the difference)"
   ]
  },
  {
   "cell_type": "code",
   "execution_count": 98,
   "id": "f7d7f38f-1f55-48cb-9a4d-c85403ae1ccd",
   "metadata": {},
   "outputs": [
    {
     "data": {
      "text/plain": [
       "count      391995\n",
       "unique      16379\n",
       "top       3200.00\n",
       "freq          888\n",
       "Name: measured_depth, dtype: object"
      ]
     },
     "execution_count": 98,
     "metadata": {},
     "output_type": "execute_result"
    }
   ],
   "source": [
    "raw_datasets['well_properties']['measured_depth'].describe()"
   ]
  },
  {
   "cell_type": "markdown",
   "id": "c6294461-a117-4732-bcd2-6d62b5f7aa63",
   "metadata": {},
   "source": [
    "Gotta convert this one to numeric as well"
   ]
  },
  {
   "cell_type": "code",
   "execution_count": 17,
   "id": "cf0efca5-e8f2-4995-8113-c1736489ce0f",
   "metadata": {},
   "outputs": [
    {
     "name": "stdout",
     "output_type": "stream",
     "text": [
      "<class 'pandas.core.frame.DataFrame'>\n",
      "RangeIndex: 430661 entries, 0 to 430660\n",
      "Data columns (total 19 columns):\n",
      " #   Column             Non-Null Count   Dtype  \n",
      "---  ------             --------------   -----  \n",
      " 0   api_no_10          430661 non-null  object \n",
      " 1   operator_name      430657 non-null  object \n",
      " 2   lon_surface        428394 non-null  float64\n",
      " 3   lat_surface        428394 non-null  float64\n",
      " 4   lon_bottomhole     428382 non-null  float64\n",
      " 5   lat_bottomhole     428382 non-null  float64\n",
      " 6   elevation_ground   0 non-null       object \n",
      " 7   depth_tvd          32733 non-null   float64\n",
      " 8   lower_perf         0 non-null       object \n",
      " 9   upper_perf         0 non-null       object \n",
      " 10  measured_depth     391995 non-null  float64\n",
      " 11  horizontal_length  102008 non-null  float64\n",
      " 12  wellbore_type      428462 non-null  object \n",
      " 13  field_name         429374 non-null  object \n",
      " 14  township           0 non-null       object \n",
      " 15  section            0 non-null       object \n",
      " 16  range              0 non-null       object \n",
      " 17  county_name        430661 non-null  object \n",
      " 18  sub_region         430658 non-null  object \n",
      "dtypes: float64(7), object(12)\n",
      "memory usage: 62.4+ MB\n"
     ]
    }
   ],
   "source": [
    "raw_datasets['well_properties']['measured_depth'] = pd.to_numeric(raw_datasets['well_properties']['measured_depth'])\n",
    "raw_datasets['well_properties'].info()"
   ]
  },
  {
   "cell_type": "code",
   "execution_count": 100,
   "id": "5cc5fedb-61f5-4af2-ba87-f6db63126785",
   "metadata": {},
   "outputs": [
    {
     "data": {
      "text/plain": [
       "count   391995.00\n",
       "mean      6746.12\n",
       "std       3553.44\n",
       "min          1.00\n",
       "25%       3735.50\n",
       "50%       6796.00\n",
       "75%       9500.00\n",
       "max      26805.00\n",
       "Name: measured_depth, dtype: float64"
      ]
     },
     "execution_count": 100,
     "metadata": {},
     "output_type": "execute_result"
    }
   ],
   "source": [
    "raw_datasets['well_properties']['measured_depth'].describe()"
   ]
  },
  {
   "cell_type": "code",
   "execution_count": 101,
   "id": "005d763b-851f-47d5-a710-4558fd20bf3c",
   "metadata": {},
   "outputs": [
    {
     "data": {
      "image/png": "[encoded data removed]",
      "text/plain": [
       "<Figure size 640x480 with 1 Axes>"
      ]
     },
     "metadata": {},
     "output_type": "display_data"
    }
   ],
   "source": [
    "raw_datasets['well_properties']['measured_depth'].hist();"
   ]
  },
  {
   "cell_type": "markdown",
   "id": "0cc2e15e-76e0-4042-a0a0-02565f3b3ee5",
   "metadata": {},
   "source": [
    "Not a bell curve, but nonetheless it's a pretty continuous, smooth looking distribution that seems plausible enough not to need a major overhaul"
   ]
  },
  {
   "cell_type": "code",
   "execution_count": 102,
   "id": "ef442f94-6681-4aa5-b3a6-e8c341e2e64b",
   "metadata": {},
   "outputs": [
    {
     "data": {
      "text/plain": [
       "{'lon_surface': 826,\n",
       " 'lat_surface': 826,\n",
       " 'lon_bottomhole': 830,\n",
       " 'lat_bottomhole': 830,\n",
       " 'depth_tvd': 38623,\n",
       " 'horizontal_length': 37972,\n",
       " 'wellbore_type': 825,\n",
       " 'field_name': 515,\n",
       " 'sub_region': 3}"
      ]
     },
     "execution_count": 102,
     "metadata": {},
     "output_type": "execute_result"
    }
   ],
   "source": [
    "find_missing_cooccurrences(raw_datasets['well_properties'], 'measured_depth')"
   ]
  },
  {
   "cell_type": "markdown",
   "id": "c68ca2b6-1dfc-4b19-ba6e-76c0946e8647",
   "metadata": {},
   "source": [
    "Near perfect co-occurrence in the case of depth_tvd and horizontal_length, so these seem like strongly related features which is how it already seemed in the case of investigating depth_tvd"
   ]
  },
  {
   "cell_type": "code",
   "execution_count": 103,
   "id": "7fc93543-c90e-47f7-8611-afc0b8d66f7b",
   "metadata": {},
   "outputs": [
    {
     "data": {
      "text/plain": [
       "count   102008.00\n",
       "mean      5772.75\n",
       "std       3641.16\n",
       "min          0.06\n",
       "25%       3050.63\n",
       "50%       5298.67\n",
       "75%       8290.70\n",
       "max      22742.08\n",
       "Name: horizontal_length, dtype: float64"
      ]
     },
     "execution_count": 103,
     "metadata": {},
     "output_type": "execute_result"
    }
   ],
   "source": [
    "raw_datasets['well_properties']['horizontal_length'].describe()"
   ]
  },
  {
   "cell_type": "code",
   "execution_count": 104,
   "id": "b46b89cf-e252-4ecf-a757-bcee646aee36",
   "metadata": {},
   "outputs": [
    {
     "data": {
      "image/png": "[encoded data removed]",
      "text/plain": [
       "<Figure size 640x480 with 1 Axes>"
      ]
     },
     "metadata": {},
     "output_type": "display_data"
    }
   ],
   "source": [
    "raw_datasets['well_properties']['horizontal_length'].hist();"
   ]
  },
  {
   "cell_type": "markdown",
   "id": "24d0b374-7abe-442c-b463-c4b5b3176363",
   "metadata": {},
   "source": [
    "There are some spikes in this graph, but that doesn't necessarily seem unreasonable, there don't seem to be huge outliers either so let's run with it"
   ]
  },
  {
   "cell_type": "code",
   "execution_count": 105,
   "id": "d45af4d9-92ff-4e85-b614-57f05836b81e",
   "metadata": {},
   "outputs": [
    {
     "data": {
      "text/plain": [
       "{'lon_surface': 2248,\n",
       " 'lat_surface': 2248,\n",
       " 'lon_bottomhole': 2252,\n",
       " 'lat_bottomhole': 2252,\n",
       " 'depth_tvd': 314838,\n",
       " 'measured_depth': 37972,\n",
       " 'wellbore_type': 2191,\n",
       " 'field_name': 1226,\n",
       " 'sub_region': 0}"
      ]
     },
     "execution_count": 105,
     "metadata": {},
     "output_type": "execute_result"
    }
   ],
   "source": [
    "find_missing_cooccurrences(raw_datasets['well_properties'], 'horizontal_length')"
   ]
  },
  {
   "cell_type": "markdown",
   "id": "4886f93e-f445-4172-8f26-8f034d765328",
   "metadata": {},
   "source": [
    "This has near perfect co-occurrence for every single feature, so horizontal_length is useful predictor of missing data and data quality in general (but not that good since it's missing much more than most of the other columns, and sometimes that may be for good reason like not being related to the type of wellbore)"
   ]
  },
  {
   "cell_type": "code",
   "execution_count": 106,
   "id": "35df14db-1114-4861-bdce-57285bf6430c",
   "metadata": {},
   "outputs": [
    {
     "data": {
      "text/plain": [
       "wellbore_type\n",
       "Unknown        326435\n",
       "Horizontal      89083\n",
       "Directional     12944\n",
       "Name: count, dtype: int64"
      ]
     },
     "execution_count": 106,
     "metadata": {},
     "output_type": "execute_result"
    }
   ],
   "source": [
    "raw_datasets['well_properties']['wellbore_type'].value_counts()"
   ]
  },
  {
   "cell_type": "markdown",
   "id": "cc79e6f9-abd3-49a8-b049-c9c6f4f8fe06",
   "metadata": {},
   "source": [
    "This is unfortunate, since although there weren't many missing values on the face of it, in fact like 75% of the data just says \"unknown\" and is therefore missing. So it might have to be imputed from the production profile, but in turn that could give a lot of information"
   ]
  },
  {
   "cell_type": "code",
   "execution_count": 107,
   "id": "461729f5-917f-4661-9167-6236f701239b",
   "metadata": {},
   "outputs": [
    {
     "data": {
      "text/plain": [
       "{'lon_surface': 2187,\n",
       " 'lat_surface': 2187,\n",
       " 'lon_bottomhole': 2199,\n",
       " 'lat_bottomhole': 2199,\n",
       " 'depth_tvd': 2190,\n",
       " 'measured_depth': 825,\n",
       " 'horizontal_length': 2191,\n",
       " 'field_name': 4,\n",
       " 'sub_region': 3}"
      ]
     },
     "execution_count": 107,
     "metadata": {},
     "output_type": "execute_result"
    }
   ],
   "source": [
    "find_missing_cooccurrences(raw_datasets['well_properties'], 'wellbore_type')"
   ]
  },
  {
   "cell_type": "markdown",
   "id": "cac06f8b-c3c2-4605-a5e9-a826f521b09f",
   "metadata": {},
   "source": [
    "near perfect co-occurrence with everything except measured depth and field name\n",
    "\n",
    "I would also be interesting in asking the question of what missing values correspond to the 'unknown' class. It would easily be possible to generalize the function I created to deal with different values besides null, but we'll just make a different version below for simplicity's sake"
   ]
  },
  {
   "cell_type": "code",
   "execution_count": 114,
   "id": "f3d4d69f-27c0-439b-bf0d-2e123d43d2fd",
   "metadata": {},
   "outputs": [],
   "source": [
    "def find_unknown_cooccurrences(df, column_name):\n",
    "  \"\"\"\n",
    "    Calculates how many unknown values in the specified column\n",
    "    co-occur with missing values in other columns.\n",
    "\n",
    "    Args:\n",
    "        df: The input pandas DataFrame.\n",
    "        column_name: The name of the column to analyze.\n",
    "\n",
    "    Returns:\n",
    "       A dictionary where keys are other column names and values are the number of rows\n",
    "       where the input column and the other column share unknown and missing values.\n",
    "    \"\"\"\n",
    "\n",
    "  # Generate boolean mask for missing values in the input column\n",
    "  unknown_input_col = df[column_name]=='Unknown'\n",
    "\n",
    "  cooccurrence_counts = {}\n",
    "  nonnull_cols=['lon_surface', 'lat_surface', 'lon_bottomhole', 'lat_bottomhole', 'depth_tvd', 'measured_depth', 'horizontal_length', 'wellbore_type', 'field_name', 'sub_region']\n",
    "  for col in nonnull_cols:\n",
    "    if col != column_name:\n",
    "      missing_other_col = df[col].isnull()\n",
    "        # Count the number of rows where both masks are True\n",
    "      cooccurrence_counts[col] = (unknown_input_col & missing_other_col).sum()\n",
    "  return cooccurrence_counts"
   ]
  },
  {
   "cell_type": "code",
   "execution_count": 115,
   "id": "1e9f73c7-5559-47cf-bc80-39a042f19651",
   "metadata": {},
   "outputs": [
    {
     "data": {
      "text/plain": [
       "{'lon_surface': 56,\n",
       " 'lat_surface': 56,\n",
       " 'lon_bottomhole': 56,\n",
       " 'lat_bottomhole': 56,\n",
       " 'depth_tvd': 312633,\n",
       " 'measured_depth': 37149,\n",
       " 'horizontal_length': 326431,\n",
       " 'field_name': 1224,\n",
       " 'sub_region': 0}"
      ]
     },
     "execution_count": 115,
     "metadata": {},
     "output_type": "execute_result"
    }
   ],
   "source": [
    "find_unknown_cooccurrences(raw_datasets['well_properties'], 'wellbore_type')"
   ]
  },
  {
   "cell_type": "markdown",
   "id": "aa37aa2e-690a-4736-8e8b-73cb3e2e28a1",
   "metadata": {},
   "source": [
    "Near perfect co-occurrence with depth_tvd, measured_depth and horizontal_length. It's obvious why it would be the case for horizontal length, but maybe non-directional or non-horizontal drilling has an important relationship with depth as well.\n",
    "\n",
    "Also near perfect co-occurrence with field_name"
   ]
  },
  {
   "cell_type": "code",
   "execution_count": 116,
   "id": "3041dc06-d9d8-467b-8752-86e3c03f39f8",
   "metadata": {},
   "outputs": [
    {
     "data": {
      "text/plain": [
       "field_name\n",
       "SPRABERRY (TREND AREA)              41438\n",
       "NEWARK, EAST (BARNETT SHALE)        18322\n",
       "WICHITA COUNTY REGULAR               8163\n",
       "PHANTOM (WOLFCAMP)                   7232\n",
       "EAGLEVILLE (EAGLE FORD-1)            7101\n",
       "                                    ...  \n",
       "NORTHERN RANCH, S. (GRETA SEG B)        1\n",
       "NOBILE (CONGL. 6470)                    1\n",
       "SMILEY, SE (AUSTIN CHALK)               1\n",
       "GRETA, NORTH (6500 SD.)                 1\n",
       "MONTE CHRISTO, SOUTH (11,130)           1\n",
       "Name: count, Length: 19895, dtype: int64"
      ]
     },
     "execution_count": 116,
     "metadata": {},
     "output_type": "execute_result"
    }
   ],
   "source": [
    "raw_datasets['well_properties']['field_name'].value_counts()"
   ]
  },
  {
   "cell_type": "code",
   "execution_count": 118,
   "id": "f797ee8a-4fae-4b9c-a5ae-257724cbf396",
   "metadata": {},
   "outputs": [
    {
     "data": {
      "text/plain": [
       "count   19895.00\n",
       "mean       21.58\n",
       "std       362.01\n",
       "min         1.00\n",
       "25%         1.00\n",
       "50%         2.00\n",
       "75%         5.00\n",
       "max     41438.00\n",
       "Name: count, dtype: float64"
      ]
     },
     "execution_count": 118,
     "metadata": {},
     "output_type": "execute_result"
    }
   ],
   "source": [
    "raw_datasets['well_properties']['field_name'].value_counts().describe()"
   ]
  },
  {
   "cell_type": "code",
   "execution_count": 119,
   "id": "01c3c7f3-6cf6-4fc5-bac3-8c8f8c029c3f",
   "metadata": {},
   "outputs": [
    {
     "data": {
      "text/plain": [
       "field_name\n",
       "SPRABERRY (TREND AREA)              41438\n",
       "NEWARK, EAST (BARNETT SHALE)        18322\n",
       "WICHITA COUNTY REGULAR               8163\n",
       "PHANTOM (WOLFCAMP)                   7232\n",
       "EAGLEVILLE (EAGLE FORD-1)            7101\n",
       "BRISCOE RANCH (EAGLEFORD)            5641\n",
       "SAWYER (CANYON)                      5085\n",
       "PANHANDLE HUTCHINSON COUNTY FLD.     4651\n",
       "EAGLEVILLE (EAGLE FORD-2)            4611\n",
       "LEVELLAND                            4125\n",
       "PANHANDLE GRAY COUNTY FIELD          3986\n",
       "FUHRMAN-MASCHO                       3867\n",
       "WASSON                               3852\n",
       "ARCHER COUNTY REGULAR                3693\n",
       "SLAUGHTER                            3331\n",
       "PANHANDLE, WEST                      3033\n",
       "CARTHAGE (COTTON VALLEY)             2995\n",
       "YOUNG COUNTY REGULAR                 2850\n",
       "GOLDSMITH (CLEAR FORK)               2611\n",
       "MCELROY                              2418\n",
       "GIDDINGS (AUSTIN CHALK-3)            2380\n",
       "WARD-ESTES, NORTH                    2303\n",
       "MONTAGUE COUNTY REGULAR              2194\n",
       "CARTHAGE (HAYNESVILLE SHALE)         2009\n",
       "COOKE COUNTY REGULAR                 1974\n",
       "SHACKELFORD COUNTY REGULAR           1964\n",
       "OAK HILL (COTTON VALLEY)             1953\n",
       "CORSICANA (SHALLOW)                  1935\n",
       "IATAN, EAST HOWARD                   1910\n",
       "OZONA (CANYON SAND)                  1890\n",
       "Name: count, dtype: int64"
      ]
     },
     "execution_count": 119,
     "metadata": {},
     "output_type": "execute_result"
    }
   ],
   "source": [
    "raw_datasets['well_properties']['field_name'].value_counts().head(30)"
   ]
  },
  {
   "cell_type": "markdown",
   "id": "733a3fe4-8a0c-4b05-9444-c781139fe4b2",
   "metadata": {},
   "source": [
    "It seems nearly all field_names have very low values, and this categorical feature also likely has too many classes to be useful, so we may need to summarize information about field_name with a field size to get a sense of the propitiousness of the zone and the crowding.\n",
    "\n",
    "It could also be the case that differently labeled fields are actually the same field with slightly different labels, so we could run an nlp similarity search through this to make sure we don't miss that information"
   ]
  },
  {
   "cell_type": "code",
   "execution_count": 120,
   "id": "df0899a6-6b56-4f59-9cb0-143aec413619",
   "metadata": {},
   "outputs": [
    {
     "data": {
      "text/plain": [
       "{'lon_surface': 1,\n",
       " 'lat_surface': 1,\n",
       " 'lon_bottomhole': 4,\n",
       " 'lat_bottomhole': 4,\n",
       " 'depth_tvd': 1282,\n",
       " 'measured_depth': 515,\n",
       " 'horizontal_length': 1226,\n",
       " 'wellbore_type': 4,\n",
       " 'sub_region': 3}"
      ]
     },
     "execution_count": 120,
     "metadata": {},
     "output_type": "execute_result"
    }
   ],
   "source": [
    "find_missing_cooccurrences(raw_datasets['well_properties'], 'field_name')"
   ]
  },
  {
   "cell_type": "markdown",
   "id": "133ca121-abb8-4e66-be0a-bd19b9216078",
   "metadata": {},
   "source": [
    "Near perfect co-occurrence with depth_tvd and horizontal_length"
   ]
  },
  {
   "cell_type": "code",
   "execution_count": 121,
   "id": "f8d77bb9-bac9-4d07-93dc-85ac470e5295",
   "metadata": {},
   "outputs": [
    {
     "data": {
      "text/plain": [
       "county_name\n",
       "ANDREWS      15625\n",
       "ECTOR        13035\n",
       "MIDLAND      10829\n",
       "MARTIN       10368\n",
       "WICHITA      10234\n",
       "             ...  \n",
       "BLANCO           1\n",
       "FANNIN           1\n",
       "KERR             1\n",
       "DALLAM           1\n",
       "ARMSTRONG        1\n",
       "Name: count, Length: 227, dtype: int64"
      ]
     },
     "execution_count": 121,
     "metadata": {},
     "output_type": "execute_result"
    }
   ],
   "source": [
    "raw_datasets['well_properties']['county_name'].value_counts()"
   ]
  },
  {
   "cell_type": "markdown",
   "id": "12a36994-de1c-4411-865c-d935c1d974c3",
   "metadata": {},
   "source": [
    "This seems like a repeat of the county feature already in the production data, so we could maybe consider running some nlp similarity searches here as well and just making sure the features in these separate dataframes correspond. We may not take that much time on it if it turns out to possibly not be that useful for forecasting though, since some of these location features seem to cover similar information, so we only need to include so many of them, county's might also not have very precise locations due to irregular shapes in some cases"
   ]
  },
  {
   "cell_type": "code",
   "execution_count": 122,
   "id": "1f248b00-f6b5-4604-922b-7305c34787c4",
   "metadata": {},
   "outputs": [
    {
     "data": {
      "text/plain": [
       "sub_region\n",
       "West - TX           188848\n",
       "South - TX           92316\n",
       "Central - TX         91125\n",
       "North - TX           31683\n",
       "Haynesville - TX     26686\n",
       "Name: count, dtype: int64"
      ]
     },
     "execution_count": 122,
     "metadata": {},
     "output_type": "execute_result"
    }
   ],
   "source": [
    "raw_datasets['well_properties']['sub_region'].value_counts()"
   ]
  },
  {
   "cell_type": "markdown",
   "id": "e62da7b0-10f7-4e56-ba4f-cc0d3fd4115a",
   "metadata": {},
   "source": [
    "This seems to be the exact same feature in both datasets, so we should just make sure it makes with production as well\n",
    "\n",
    "Now we are moving onto the last, smallest dataframe, the formations:"
   ]
  },
  {
   "cell_type": "markdown",
   "id": "81bb2fe2-3afa-41eb-9da3-5ccdf2e3af2c",
   "metadata": {},
   "source": [
    "#### Well Formations <a id=\"Formations\"></a>"
   ]
  },
  {
   "cell_type": "code",
   "execution_count": 123,
   "id": "a7547660-0ce7-4faa-aa7d-e668147ffc14",
   "metadata": {},
   "outputs": [
    {
     "data": {
      "text/plain": [
       "formation\n",
       "Barnett                162902\n",
       "Wolfcamp A             116817\n",
       "Eagle Ford              64557\n",
       "Delaware                29416\n",
       "Lower Eagle Ford         3753\n",
       "Abo-yeso                 1692\n",
       "Upper Eagle Ford          996\n",
       "Wolfcamp                  879\n",
       "Wolfcamp D                187\n",
       "Third Bone Spring         142\n",
       "Wolfcamp C                141\n",
       "Wolfcamp A Upper          123\n",
       "Second Bone Spring        108\n",
       "Upper Barnett              98\n",
       "Wolfcamp A Lower           64\n",
       "Cherry Canyon              44\n",
       "Lower Brushy Canyon        44\n",
       "Tuscaloosa                 32\n",
       "Upper Brushy Canyon        29\n",
       "Wolfcamp B Lower           27\n",
       "Wolfcamp B Upper           24\n",
       "Bell Canyon                21\n",
       "First Bone Spring          16\n",
       "Bone Spring                10\n",
       "Lower Barnett              10\n",
       "Name: count, dtype: int64"
      ]
     },
     "execution_count": 123,
     "metadata": {},
     "output_type": "execute_result"
    }
   ],
   "source": [
    "raw_datasets['well_formations']['formation'].value_counts()"
   ]
  },
  {
   "cell_type": "markdown",
   "id": "b4cfe36f-c773-4f8e-a99e-df32f74b6d35",
   "metadata": {},
   "source": [
    "To me this comes across as basically location information, kind of similar to county/field name, etc., but perhaps more specific in this case to the geological location\n",
    "\n",
    "There is a question as to whether to keep it like this or to collapse it more (e.g. we have Wolfcamp, and Wolfcamp C, and Wolfcamp A Upper, etc.), so if we don't collapse this than some wells will have more specific information than others. That can be flagged as an aspect of data quality, but I'm not sure it's necessary at all since we also may be including geospatial information that will help pinpoint where exactly in the location the well is located, thus a larger categorical label may not be adding much.\n",
    "\n",
    "It does give us something interesting to explore though, with things like groupby"
   ]
  },
  {
   "cell_type": "code",
   "execution_count": 124,
   "id": "e812f300-fa64-414e-88c1-252a6dc8954f",
   "metadata": {},
   "outputs": [
    {
     "data": {
      "text/plain": [
       "basin\n",
       "Ft. Worth        163010\n",
       "Permian          149784\n",
       "Western Gulf      69306\n",
       "TX-LA-MS Salt        32\n",
       "Name: count, dtype: int64"
      ]
     },
     "execution_count": 124,
     "metadata": {},
     "output_type": "execute_result"
    }
   ],
   "source": [
    "raw_datasets['well_formations']['basin'].value_counts()"
   ]
  },
  {
   "cell_type": "markdown",
   "id": "b69263fa-91f4-462a-8071-ffdd65e0e5f3",
   "metadata": {},
   "source": [
    "Basin also seems to give us location information of a sort. Since it's geologically based, rather than being based on relatively arbitrary human boundaries like counties and field names seem to be, it might be more useful as a feature and save us the trouble of working with county data for this time limited assessment. **Here is a primer on the meanings of basin and formation and how they may be helpful to us, from AI**:\n",
    "\n",
    "\"In the context of your Texas well data and oil & gas production forecasting, \"formation\" and \"basin\" are crucial geological terms, representing different scales of analysis:\n",
    "\n",
    "Basin:\n",
    "A basin is a large-scale depression in the Earth's crust that accumulates layers of sediment over geological time.\n",
    "Basins can be enormous, covering vast geographical areas.\n",
    "They are essentially the \"birthplace\" of oil and gas, where organic matter is deposited and, over millions of years, transformed into hydrocarbons under intense heat and pressure.\n",
    "Basins often contain multiple geological plays and several different types of traps that hold hydrocarbon reservoirs.\n",
    "Examples from your data: Ft. Worth, Permian, Western Gulf, TX-LA-MS Salt. \n",
    "\n",
    "Formation:\n",
    "A formation is a smaller, more specific layer of rock within a basin that is distinctive and continuous enough to be mapped.\n",
    "Formations are the specific geological units where the oil or gas is contained.\n",
    "In some cases, the source rock (where the hydrocarbons were formed) is also the reservoir rock (where they are stored), particularly in unconventional plays like shales.\n",
    "Examples from your data: Barnett, Wolfcamp A, Eagle Ford, Delaware. \n",
    "\n",
    "In essence: A basin is the large-scale geographical and geological setting, while a formation is a particular rock layer within that basin that is targeted for drilling and production. \n",
    "\n",
    "Value of Knowing Formation and Basin for Forecasting:\n",
    "Knowing the formation and basin is highly valuable for building forecasting models for well decline and state production totals:\n",
    "\n",
    "Well Decline Forecasting:\n",
    "Formation characteristics influence decline rates: Different formations have varying geological properties (like porosity, permeability, formation pressure) that directly affect how quickly production from a well will decline over time.\n",
    "Completion methods are formation-dependent: Unconventional plays often require hydraulic fracturing (fracking) to extract oil and gas, and the effectiveness of these techniques can vary based on the specific formation's characteristics.\n",
    "Specific decline curve analysis models may be better suited for different formations. For instance, the Bakken shale formation responds well to a decline curve model that accounts for an initial rapid decline followed by a more stable production period.\n",
    "\n",
    "State Production Totals Forecasting:\n",
    "Basin analysis provides a broader context: Understanding the overall hydrocarbon potential and geological history of a basin (like the Permian or Eagle Ford) is crucial for forecasting production trends across a larger region, like a state.\n",
    "Analyzing rig trends and DUCs (drilled but uncompleted wells) within specific basins helps inform production forecasts. For example, tracking rig counts in the Permian or Eagle Ford provides insights into future drilling activity and potential production levels.\n",
    "Identifying key formations within a basin with significant potential, like the Delaware Basin within the Permian, helps focus forecasting efforts and resource allocation.\n",
    "Models based on basin-specific data and characteristics can lead to more accurate state-level production forecasts. \n",
    "In short, \"formation\" gives you insights into the specific reservoir rock being targeted, which is vital for understanding individual well performance. \"Basin\" provides the broader geological framework, essential for regional production forecasting and risk assessment. Analyzing both together creates a powerful framework for accurate and informed predictions in oil and gas production. \""
   ]
  },
  {
   "cell_type": "markdown",
   "id": "2f05262e-4f61-4d8e-afc5-b3207733fce8",
   "metadata": {},
   "source": [
    "**This also seems to support my thought that well forecasting would be better served by geological data as compared to county and field names**:\n",
    "\n",
    "\"Both geological data (basin, formation) and administrative/geographic data (county, field name) are valuable for building forecasting and production models, but they serve different purposes and offer different levels of granularity and insight. \n",
    "\n",
    "Geological Data (Basin, Formation): More Fundamental for Well Decline Forecasting\n",
    "Formation-Level Details: Data about formations (like porosity, permeability, thickness) are fundamental to understanding the specific reservoir characteristics that drive individual well performance.\n",
    "Influence on Decline Rates: The geological properties of a formation directly influence how quickly a well's production declines over time, a critical factor for decline curve analysis and reserve estimation.\n",
    "Completion Optimization: Formations dictate optimal completion strategies (like fracking design) which, in turn, impact production and decline.\n",
    "Basin-Level Context: Basin data provides a broader geological framework that helps understand regional hydrocarbon potential and informs overall development strategies. \n",
    "\n",
    "Administrative/Geographic Data (County, Field Name): Useful for Aggregation and Regulatory Compliance\n",
    "County-Level Aggregation: County-level data is essential for aggregating well-level data to understand regional production trends and to comply with state-level reporting and regulatory requirements.\n",
    "Field-Level Performance: Field data allows for analysis of performance within specific administrative field boundaries, aiding in reservoir management and optimization within a defined area.\n",
    "Resource Allocation: Field and county data can be used to assess resource allocation and infrastructure planning within a particular area. \n",
    "\n",
    "Comparison:\n",
    "Granularity: Formation data offers the highest level of detail for understanding individual well performance and decline. County data, on the other hand, provides a broader overview of production across a larger geographic region.\n",
    "Predictive Power: Geological data is more directly tied to the fundamental physical processes driving hydrocarbon extraction, making it highly valuable for predicting individual well decline and overall formation productivity.\n",
    "Practical Applications: County data is valuable for administrative purposes, regulatory compliance, and understanding regional production trends. Field data aids in managing production within specific fields. \n",
    "\n",
    "Which is more useful?\n",
    "Both geological and administrative data are important, but their relative usefulness depends on the specific forecasting or production modeling goal:\n",
    "For models focused on individual well decline forecasting and optimization, formation-level data is likely to be more useful, as it directly impacts reservoir behavior and production decline curves.\n",
    "For models aimed at state-level production forecasting and broader resource assessment, both basin and formation data are essential for understanding regional potential and trends. County-level data, while useful for aggregation and regional reporting, might not provide the same level of predictive power as the underlying geological information. \n",
    "\n",
    "In conclusion: Geological data (basin, formation) is crucial for understanding the underlying physical processes driving production, especially for individual well decline analysis. Administrative data (county, field) is valuable for aggregating data, regulatory compliance, and understanding regional trends. A comprehensive modeling approach would ideally incorporate both types of data to gain a complete understanding of production dynamics at both the well and regional levels.\""
   ]
  },
  {
   "cell_type": "code",
   "execution_count": 125,
   "id": "2bf95efb-756f-415c-8377-37ee5a0dee0e",
   "metadata": {},
   "outputs": [
    {
     "name": "stdout",
     "output_type": "stream",
     "text": [
      "\n",
      "============================================================\n",
      "DATASET: WELL_PRODUCTION\n",
      "============================================================\n",
      "Shape: (17722083, 8)\n",
      "\n",
      "Column Overview:\n",
      "Column                    Type            Non-Null   Unique     Missing % \n",
      "--------------------------------------------------------------------------------\n",
      "date_prod                 datetime64[ms]  17722083   472        0.0       %\n",
      "api_no_10                 object          17722083   430661     0.0       %\n",
      "gas_monthly               float64         17722083   130811     0.0       %\n",
      "oil_monthly               float64         17722083   38712      0.0       %\n",
      "production_month          int64           17722083   473        0.0       %\n",
      "start_date                datetime64[ns]  17719431   387        0.0       %\n",
      "county                    object          17722083   227        0.0       %\n",
      "sub_region                object          17722083   5          0.0       %\n",
      "\n",
      "Potential date/time columns: ['date_prod', 'gas_monthly', 'oil_monthly', 'production_month', 'start_date']\n",
      "\n",
      "Production columns: ['date_prod', 'gas_monthly', 'oil_monthly', 'production_month']\n",
      "\n",
      "============================================================\n",
      "DATASET: WELL_PROPERTIES\n",
      "============================================================\n",
      "Shape: (430661, 19)\n",
      "\n",
      "Column Overview:\n",
      "Column                    Type            Non-Null   Unique     Missing % \n",
      "--------------------------------------------------------------------------------\n",
      "api_no_10                 object          430661     430661     0.0       %\n",
      "operator_name             object          430657     9646       0.0       %\n",
      "lon_surface               float64         428394     413100     0.5       %\n",
      "lat_surface               float64         428394     405946     0.5       %\n",
      "lon_bottomhole            float64         428382     414990     0.5       %\n",
      "lat_bottomhole            float64         428382     409858     0.5       %\n",
      "elevation_ground          object          0          0          100.0     %\n",
      "depth_tvd                 float64         32733      9812       92.4      %\n",
      "lower_perf                object          0          0          100.0     %\n",
      "upper_perf                object          0          0          100.0     %\n",
      "measured_depth            float64         391995     16379      9.0       %\n",
      "horizontal_length         float64         102008     97121      76.3      %\n",
      "wellbore_type             object          428462     3          0.5       %\n",
      "field_name                object          429374     19895      0.3       %\n",
      "township                  object          0          0          100.0     %\n",
      "section                   object          0          0          100.0     %\n",
      "range                     object          0          0          100.0     %\n",
      "county_name               object          430661     227        0.0       %\n",
      "sub_region                object          430658     5          0.0       %\n",
      "\n",
      "Coordinate columns: ['lon_surface', 'lat_surface', 'lon_bottomhole', 'lat_bottomhole']\n",
      "\n",
      "Well property columns: ['depth_tvd', 'measured_depth', 'horizontal_length', 'wellbore_type', 'field_name', 'county_name', 'sub_region']\n",
      "\n",
      "============================================================\n",
      "DATASET: WELL_FORMATIONS\n",
      "============================================================\n",
      "Shape: (382132, 3)\n",
      "\n",
      "Column Overview:\n",
      "Column                    Type            Non-Null   Unique     Missing % \n",
      "--------------------------------------------------------------------------------\n",
      "api_no_10                 object          382132     382132     0.0       %\n",
      "formation                 object          382132     25         0.0       %\n",
      "basin                     object          382132     4          0.0       %\n",
      "\n",
      "Formation columns: ['formation', 'basin']\n"
     ]
    }
   ],
   "source": [
    "comprehensive_data_overview(raw_datasets)"
   ]
  },
  {
   "cell_type": "markdown",
   "id": "6821267b-2a1e-4ab0-8493-226e3c459d06",
   "metadata": {},
   "source": [
    "## Data Quality Assessment and Cleaning <a id=\"Clean\"></a>"
   ]
  },
  {
   "cell_type": "markdown",
   "id": "d6157ced-4bb0-4167-8b4e-7fa4cb9a213a",
   "metadata": {},
   "source": [
    "### Understanding Production Units and Data Context <a id=\"Units\"></a>"
   ]
  },
  {
   "cell_type": "code",
   "execution_count": 129,
   "id": "635541bd-fce5-49b0-88cf-1461704125a0",
   "metadata": {},
   "outputs": [],
   "source": [
    "def analyze_production_units(well_production_df):\n",
    "    \"\"\"\n",
    "    Analyze production values to determine likely units based on Texas reporting standards\n",
    "    and industry practices.\n",
    "    \"\"\"\n",
    "    print(\"=== PRODUCTION UNITS ANALYSIS ===\")\n",
    "    \n",
    "    # Based on research: Texas RRC reports oil in barrels (BBL) and gas in thousand cubic feet (MCF)\n",
    "    print(\"Based on Texas Railroad Commission reporting standards:\")\n",
    "    print(\"- Oil production units: Barrels (BBL) - 42 US gallons per barrel\")\n",
    "    print(\"- Gas production units: Thousand Cubic Feet (MCF)\")\n",
    "    print(\"- Conversion factor: 6 MCF gas ≈ 1 BBL oil equivalent (BOE)\")\n",
    "    \n",
    "    # Analyze the data ranges to confirm\n",
    "    oil_stats = well_production_df['oil_monthly'].describe()\n",
    "    gas_stats = well_production_df['gas_monthly'].describe()\n",
    "    \n",
    "    print(f\"\\nOil Production Statistics (assumed BBL):\")\n",
    "    print(f\"  Mean: {oil_stats['mean']:,.0f} BBL/month\")\n",
    "    print(f\"  Median: {oil_stats['50%']:,.0f} BBL/month\") \n",
    "    print(f\"  Maximum: {oil_stats['max']:,.0f} BBL/month\")\n",
    "    print(f\"  Daily equivalent (max): {oil_stats['max']/30:.0f} BBL/day\")\n",
    "    \n",
    "    print(f\"\\nGas Production Statistics (assumed MCF):\")\n",
    "    print(f\"  Mean: {gas_stats['mean']:,.0f} MCF/month\")\n",
    "    print(f\"  Median: {gas_stats['50%']:,.0f} MCF/month\")\n",
    "    print(f\"  Maximum: {gas_stats['max']:,.0f} MCF/month\") \n",
    "    print(f\"  Daily equivalent (max): {gas_stats['max']/30:.0f} MCF/day\")\n",
    "    \n",
    "    # Validation against industry benchmarks\n",
    "    print(f\"\\nIndustry Validation:\")\n",
    "    print(f\"- Typical unconventional well oil production: 100-2,000 BBL/day initially\")\n",
    "    print(f\"- Typical unconventional well gas production: 1,000-50,000 MCF/day initially\")\n",
    "    print(f\"- Your max oil daily: {oil_stats['max']/30:.0f} BBL/day (within reasonable range?)\")\n",
    "    print(f\"- Your max gas daily: {gas_stats['max']/30:.0f} MCF/day (within reasonable range?)\")\n",
    "    \n",
    "    return {\n",
    "        'oil_units': 'BBL (Barrels)',\n",
    "        'gas_units': 'MCF (Thousand Cubic Feet)',\n",
    "        'oil_stats': oil_stats,\n",
    "        'gas_stats': gas_stats\n",
    "    }"
   ]
  },
  {
   "cell_type": "code",
   "execution_count": 130,
   "id": "029e3db4-20db-480d-8933-bfb631efe3bc",
   "metadata": {},
   "outputs": [
    {
     "name": "stdout",
     "output_type": "stream",
     "text": [
      "=== PRODUCTION UNITS ANALYSIS ===\n",
      "Based on Texas Railroad Commission reporting standards:\n",
      "- Oil production units: Barrels (BBL) - 42 US gallons per barrel\n",
      "- Gas production units: Thousand Cubic Feet (MCF)\n",
      "- Conversion factor: 6 MCF gas ≈ 1 BBL oil equivalent (BOE)\n",
      "\n",
      "Oil Production Statistics (assumed BBL):\n",
      "  Mean: 401 BBL/month\n",
      "  Median: 18 BBL/month\n",
      "  Maximum: 1,391,600 BBL/month\n",
      "  Daily equivalent (max): 46387 BBL/day\n",
      "\n",
      "Gas Production Statistics (assumed MCF):\n",
      "  Mean: 2,567 MCF/month\n",
      "  Median: 38 MCF/month\n",
      "  Maximum: 16,144,920 MCF/month\n",
      "  Daily equivalent (max): 538164 MCF/day\n",
      "\n",
      "Industry Validation:\n",
      "- Typical unconventional well oil production: 100-2,000 BBL/day initially\n",
      "- Typical unconventional well gas production: 1,000-50,000 MCF/day initially\n",
      "- Your max oil daily: 46387 BBL/day (within reasonable range?)\n",
      "- Your max gas daily: 538164 MCF/day (within reasonable range?)\n"
     ]
    },
    {
     "data": {
      "text/plain": [
       "{'oil_units': 'BBL (Barrels)',\n",
       " 'gas_units': 'MCF (Thousand Cubic Feet)',\n",
       " 'oil_stats': count   17722083.00\n",
       " mean         400.66\n",
       " std         2248.04\n",
       " min            0.00\n",
       " 25%            0.00\n",
       " 50%           18.00\n",
       " 75%           94.00\n",
       " max      1391600.00\n",
       " Name: oil_monthly, dtype: float64,\n",
       " 'gas_stats': count   17722083.00\n",
       " mean        2567.40\n",
       " std        21310.87\n",
       " min            0.00\n",
       " 25%            0.00\n",
       " 50%           38.00\n",
       " 75%          689.00\n",
       " max     16144920.00\n",
       " Name: gas_monthly, dtype: float64}"
      ]
     },
     "execution_count": 130,
     "metadata": {},
     "output_type": "execute_result"
    }
   ],
   "source": [
    "units_analysis = analyze_production_units(raw_datasets['well_production'])\n",
    "units_analysis"
   ]
  },
  {
   "cell_type": "markdown",
   "id": "8811e57f-76fd-400b-b6f5-74596f31ef11",
   "metadata": {},
   "source": [
    "The max values are NOT necessarily reasonable in terms of their range, they are very very high, but it's hard to say whether they are from a google search whether these units or the values are reasonable. I'm going to come back to this with another function that will separate the different types of wells and calculate reasonable ranges for the data and units based on that. For now let's move on."
   ]
  },
  {
   "cell_type": "markdown",
   "id": "fba636cf-aa69-4019-805f-1cc057ac05c3",
   "metadata": {},
   "source": [
    "### Time Series Analysis and Spike Period Assessment <a id=\"Spike\"></a>"
   ]
  },
  {
   "cell_type": "code",
   "execution_count": 133,
   "id": "d3a5f7b8-ec2b-4a53-9576-3866b5209158",
   "metadata": {},
   "outputs": [],
   "source": [
    "def analyze_time_series_distribution(well_production_df):\n",
    "    \"\"\"\n",
    "    Analyze the temporal distribution of production data to understand\n",
    "    the spike period and its implications for forecasting.\n",
    "    \"\"\"\n",
    "    print(\"=== TIME SERIES DISTRIBUTION ANALYSIS ===\")\n",
    "    \n",
    "    df = well_production_df.copy()\n",
    "    \n",
    "    # Analyze reporting patterns by year\n",
    "    df['year'] = df['date_prod'].dt.year\n",
    "    yearly_counts = df['year'].value_counts().sort_index()\n",
    "    \n",
    "    print(\"Production Reports by Year:\")\n",
    "    for year, count in yearly_counts.items():\n",
    "        print(f\"  {year}: {count:,} reports\")\n",
    "    \n",
    "    # Identify the spike period\n",
    "    spike_threshold = 100  # Spike years, based on our previous visualization\n",
    "    spike_years = yearly_counts[yearly_counts > spike_threshold].index.tolist()\n",
    "    \n",
    "    print(f\"\\nSpike Period Identification:\")\n",
    "    print(f\"  Spike threshold: {spike_threshold:,.0f} reports/year\")\n",
    "    print(f\"  Spike years: {min(spike_years)} to {max(spike_years)}\")\n",
    "    print(f\"  Total spike period reports: {yearly_counts[spike_years].sum():,}\")\n",
    "    print(f\"  Percentage of total data: {(yearly_counts[spike_years].sum() / len(df)) * 100:.1f}%\")\n",
    "    \n",
    "    # Analyze well count by period\n",
    "    pre_spike = df[df['year'] < min(spike_years)]\n",
    "    spike_period = df[df['year'].isin(spike_years)]\n",
    "    post_spike = df[df['year'] > max(spike_years)]\n",
    "    \n",
    "    print(f\"\\nWell Activity Analysis:\")\n",
    "    print(f\"  Pre-spike unique wells: {pre_spike['api_no_10'].nunique():,}\")\n",
    "    print(f\"  Spike period unique wells: {spike_period['api_no_10'].nunique():,}\")\n",
    "    print(f\"  Post-spike unique wells: {post_spike['api_no_10'].nunique():,}\")\n",
    "    \n",
    "    # Assessment for forecasting implications\n",
    "    print(f\"\\nForecasting Implications:\")\n",
    "    print(\"The spike period (2021-2024) represents the modern unconventional boom period.\")\n",
    "    print(\"This is BENEFICIAL for forecasting because:\")\n",
    "    print(\"- Contains the most relevant recent production data\")\n",
    "    print(\"- Represents current drilling and completion technologies\")\n",
    "    print(\"- Includes wells with complete decline curves\")\n",
    "    print(\"- Reflects modern reporting practices\")\n",
    "    \n",
    "    return {\n",
    "        'spike_years': spike_years,\n",
    "        'yearly_counts': yearly_counts,\n",
    "        'spike_period_percentage': (yearly_counts[spike_years].sum() / len(df)) * 100,\n",
    "        'recommendation': 'use_spike_period_focus'\n",
    "    }"
   ]
  },
  {
   "cell_type": "code",
   "execution_count": 134,
   "id": "5f2caf2c-b680-48ce-8285-4c466f75df25",
   "metadata": {},
   "outputs": [
    {
     "name": "stdout",
     "output_type": "stream",
     "text": [
      "=== TIME SERIES DISTRIBUTION ANALYSIS ===\n",
      "Production Reports by Year:\n",
      "  1986: 24 reports\n",
      "  1987: 24 reports\n",
      "  1988: 24 reports\n",
      "  1989: 24 reports\n",
      "  1990: 24 reports\n",
      "  1991: 24 reports\n",
      "  1992: 24 reports\n",
      "  1993: 24 reports\n",
      "  1994: 36 reports\n",
      "  1995: 36 reports\n",
      "  1996: 36 reports\n",
      "  1997: 36 reports\n",
      "  1998: 36 reports\n",
      "  1999: 36 reports\n",
      "  2000: 36 reports\n",
      "  2001: 36 reports\n",
      "  2002: 36 reports\n",
      "  2003: 36 reports\n",
      "  2004: 36 reports\n",
      "  2005: 36 reports\n",
      "  2006: 36 reports\n",
      "  2007: 36 reports\n",
      "  2008: 36 reports\n",
      "  2009: 36 reports\n",
      "  2010: 36 reports\n",
      "  2011: 36 reports\n",
      "  2012: 36 reports\n",
      "  2013: 36 reports\n",
      "  2014: 36 reports\n",
      "  2015: 36 reports\n",
      "  2016: 36 reports\n",
      "  2017: 36 reports\n",
      "  2018: 36 reports\n",
      "  2019: 36 reports\n",
      "  2020: 36 reports\n",
      "  2021: 4,795,122 reports\n",
      "  2022: 4,765,088 reports\n",
      "  2023: 4,737,871 reports\n",
      "  2024: 3,422,826 reports\n",
      "  2025: 12 reports\n",
      "\n",
      "Spike Period Identification:\n",
      "  Spike threshold: 100 reports/year\n",
      "  Spike years: 2021 to 2024\n",
      "  Total spike period reports: 17,720,907\n",
      "  Percentage of total data: 100.0%\n",
      "\n",
      "Well Activity Analysis:\n",
      "  Pre-spike unique wells: 3\n",
      "  Spike period unique wells: 430,661\n",
      "  Post-spike unique wells: 3\n",
      "\n",
      "Forecasting Implications:\n",
      "The spike period (2021-2024) represents the modern unconventional boom period.\n",
      "This is BENEFICIAL for forecasting because:\n",
      "- Contains the most relevant recent production data\n",
      "- Represents current drilling and completion technologies\n",
      "- Includes wells with complete decline curves\n",
      "- Reflects modern reporting practices\n"
     ]
    },
    {
     "data": {
      "text/plain": [
       "{'spike_years': [2021, 2022, 2023, 2024],\n",
       " 'yearly_counts': year\n",
       " 1986         24\n",
       " 1987         24\n",
       " 1988         24\n",
       " 1989         24\n",
       " 1990         24\n",
       " 1991         24\n",
       " 1992         24\n",
       " 1993         24\n",
       " 1994         36\n",
       " 1995         36\n",
       " 1996         36\n",
       " 1997         36\n",
       " 1998         36\n",
       " 1999         36\n",
       " 2000         36\n",
       " 2001         36\n",
       " 2002         36\n",
       " 2003         36\n",
       " 2004         36\n",
       " 2005         36\n",
       " 2006         36\n",
       " 2007         36\n",
       " 2008         36\n",
       " 2009         36\n",
       " 2010         36\n",
       " 2011         36\n",
       " 2012         36\n",
       " 2013         36\n",
       " 2014         36\n",
       " 2015         36\n",
       " 2016         36\n",
       " 2017         36\n",
       " 2018         36\n",
       " 2019         36\n",
       " 2020         36\n",
       " 2021    4795122\n",
       " 2022    4765088\n",
       " 2023    4737871\n",
       " 2024    3422826\n",
       " 2025         12\n",
       " Name: count, dtype: int64,\n",
       " 'spike_period_percentage': 99.99336421119345,\n",
       " 'recommendation': 'use_spike_period_focus'}"
      ]
     },
     "execution_count": 134,
     "metadata": {},
     "output_type": "execute_result"
    }
   ],
   "source": [
    "time_analysis = analyze_time_series_distribution(raw_datasets['well_production'])\n",
    "time_analysis"
   ]
  },
  {
   "cell_type": "markdown",
   "id": "4f975484-03f7-4f36-ab05-8a72bcedc8a9",
   "metadata": {},
   "source": [
    "### Production Patterns and Zero Values <a id=\"ProdPatterns\"></a>"
   ]
  },
  {
   "cell_type": "code",
   "execution_count": 135,
   "id": "3d7c0451-3fc2-4e5d-aedf-f638174a0b29",
   "metadata": {},
   "outputs": [],
   "source": [
    "def analyze_production_patterns(well_production_df):\n",
    "    \"\"\"\n",
    "    Analyze production patterns to distinguish between true zero production\n",
    "    and reporting gaps, and identify decline curve characteristics.\n",
    "    \"\"\"\n",
    "    print(\"=== PRODUCTION PATTERNS ANALYSIS ===\")\n",
    "    \n",
    "    df = well_production_df.copy()\n",
    "    \n",
    "    # Analyze zero values patterns\n",
    "    oil_zeros = (df['oil_monthly'] == 0).sum()\n",
    "    gas_zeros = (df['gas_monthly'] == 0).sum()\n",
    "    both_zeros = ((df['oil_monthly'] == 0) & (df['gas_monthly'] == 0)).sum()\n",
    "    \n",
    "    print(f\"Zero Production Analysis:\")\n",
    "    print(f\"  Oil-only zeros: {oil_zeros:,} ({oil_zeros/len(df)*100:.1f}%)\")\n",
    "    print(f\"  Gas-only zeros: {gas_zeros:,} ({gas_zeros/len(df)*100:.1f}%)\")\n",
    "    print(f\"  Both oil and gas zeros: {both_zeros:,} ({both_zeros/len(df)*100:.1f}%)\")\n",
    "    \n",
    "    # Analyze well types by production patterns\n",
    "    well_production_summary = df.groupby('api_no_10').agg({\n",
    "        'oil_monthly': ['sum', 'count', lambda x: (x == 0).sum()],\n",
    "        'gas_monthly': ['sum', 'count', lambda x: (x == 0).sum()]\n",
    "    }).round(2)\n",
    "    \n",
    "    well_production_summary.columns = ['oil_total', 'oil_months', 'oil_zeros', \n",
    "                                      'gas_total', 'gas_months', 'gas_zeros']\n",
    "    \n",
    "    # Classify wells by production type\n",
    "    well_production_summary['oil_zero_pct'] = (well_production_summary['oil_zeros'] / \n",
    "                                              well_production_summary['oil_months'] * 100)\n",
    "    well_production_summary['gas_zero_pct'] = (well_production_summary['gas_zeros'] / \n",
    "                                              well_production_summary['gas_months'] * 100)\n",
    "    \n",
    "    # Well type classification\n",
    "    oil_only_wells = well_production_summary[\n",
    "        (well_production_summary['oil_zero_pct'] < 20) & \n",
    "        (well_production_summary['gas_zero_pct'] > 80)\n",
    "    ]\n",
    "    \n",
    "    gas_only_wells = well_production_summary[\n",
    "        (well_production_summary['oil_zero_pct'] > 80) & \n",
    "        (well_production_summary['gas_zero_pct'] < 20)\n",
    "    ]\n",
    "    \n",
    "    mixed_wells = well_production_summary[\n",
    "        (well_production_summary['oil_zero_pct'] < 80) & \n",
    "        (well_production_summary['gas_zero_pct'] < 80)\n",
    "    ]\n",
    "    \n",
    "    print(f\"\\nWell Type Classification:\")\n",
    "    print(f\"  Oil-dominant wells: {len(oil_only_wells):,}\")\n",
    "    print(f\"  Gas-dominant wells: {len(gas_only_wells):,}\")\n",
    "    print(f\"  Mixed production wells: {len(mixed_wells):,}\")\n",
    "    print(f\"  Total classified wells: {len(well_production_summary):,}\")\n",
    "    \n",
    "    return {\n",
    "        'zero_analysis': {\n",
    "            'oil_zeros': oil_zeros,\n",
    "            'gas_zeros': gas_zeros,\n",
    "            'both_zeros': both_zeros\n",
    "        },\n",
    "        'well_types': {\n",
    "            'oil_dominant': len(oil_only_wells),\n",
    "            'gas_dominant': len(gas_only_wells),\n",
    "            'mixed': len(mixed_wells)\n",
    "        },\n",
    "        'well_summary': well_production_summary\n",
    "    }"
   ]
  },
  {
   "cell_type": "code",
   "execution_count": 136,
   "id": "846c29f9-ecd7-4bdb-875d-e2dfd9bd6b6c",
   "metadata": {},
   "outputs": [
    {
     "name": "stdout",
     "output_type": "stream",
     "text": [
      "=== PRODUCTION PATTERNS ANALYSIS ===\n",
      "Zero Production Analysis:\n",
      "  Oil-only zeros: 4,894,427 (27.6%)\n",
      "  Gas-only zeros: 5,247,398 (29.6%)\n",
      "  Both oil and gas zeros: 2,270,747 (12.8%)\n",
      "\n",
      "Well Type Classification:\n",
      "  Oil-dominant wells: 49,183\n",
      "  Gas-dominant wells: 46,750\n",
      "  Mixed production wells: 270,805\n",
      "  Total classified wells: 430,661\n"
     ]
    }
   ],
   "source": [
    "production_patterns = analyze_production_patterns(raw_datasets['well_production'])"
   ]
  },
  {
   "cell_type": "markdown",
   "id": "210d762a-5237-4544-8d00-20a078139223",
   "metadata": {},
   "source": [
    "It would be good to design classification feature based on this, with a well being designated as oil dominant, gas dominant, mixed or possibly none of the above, but it might be best to use k-means clustering on oil/gas zero percents like that once everything has been imputed, trying to look for a value of 3 or 4 clusters or something like that as being likely.\n",
    "\n",
    "It would be good to have a function that identifies api's that have entirely zeroes, because these are cases where we have no data and thus forecasting becomes a very difficult task (and as the pdf warned, it's likely that such cases aren't wells at all, a well should actually produce something at least once). I should then remove such api's from all 3 of the datasets."
   ]
  },
  {
   "cell_type": "code",
   "execution_count": 18,
   "id": "0a169bb3-1b39-45e9-9240-e10da4d13b1b",
   "metadata": {},
   "outputs": [],
   "source": [
    "def remove_all_zero_apis(well_production_df, well_properties_df, well_formations_df):\n",
    "    \"\"\"\n",
    "    Remove APIs that have only zero values for both oil and gas production\n",
    "    from all three datasets.\n",
    "    Returns cleaned DataFrames and the list of excluded APIs.\n",
    "    \"\"\"\n",
    "    # Step 1: Identify APIs with all-zero oil and gas production\n",
    "    grouped = well_production_df.groupby('api_no_10').agg({\n",
    "        'oil_monthly': 'sum',\n",
    "        'gas_monthly': 'sum'\n",
    "    })\n",
    "    all_zero_apis = grouped[\n",
    "        (grouped['oil_monthly'] == 0) & (grouped['gas_monthly'] == 0)\n",
    "    ].index.tolist()\n",
    "\n",
    "    print(f\"APIs with only zero production: {len(all_zero_apis):,}\")\n",
    "\n",
    "    # Step 2: Remove these APIs from all datasets\n",
    "    cleaned_well_production = well_production_df[\n",
    "        ~well_production_df['api_no_10'].isin(all_zero_apis)\n",
    "    ].copy()\n",
    "    cleaned_well_properties = well_properties_df[\n",
    "        ~well_properties_df['api_no_10'].isin(all_zero_apis)\n",
    "    ].copy()\n",
    "    cleaned_well_formations = well_formations_df[\n",
    "        ~well_formations_df['api_no_10'].isin(all_zero_apis)\n",
    "    ].copy()\n",
    "\n",
    "    print(f\"Rows removed from well_production: {well_production_df.shape[0] - cleaned_well_production.shape[0]:,}\")\n",
    "    print(f\"Rows removed from well_properties: {well_properties_df.shape[0] - cleaned_well_properties.shape[0]:,}\")\n",
    "    print(f\"Rows removed from well_formations: {well_formations_df.shape[0] - cleaned_well_formations.shape[0]:,}\")\n",
    "\n",
    "    return cleaned_well_production, cleaned_well_properties, cleaned_well_formations, all_zero_apis"
   ]
  },
  {
   "cell_type": "code",
   "execution_count": 19,
   "id": "fab14ccd-396a-4320-9145-3c682e77068e",
   "metadata": {},
   "outputs": [
    {
     "name": "stdout",
     "output_type": "stream",
     "text": [
      "APIs with only zero production: 30,748\n",
      "Rows removed from well_production: 1,118,293\n",
      "Rows removed from well_properties: 30,748\n",
      "Rows removed from well_formations: 10,224\n",
      "<class 'pandas.core.series.Series'>\n",
      "RangeIndex: 30748 entries, 0 to 30747\n",
      "Series name: None\n",
      "Non-Null Count  Dtype \n",
      "--------------  ----- \n",
      "30748 non-null  object\n",
      "dtypes: object(1)\n",
      "memory usage: 240.3+ KB\n"
     ]
    }
   ],
   "source": [
    "wrangle_datasets = {}\n",
    "\n",
    "wrangle_datasets['well_production'], wrangle_datasets['well_properties'], wrangle_datasets['well_formations'], excluded_apis = remove_all_zero_apis(\n",
    "    raw_datasets['well_production'], raw_datasets['well_properties'], raw_datasets['well_formations']\n",
    ")\n",
    "\n",
    "excluded_apis = pd.Series(excluded_apis)\n",
    "excluded_apis.info()"
   ]
  },
  {
   "cell_type": "markdown",
   "id": "a23cd10e-9d84-4fbe-9303-47605fda0e2b",
   "metadata": {},
   "source": [
    "That's 30748 api's we just removed which could affect the landscape of missing values and such by a lot, so we should explore what we just removed with our old dataset exploration functions:"
   ]
  },
  {
   "cell_type": "code",
   "execution_count": 20,
   "id": "7a762c59-fb59-4eb9-987d-5a6c62118a27",
   "metadata": {},
   "outputs": [],
   "source": [
    "excluded_datasets = {}\n",
    "\n",
    "excluded_datasets['well_production'] = raw_datasets['well_production'][raw_datasets['well_production']['api_no_10'].isin(excluded_apis)].copy()\n",
    "excluded_datasets['well_properties'] = raw_datasets['well_properties'][raw_datasets['well_properties']['api_no_10'].isin(excluded_apis)].copy()\n",
    "excluded_datasets['well_formations'] = raw_datasets['well_formations'][raw_datasets['well_formations']['api_no_10'].isin(excluded_apis)].copy()"
   ]
  },
  {
   "cell_type": "code",
   "execution_count": 141,
   "id": "3c2cfdda-42f5-4380-845c-ffd58d8ce3ef",
   "metadata": {},
   "outputs": [
    {
     "name": "stdout",
     "output_type": "stream",
     "text": [
      "\n",
      "============================================================\n",
      "DATASET: WELL_PRODUCTION\n",
      "============================================================\n",
      "Shape: (1118293, 8)\n",
      "\n",
      "Column Overview:\n",
      "Column                    Type            Non-Null   Unique     Missing % \n",
      "--------------------------------------------------------------------------------\n",
      "date_prod                 datetime64[ms]  1118293    47         0.0       %\n",
      "api_no_10                 object          1118293    30748      0.0       %\n",
      "gas_monthly               float64         1118293    1          0.0       %\n",
      "oil_monthly               float64         1118293    1          0.0       %\n",
      "production_month          int64           1118293    383        0.0       %\n",
      "start_date                datetime64[ns]  1116312    333        0.2       %\n",
      "county                    object          1118293    212        0.0       %\n",
      "sub_region                object          1118293    5          0.0       %\n",
      "\n",
      "Potential date/time columns: ['date_prod', 'gas_monthly', 'oil_monthly', 'production_month', 'start_date']\n",
      "\n",
      "Production columns: ['date_prod', 'gas_monthly', 'oil_monthly', 'production_month']\n",
      "\n",
      "============================================================\n",
      "DATASET: WELL_PROPERTIES\n",
      "============================================================\n",
      "Shape: (30748, 19)\n",
      "\n",
      "Column Overview:\n",
      "Column                    Type            Non-Null   Unique     Missing % \n",
      "--------------------------------------------------------------------------------\n",
      "api_no_10                 object          30748      30748      0.0       %\n",
      "operator_name             object          30748      2962       0.0       %\n",
      "lon_surface               float64         30447      30273      1.0       %\n",
      "lat_surface               float64         30447      30258      1.0       %\n",
      "lon_bottomhole            float64         30446      30355      1.0       %\n",
      "lat_bottomhole            float64         30446      30334      1.0       %\n",
      "elevation_ground          object          0          0          100.0     %\n",
      "depth_tvd                 float64         307        283        99.0      %\n",
      "lower_perf                object          0          0          100.0     %\n",
      "upper_perf                object          0          0          100.0     %\n",
      "measured_depth            float64         28634      10045      6.9       %\n",
      "horizontal_length         float64         5558       5529       81.9      %\n",
      "wellbore_type             object          30454      3          1.0       %\n",
      "field_name                object          30636      6107       0.4       %\n",
      "township                  object          0          0          100.0     %\n",
      "section                   object          0          0          100.0     %\n",
      "range                     object          0          0          100.0     %\n",
      "county_name               object          30748      212        0.0       %\n",
      "sub_region                object          30748      5          0.0       %\n",
      "\n",
      "Coordinate columns: ['lon_surface', 'lat_surface', 'lon_bottomhole', 'lat_bottomhole']\n",
      "\n",
      "Well property columns: ['depth_tvd', 'measured_depth', 'horizontal_length', 'wellbore_type', 'field_name', 'county_name', 'sub_region']\n",
      "\n",
      "============================================================\n",
      "DATASET: WELL_FORMATIONS\n",
      "============================================================\n",
      "Shape: (10224, 3)\n",
      "\n",
      "Column Overview:\n",
      "Column                    Type            Non-Null   Unique     Missing % \n",
      "--------------------------------------------------------------------------------\n",
      "api_no_10                 object          10224      10224      0.0       %\n",
      "formation                 object          10224      17         0.0       %\n",
      "basin                     object          10224      4          0.0       %\n",
      "\n",
      "Formation columns: ['formation', 'basin']\n"
     ]
    }
   ],
   "source": [
    "comprehensive_data_overview(excluded_datasets)"
   ]
  },
  {
   "cell_type": "code",
   "execution_count": 142,
   "id": "11af7db7-5696-4d02-898f-a479d74e8a03",
   "metadata": {},
   "outputs": [
    {
     "name": "stdout",
     "output_type": "stream",
     "text": [
      "\n",
      "==================================================\n",
      "DATA QUALITY ASSESSMENT: WELL_PRODUCTION\n",
      "==================================================\n",
      "Missing Values Analysis:\n",
      "Column                    Missing Count   Missing % \n",
      "--------------------------------------------------\n",
      "start_date                1981            0.2       %\n",
      "\n",
      "Overall Missing Data Summary:\n",
      "  Total missing cells: 1,981\n",
      "  Total cells: 8,946,344\n",
      "  Overall missing percentage: 0.02%\n",
      "\n",
      "Duplicate Analysis:\n",
      "  Total duplicate rows: 0\n",
      "  Duplicate percentage: 0.00%\n",
      "  API number duplicates: 1087545\n",
      "\n",
      "==================================================\n",
      "DATA QUALITY ASSESSMENT: WELL_PROPERTIES\n",
      "==================================================\n",
      "Missing Values Analysis:\n",
      "Column                    Missing Count   Missing % \n",
      "--------------------------------------------------\n",
      "lon_surface               301             1.0       %\n",
      "lat_surface               301             1.0       %\n",
      "lon_bottomhole            302             1.0       %\n",
      "lat_bottomhole            302             1.0       %\n",
      "elevation_ground          30748           100.0     %\n",
      "depth_tvd                 30441           99.0      %\n",
      "lower_perf                30748           100.0     %\n",
      "upper_perf                30748           100.0     %\n",
      "measured_depth            2114            6.9       %\n",
      "horizontal_length         25190           81.9      %\n",
      "wellbore_type             294             1.0       %\n",
      "field_name                112             0.4       %\n",
      "township                  30748           100.0     %\n",
      "section                   30748           100.0     %\n",
      "range                     30748           100.0     %\n",
      "\n",
      "Overall Missing Data Summary:\n",
      "  Total missing cells: 243,845\n",
      "  Total cells: 584,212\n",
      "  Overall missing percentage: 41.74%\n",
      "\n",
      "Duplicate Analysis:\n",
      "  Total duplicate rows: 0\n",
      "  Duplicate percentage: 0.00%\n",
      "  API number duplicates: 0\n",
      "\n",
      "==================================================\n",
      "DATA QUALITY ASSESSMENT: WELL_FORMATIONS\n",
      "==================================================\n",
      "Missing Values Analysis:\n",
      "Column                    Missing Count   Missing % \n",
      "--------------------------------------------------\n",
      "\n",
      "Overall Missing Data Summary:\n",
      "  Total missing cells: 0\n",
      "  Total cells: 30,672\n",
      "  Overall missing percentage: 0.00%\n",
      "\n",
      "Duplicate Analysis:\n",
      "  Total duplicate rows: 0\n",
      "  Duplicate percentage: 0.00%\n",
      "  API number duplicates: 0\n"
     ]
    },
    {
     "data": {
      "text/plain": [
       "{'well_production': {'total_rows': 1118293,\n",
       "  'total_missing': 1981,\n",
       "  'missing_percentage': 0.022143123492680362,\n",
       "  'duplicate_rows': 0,\n",
       "  'duplicate_percentage': 0.0},\n",
       " 'well_properties': {'total_rows': 30748,\n",
       "  'total_missing': 243845,\n",
       "  'missing_percentage': 41.739128946341395,\n",
       "  'duplicate_rows': 0,\n",
       "  'duplicate_percentage': 0.0},\n",
       " 'well_formations': {'total_rows': 10224,\n",
       "  'total_missing': 0,\n",
       "  'missing_percentage': 0.0,\n",
       "  'duplicate_rows': 0,\n",
       "  'duplicate_percentage': 0.0}}"
      ]
     },
     "execution_count": 142,
     "metadata": {},
     "output_type": "execute_result"
    }
   ],
   "source": [
    "data_quality_assessment(excluded_datasets)"
   ]
  },
  {
   "cell_type": "markdown",
   "id": "8d489e7e-bcd9-4435-aa03-6c1899a34bb9",
   "metadata": {},
   "source": [
    "It's useful that we removed these, but ultimately it doesn't seem to get rid of any of our missing data issues."
   ]
  },
  {
   "cell_type": "code",
   "execution_count": 143,
   "id": "6cf9dcf1-dc5e-43c5-83c0-bbc69734250d",
   "metadata": {},
   "outputs": [
    {
     "name": "stdout",
     "output_type": "stream",
     "text": [
      "\n",
      "==================================================\n",
      "DATA QUALITY ASSESSMENT: WELL_PRODUCTION\n",
      "==================================================\n",
      "Missing Values Analysis:\n",
      "Column                    Missing Count   Missing % \n",
      "--------------------------------------------------\n",
      "start_date                671             0.0       %\n",
      "\n",
      "Overall Missing Data Summary:\n",
      "  Total missing cells: 671\n",
      "  Total cells: 132,830,320\n",
      "  Overall missing percentage: 0.00%\n",
      "\n",
      "Duplicate Analysis:\n",
      "  Total duplicate rows: 0\n",
      "  Duplicate percentage: 0.00%\n",
      "  API number duplicates: 16203877\n",
      "\n",
      "==================================================\n",
      "DATA QUALITY ASSESSMENT: WELL_PROPERTIES\n",
      "==================================================\n",
      "Missing Values Analysis:\n",
      "Column                    Missing Count   Missing % \n",
      "--------------------------------------------------\n",
      "operator_name             4               0.0       %\n",
      "lon_surface               1966            0.5       %\n",
      "lat_surface               1966            0.5       %\n",
      "lon_bottomhole            1977            0.5       %\n",
      "lat_bottomhole            1977            0.5       %\n",
      "elevation_ground          399913          100.0     %\n",
      "depth_tvd                 367487          91.9      %\n",
      "lower_perf                399913          100.0     %\n",
      "upper_perf                399913          100.0     %\n",
      "measured_depth            36552           9.1       %\n",
      "horizontal_length         303463          75.9      %\n",
      "wellbore_type             1905            0.5       %\n",
      "field_name                1175            0.3       %\n",
      "township                  399913          100.0     %\n",
      "section                   399913          100.0     %\n",
      "range                     399913          100.0     %\n",
      "sub_region                3               0.0       %\n",
      "\n",
      "Overall Missing Data Summary:\n",
      "  Total missing cells: 3,117,953\n",
      "  Total cells: 7,598,347\n",
      "  Overall missing percentage: 41.03%\n",
      "\n",
      "Duplicate Analysis:\n",
      "  Total duplicate rows: 0\n",
      "  Duplicate percentage: 0.00%\n",
      "  API number duplicates: 0\n",
      "\n",
      "==================================================\n",
      "DATA QUALITY ASSESSMENT: WELL_FORMATIONS\n",
      "==================================================\n",
      "Missing Values Analysis:\n",
      "Column                    Missing Count   Missing % \n",
      "--------------------------------------------------\n",
      "\n",
      "Overall Missing Data Summary:\n",
      "  Total missing cells: 0\n",
      "  Total cells: 1,115,724\n",
      "  Overall missing percentage: 0.00%\n",
      "\n",
      "Duplicate Analysis:\n",
      "  Total duplicate rows: 0\n",
      "  Duplicate percentage: 0.00%\n",
      "  API number duplicates: 0\n"
     ]
    },
    {
     "data": {
      "text/plain": [
       "{'well_production': {'total_rows': 16603790,\n",
       "  'total_missing': 671,\n",
       "  'missing_percentage': 0.0005051557505846556,\n",
       "  'duplicate_rows': 0,\n",
       "  'duplicate_percentage': 0.0},\n",
       " 'well_properties': {'total_rows': 399913,\n",
       "  'total_missing': 3117953,\n",
       "  'missing_percentage': 41.03462239879279,\n",
       "  'duplicate_rows': 0,\n",
       "  'duplicate_percentage': 0.0},\n",
       " 'well_formations': {'total_rows': 371908,\n",
       "  'total_missing': 0,\n",
       "  'missing_percentage': 0.0,\n",
       "  'duplicate_rows': 0,\n",
       "  'duplicate_percentage': 0.0}}"
      ]
     },
     "execution_count": 143,
     "metadata": {},
     "output_type": "execute_result"
    }
   ],
   "source": [
    "data_quality_assessment(wrangle_datasets)"
   ]
  },
  {
   "cell_type": "markdown",
   "id": "61f39024-5079-4fdd-9352-69b6419dddce",
   "metadata": {},
   "source": [
    "### Production Month Validation and Gap Analysis <a id=\"Gap\"></a>"
   ]
  },
  {
   "cell_type": "markdown",
   "id": "3e161434-8e60-476b-9fef-5c8d7a5a3771",
   "metadata": {},
   "source": [
    "Let's start by looking at the nonstandard production data that we saw which starts production_month at 0 instead of 1, because production_months with values like that will make our production gap analysis more difficult, and it shouldn't be hard to write a function which standardizes these values if necessary:"
   ]
  },
  {
   "cell_type": "code",
   "execution_count": 145,
   "id": "fafe4d9d-b3ee-41a3-8d65-3510f6113830",
   "metadata": {},
   "outputs": [
    {
     "data": {
      "text/plain": [
       "458"
      ]
     },
     "execution_count": 145,
     "metadata": {},
     "output_type": "execute_result"
    }
   ],
   "source": [
    "non_standard_starts = wrangle_datasets['well_production'][wrangle_datasets['well_production']['production_month'] == 0].groupby('api_no_10').size()\n",
    "len(non_standard_starts)"
   ]
  },
  {
   "cell_type": "code",
   "execution_count": 146,
   "id": "da9ea982-5aa9-4f82-ba6d-0e206864fa55",
   "metadata": {},
   "outputs": [
    {
     "data": {
      "text/plain": [
       "api_no_10\n",
       "4200304689     1\n",
       "4200310392     6\n",
       "4200311059     1\n",
       "4200330321     1\n",
       "4200333316     1\n",
       "              ..\n",
       "4250335846     9\n",
       "4250337745     1\n",
       "4250339238     6\n",
       "4250385179     3\n",
       "4250732795    18\n",
       "Length: 458, dtype: int64"
      ]
     },
     "execution_count": 146,
     "metadata": {},
     "output_type": "execute_result"
    }
   ],
   "source": [
    "non_standard_starts"
   ]
  },
  {
   "cell_type": "code",
   "execution_count": 148,
   "id": "db9d4285-f2fa-408f-bdab-1490f1723e30",
   "metadata": {},
   "outputs": [
    {
     "data": {
      "text/html": [
       "<div>\n",
       "<style scoped>\n",
       "    .dataframe tbody tr th:only-of-type {\n",
       "        vertical-align: middle;\n",
       "    }\n",
       "\n",
       "    .dataframe tbody tr th {\n",
       "        vertical-align: top;\n",
       "    }\n",
       "\n",
       "    .dataframe thead th {\n",
       "        text-align: right;\n",
       "    }\n",
       "</style>\n",
       "<table border=\"1\" class=\"dataframe\">\n",
       "  <thead>\n",
       "    <tr style=\"text-align: right;\">\n",
       "      <th></th>\n",
       "      <th>date_prod</th>\n",
       "      <th>gas_monthly</th>\n",
       "      <th>oil_monthly</th>\n",
       "      <th>production_month</th>\n",
       "      <th>start_date</th>\n",
       "    </tr>\n",
       "  </thead>\n",
       "  <tbody>\n",
       "    <tr>\n",
       "      <th>count</th>\n",
       "      <td>6703</td>\n",
       "      <td>6703.00</td>\n",
       "      <td>6703.00</td>\n",
       "      <td>6703.00</td>\n",
       "      <td>6032</td>\n",
       "    </tr>\n",
       "    <tr>\n",
       "      <th>mean</th>\n",
       "      <td>2022-07-28 18:12:50.162000</td>\n",
       "      <td>89792.86</td>\n",
       "      <td>1330.68</td>\n",
       "      <td>18.81</td>\n",
       "      <td>2020-12-06 08:04:51.246684416</td>\n",
       "    </tr>\n",
       "    <tr>\n",
       "      <th>min</th>\n",
       "      <td>1994-01-01 00:00:00</td>\n",
       "      <td>0.00</td>\n",
       "      <td>0.00</td>\n",
       "      <td>0.00</td>\n",
       "      <td>1994-12-01 00:00:00</td>\n",
       "    </tr>\n",
       "    <tr>\n",
       "      <th>25%</th>\n",
       "      <td>2022-07-01 00:00:00</td>\n",
       "      <td>0.00</td>\n",
       "      <td>0.00</td>\n",
       "      <td>0.00</td>\n",
       "      <td>2021-09-01 00:00:00</td>\n",
       "    </tr>\n",
       "    <tr>\n",
       "      <th>50%</th>\n",
       "      <td>2023-07-01 00:00:00</td>\n",
       "      <td>1.00</td>\n",
       "      <td>2.00</td>\n",
       "      <td>6.00</td>\n",
       "      <td>2022-07-01 00:00:00</td>\n",
       "    </tr>\n",
       "    <tr>\n",
       "      <th>75%</th>\n",
       "      <td>2024-03-01 00:00:00</td>\n",
       "      <td>60.00</td>\n",
       "      <td>9.00</td>\n",
       "      <td>18.00</td>\n",
       "      <td>2023-05-01 00:00:00</td>\n",
       "    </tr>\n",
       "    <tr>\n",
       "      <th>max</th>\n",
       "      <td>2025-04-01 00:00:00</td>\n",
       "      <td>2087777.00</td>\n",
       "      <td>201023.00</td>\n",
       "      <td>365.00</td>\n",
       "      <td>2025-02-01 00:00:00</td>\n",
       "    </tr>\n",
       "    <tr>\n",
       "      <th>std</th>\n",
       "      <td>NaN</td>\n",
       "      <td>350900.34</td>\n",
       "      <td>4888.66</td>\n",
       "      <td>47.55</td>\n",
       "      <td>NaN</td>\n",
       "    </tr>\n",
       "  </tbody>\n",
       "</table>\n",
       "</div>"
      ],
      "text/plain": [
       "                        date_prod  gas_monthly  oil_monthly  production_month  \\\n",
       "count                        6703      6703.00      6703.00           6703.00   \n",
       "mean   2022-07-28 18:12:50.162000     89792.86      1330.68             18.81   \n",
       "min           1994-01-01 00:00:00         0.00         0.00              0.00   \n",
       "25%           2022-07-01 00:00:00         0.00         0.00              0.00   \n",
       "50%           2023-07-01 00:00:00         1.00         2.00              6.00   \n",
       "75%           2024-03-01 00:00:00        60.00         9.00             18.00   \n",
       "max           2025-04-01 00:00:00   2087777.00    201023.00            365.00   \n",
       "std                           NaN    350900.34      4888.66             47.55   \n",
       "\n",
       "                          start_date  \n",
       "count                           6032  \n",
       "mean   2020-12-06 08:04:51.246684416  \n",
       "min              1994-12-01 00:00:00  \n",
       "25%              2021-09-01 00:00:00  \n",
       "50%              2022-07-01 00:00:00  \n",
       "75%              2023-05-01 00:00:00  \n",
       "max              2025-02-01 00:00:00  \n",
       "std                              NaN  "
      ]
     },
     "execution_count": 148,
     "metadata": {},
     "output_type": "execute_result"
    }
   ],
   "source": [
    "wrangle_datasets['well_production'][wrangle_datasets['well_production']['api_no_10'].isin(non_standard_starts.index)].describe()"
   ]
  },
  {
   "cell_type": "markdown",
   "id": "2244b8bf-76ac-4959-a2bf-16ab2a2e14b1",
   "metadata": {},
   "source": [
    "It looks like production month is fairly messy and not in a standardized format, and there are even some missing start dates in this data (thus it would add a bit of difficulty in imputing the proper production_month values). We need a function that standardizes production month format, and perhaps imputes start_date along with it, so let's see what the current landscape looks like (is it generally standardized according to the format we expect?)"
   ]
  },
  {
   "cell_type": "code",
   "execution_count": 149,
   "id": "c5dfb791-7f81-4789-b3c6-b261bab7e296",
   "metadata": {},
   "outputs": [],
   "source": [
    "def classify_production_month_format(well_production_df):\n",
    "    \"\"\"\n",
    "    Classify production_month formats for each well (api_no_10) into categories:\n",
    "    - production_month equals months since start_date (or first date_prod if start_date missing)\n",
    "    - production_month equals number of months reported (regardless of gaps)\n",
    "    - production_month starts at 1 or 0\n",
    "    - non-standard formats\n",
    "\n",
    "    Returns a summary count of wells in each category.\n",
    "    \"\"\"\n",
    "    import pandas as pd\n",
    "    import numpy as np\n",
    "\n",
    "    df = well_production_df.copy()\n",
    "    df = df.sort_values(['api_no_10', 'date_prod'])\n",
    "\n",
    "    # Prepare a dictionary to hold classification counts\n",
    "    classification_counts = {\n",
    "        'start_1_months_since_start_date': 0,\n",
    "        'start_1_months_reported': 0,\n",
    "        'start_0_months_since_start_date': 0,\n",
    "        'start_0_months_reported': 0,\n",
    "        'non_standard': 0\n",
    "    }\n",
    "\n",
    "    # Helper function to calculate months difference\n",
    "    def months_diff(start, current):\n",
    "        return (current.year - start.year) * 12 + (current.month - start.month)\n",
    "\n",
    "    # Group by well\n",
    "    for api, group in df.groupby('api_no_10'):\n",
    "        group = group.sort_values('date_prod')\n",
    "\n",
    "        # Determine reference start date\n",
    "        start_date = group['start_date'].iloc[0]\n",
    "        if pd.isna(start_date):\n",
    "            start_date = group['date_prod'].iloc[0]\n",
    "\n",
    "        # Extract production_month and date_prod as lists\n",
    "        prod_months = group['production_month'].tolist()\n",
    "        dates = group['date_prod'].tolist()\n",
    "\n",
    "        # Calculate months since start_date for each date\n",
    "        months_since_start = [months_diff(start_date, d) + 1 for d in dates]  # +1 to make first month = 1\n",
    "\n",
    "        # Calculate months reported as a sequence starting at 1 or 0\n",
    "        months_reported_1 = list(range(1, len(prod_months) + 1))\n",
    "        months_reported_0 = list(range(len(prod_months)))\n",
    "\n",
    "        # Check if production_month starts at 1 or 0\n",
    "        starts_at_1 = prod_months[0] == 1\n",
    "        starts_at_0 = prod_months[0] == 0\n",
    "\n",
    "        # Define match functions\n",
    "        def matches_months_since_start():\n",
    "            return prod_months == months_since_start\n",
    "\n",
    "        def matches_months_reported_1():\n",
    "            return prod_months == months_reported_1\n",
    "\n",
    "        def matches_months_reported_0():\n",
    "            return prod_months == months_reported_0\n",
    "\n",
    "        # Classify\n",
    "        if starts_at_1 and matches_months_since_start():\n",
    "            classification_counts['start_1_months_since_start_date'] += 1\n",
    "        elif starts_at_1 and matches_months_reported_1():\n",
    "            classification_counts['start_1_months_reported'] += 1\n",
    "        elif starts_at_0 and matches_months_since_start():\n",
    "            classification_counts['start_0_months_since_start_date'] += 1\n",
    "        elif starts_at_0 and matches_months_reported_0():\n",
    "            classification_counts['start_0_months_reported'] += 1\n",
    "        else:\n",
    "            classification_counts['non_standard'] += 1\n",
    "\n",
    "    # Calculate total wells\n",
    "    total_wells = sum(classification_counts.values())\n",
    "\n",
    "    # Calculate percentages\n",
    "    classification_percentages = {k: (v / total_wells) * 100 for k, v in classification_counts.items()}\n",
    "\n",
    "    # Print results\n",
    "    print(\"Production Month Format Classification Summary:\")\n",
    "    for key, count in classification_counts.items():\n",
    "        pct = classification_percentages[key]\n",
    "        print(f\"- {key}: {count:,} wells ({pct:.2f}%)\")\n",
    "\n",
    "    return classification_counts, classification_percentages"
   ]
  },
  {
   "cell_type": "code",
   "execution_count": 150,
   "id": "3b82b282-c729-4735-b3dc-eb887d3c5182",
   "metadata": {},
   "outputs": [
    {
     "name": "stdout",
     "output_type": "stream",
     "text": [
      "Production Month Format Classification Summary:\n",
      "- start_1_months_since_start_date: 24,016 wells (6.01%)\n",
      "- start_1_months_reported: 1,500 wells (0.38%)\n",
      "- start_0_months_since_start_date: 263 wells (0.07%)\n",
      "- start_0_months_reported: 32 wells (0.01%)\n",
      "- non_standard: 374,102 wells (93.55%)\n"
     ]
    }
   ],
   "source": [
    "classification_counts, classification_percentages = classify_production_month_format(wrangle_datasets['well_production'])"
   ]
  },
  {
   "cell_type": "markdown",
   "id": "0a70124e-de31-463c-b539-47f063a6a130",
   "metadata": {},
   "source": [
    "It turns out that almost every individual api uses a nonstandard production_month schema, indeed it's possible that no standardized format has ever been agreed upon by well operators. I could spend a lot more time figuring out the in's and out's of the production_month standards and how many of them there are, but I'm coming to think that this feature is too chaotic to be useful in such a limited time project, especially when we have very similar information just from the combination of date_prod and start_date.\n",
    "\n",
    "I had originally hoped to use production_month to impute start_date, but there is an easy alternative which is just assigning the missing start dates to be equal to the first date_prod. Obviously this won't always be accurate, but we can flag all of the api's that have missing start_date's so that they will be known as potential quality issues in later features."
   ]
  },
  {
   "cell_type": "code",
   "execution_count": 21,
   "id": "555ca23c-060d-47bf-8d4e-df3c040b165a",
   "metadata": {},
   "outputs": [],
   "source": [
    "def impute_start_dates_by_first_prod(well_production_df):\n",
    "    \"\"\"\n",
    "    Impute missing start_date values by assigning the minimum date_prod for each api_no_10.\n",
    "    Returns the updated DataFrame and a list of APIs whose start_date was imputed.\n",
    "    \"\"\"\n",
    "    import pandas as pd\n",
    "\n",
    "    df = well_production_df.copy()\n",
    "    initial_missing = df['start_date'].isnull().sum()\n",
    "    print(f\"Initial missing start_dates: {initial_missing:,}\")\n",
    "\n",
    "    # Find APIs with missing start_date\n",
    "    apis_missing_start = df[df['start_date'].isnull()]['api_no_10'].unique()\n",
    "    print(f\"Wells eligible for start_date imputation: {len(apis_missing_start):,}\")\n",
    "\n",
    "    # Find the first production date for each API\n",
    "    min_dates = df.groupby('api_no_10')['date_prod'].min()\n",
    "\n",
    "    # Impute start_date using the minimum date_prod for each API with missing start_date\n",
    "    imputed_apis = []\n",
    "    df['start_date_imputed'] = False  # Flag column\n",
    "\n",
    "    for api in apis_missing_start:\n",
    "        # Get mask for this API and missing start_date\n",
    "        mask = (df['api_no_10'] == api) & (df['start_date'].isnull())\n",
    "        if mask.any():\n",
    "            df.loc[mask, 'start_date'] = min_dates[api]\n",
    "            df.loc[mask, 'start_date_imputed'] = True\n",
    "            imputed_apis.append(api)\n",
    "\n",
    "    final_missing = df['start_date'].isnull().sum()\n",
    "    imputed_count = initial_missing - final_missing\n",
    "\n",
    "    print(f\"Successfully imputed start_dates: {imputed_count:,}\")\n",
    "    print(f\"Remaining missing start_dates: {final_missing:,}\")\n",
    "    print(f\"Imputation success rate: {(imputed_count/initial_missing)*100:.1f}%\")\n",
    "\n",
    "    return df, imputed_apis"
   ]
  },
  {
   "cell_type": "code",
   "execution_count": 22,
   "id": "484cba6d-8875-4a0e-bbbb-b70f2126bcb2",
   "metadata": {},
   "outputs": [
    {
     "name": "stdout",
     "output_type": "stream",
     "text": [
      "Initial missing start_dates: 671\n",
      "Wells eligible for start_date imputation: 54\n",
      "Successfully imputed start_dates: 671\n",
      "Remaining missing start_dates: 0\n",
      "Imputation success rate: 100.0%\n"
     ]
    }
   ],
   "source": [
    "wrangle_datasets['well_production'], api_no_start_date = impute_start_dates_by_first_prod(wrangle_datasets['well_production'])"
   ]
  },
  {
   "cell_type": "markdown",
   "id": "1995549a-97e0-472d-9795-768dc8309741",
   "metadata": {},
   "source": [
    "We can also just assess the production gaps using date_prod, instead of production_month, and this will tell us how many values need to be imputed (it's possible that more will need to be imputed due to non-standard zeroes, for example, that are standing in for null values, although maybe some zeroes are necessary to take into account because wells might not always produce every month even if they report zeroes, it's not necessarily false, but we'll likely need more information about production profiles to properly analyze that)"
   ]
  },
  {
   "cell_type": "code",
   "execution_count": 153,
   "id": "61301f62-eef0-4e89-8fa2-2c7d3263dabd",
   "metadata": {},
   "outputs": [],
   "source": [
    "def identify_date_gaps_by_api(well_production_df):\n",
    "    \"\"\"\n",
    "    Identify gaps in monthly production reporting dates for each well (api_no_10).\n",
    "    A gap is any missing month(s) between two consecutive production dates.\n",
    "\n",
    "    Returns:\n",
    "    - gaps_df: DataFrame with api_no_10, gap_start_date, gap_end_date, gap_months\n",
    "    - summary: dict with total wells with gaps and total gaps found\n",
    "    \"\"\"\n",
    "    \n",
    "    df = well_production_df.copy()\n",
    "    df = df.sort_values(['api_no_10', 'date_prod'])\n",
    "\n",
    "    gaps_list = []\n",
    "\n",
    "    # Group by well\n",
    "    for api, group in df.groupby('api_no_10'):\n",
    "        group = group.sort_values('date_prod').reset_index(drop=True)\n",
    "        dates = group['date_prod']\n",
    "\n",
    "        # Calculate month difference between consecutive dates\n",
    "        month_diffs = (dates.shift(-1).dt.year - dates.dt.year) * 12 + (dates.shift(-1).dt.month - dates.dt.month)\n",
    "\n",
    "        # Identify gaps where month difference > 1\n",
    "        gap_indices = month_diffs[month_diffs > 1].index\n",
    "\n",
    "        for idx in gap_indices:\n",
    "            gap_start = dates.iloc[idx]\n",
    "            gap_end = dates.iloc[idx + 1]\n",
    "            gap_months = month_diffs.loc[idx] - 1  # number of missing months\n",
    "\n",
    "            gaps_list.append({\n",
    "                'api_no_10': api,\n",
    "                'gap_start_date': gap_start,\n",
    "                'gap_end_date': gap_end,\n",
    "                'gap_months': gap_months\n",
    "            })\n",
    "\n",
    "    gaps_df = pd.DataFrame(gaps_list)\n",
    "\n",
    "    total_wells_with_gaps = gaps_df['api_no_10'].nunique() if not gaps_df.empty else 0\n",
    "    total_gaps = len(gaps_df)\n",
    "\n",
    "    summary = {\n",
    "        'total_wells_with_gaps': total_wells_with_gaps,\n",
    "        'total_gaps': total_gaps\n",
    "    }\n",
    "\n",
    "    print(f\"Total wells with reporting gaps: {total_wells_with_gaps:,}\")\n",
    "    print(f\"Total gaps identified: {total_gaps:,}\")\n",
    "\n",
    "    if not gaps_df.empty:\n",
    "        print(f\"Gap months distribution:\")\n",
    "        print(gaps_df['gap_months'].describe())\n",
    "\n",
    "    return gaps_df, summary"
   ]
  },
  {
   "cell_type": "code",
   "execution_count": 155,
   "id": "d9dd06f7-3d46-43ce-adef-c18f372496cd",
   "metadata": {},
   "outputs": [
    {
     "name": "stdout",
     "output_type": "stream",
     "text": [
      "Total wells with reporting gaps: 4,160\n",
      "Total gaps identified: 4,576\n",
      "Gap months distribution:\n",
      "count   4576.00\n",
      "mean       3.80\n",
      "std        6.23\n",
      "min        1.00\n",
      "25%        1.00\n",
      "50%        1.00\n",
      "75%        3.00\n",
      "max       41.00\n",
      "Name: gap_months, dtype: float64\n"
     ]
    }
   ],
   "source": [
    "gaps_df, summary = identify_date_gaps_by_api(wrangle_datasets['well_production'])"
   ]
  },
  {
   "cell_type": "markdown",
   "id": "b85c58d2-08a5-4099-bc3b-f72894e5f933",
   "metadata": {},
   "source": [
    "This is very interesting information because ultimately not that many wells have reporting gaps, and the number of reporting gaps isn't even that much greater than the number of wells with them. That's good because it makes our job imputing values a little bit easier."
   ]
  },
  {
   "cell_type": "markdown",
   "id": "634fef65-8b7b-407c-9b21-53203ac3bae6",
   "metadata": {},
   "source": [
    "### Geospatial Coordinate Validation <a id=\"Geospatial\"></a>"
   ]
  },
  {
   "cell_type": "markdown",
   "id": "dc778bb5-13c5-4cab-a2a9-5edafce5a41f",
   "metadata": {},
   "source": [
    "We need to make sure that all of our wells are properly in the borders of the Texas state, otherwise they are outside the parameters of what we're being asked. We need to use geospatial data and methods to achieve this."
   ]
  },
  {
   "cell_type": "code",
   "execution_count": 25,
   "id": "f2e18603-0d92-4c1d-840e-150415f67748",
   "metadata": {},
   "outputs": [],
   "source": [
    "def validate_texas_coordinates_advanced(well_properties_df):\n",
    "    \"\"\"\n",
    "    Validate well coordinates against the actual Texas state boundary polygon.\n",
    "    Returns the updated DataFrame and a list of api_no_10 values outside Texas.\n",
    "    \"\"\"\n",
    "    from shapely.geometry import Point\n",
    "\n",
    "    # Load Texas state polygon from Natural Earth (or another authoritative source)\n",
    "    texas_boundary_url = (\n",
    "        \"https://raw.githubusercontent.com/johan/world.geo.json/master/countries/USA/TX.geo.json\"\n",
    "    )\n",
    "    texas_gdf = gpd.read_file(texas_boundary_url)\n",
    "    texas_gdf = texas_gdf.to_crs(epsg=4326)\n",
    "    texas_polygon = texas_gdf.unary_union\n",
    "\n",
    "    df = well_properties_df.copy()\n",
    "\n",
    "    # Surface coordinates\n",
    "    surface_points = df.dropna(subset=['lat_surface', 'lon_surface']).copy()\n",
    "    surface_points['geometry'] = surface_points.apply(\n",
    "        lambda row: Point(row['lon_surface'], row['lat_surface']), axis=1\n",
    "    )\n",
    "    surface_gdf = gpd.GeoDataFrame(surface_points, geometry='geometry', crs='EPSG:4326')\n",
    "    surface_gdf['surface_coords_valid'] = surface_gdf['geometry'].within(texas_polygon)\n",
    "\n",
    "    # Bottomhole coordinates\n",
    "    bottomhole_points = df.dropna(subset=['lat_bottomhole', 'lon_bottomhole']).copy()\n",
    "    bottomhole_points['geometry'] = bottomhole_points.apply(\n",
    "        lambda row: Point(row['lon_bottomhole'], row['lat_bottomhole']), axis=1\n",
    "    )\n",
    "    bottomhole_gdf = gpd.GeoDataFrame(bottomhole_points, geometry='geometry', crs='EPSG:4326')\n",
    "    bottomhole_gdf['bottomhole_coords_valid'] = bottomhole_gdf['geometry'].within(texas_polygon)\n",
    "\n",
    "    # Assign validation results\n",
    "    df['surface_coords_valid'] = pd.NA\n",
    "    df['bottomhole_coords_valid'] = pd.NA\n",
    "    df.loc[surface_gdf.index, 'surface_coords_valid'] = surface_gdf['surface_coords_valid']\n",
    "    df.loc[bottomhole_gdf.index, 'bottomhole_coords_valid'] = bottomhole_gdf['bottomhole_coords_valid']\n",
    "\n",
    "    # Identify api_no_10s outside Texas (either surface or bottomhole)\n",
    "    surface_outside = surface_gdf.loc[~surface_gdf['surface_coords_valid'], 'api_no_10']\n",
    "    bottomhole_outside = bottomhole_gdf.loc[~bottomhole_gdf['bottomhole_coords_valid'], 'api_no_10']\n",
    "    apis_outside_texas = pd.Series(pd.concat([surface_outside, bottomhole_outside]).unique()).tolist()\n",
    "\n",
    "    print(\"=== Advanced Texas Coordinate Validation ===\")\n",
    "    print(f\"APIs outside Texas: {len(apis_outside_texas):,}\")\n",
    "    if apis_outside_texas:\n",
    "        print(f\"Sample of APIs outside Texas: {apis_outside_texas[:10]}\")\n",
    "\n",
    "    print(f\"Total wells with surface coordinates: {len(surface_gdf):,}\")\n",
    "    print(f\"Valid surface coordinates within Texas: {surface_gdf['surface_coords_valid'].sum()}\")\n",
    "    print(f\"Invalid surface coordinates: {(~surface_gdf['surface_coords_valid']).sum()}\")\n",
    "    print(f\"Surface coordinate validity rate: \"\n",
    "          f\"{surface_gdf['surface_coords_valid'].mean() * 100:.2f}%\")\n",
    "\n",
    "    print(f\"\\nTotal wells with bottomhole coordinates: {len(bottomhole_gdf):,}\")\n",
    "    print(f\"Valid bottomhole coordinates within Texas: {bottomhole_gdf['bottomhole_coords_valid'].sum()}\")\n",
    "    print(f\"Invalid bottomhole coordinates: {(~bottomhole_gdf['bottomhole_coords_valid']).sum()}\")\n",
    "    print(f\"Bottomhole coordinate validity rate: \"\n",
    "          f\"{bottomhole_gdf['bottomhole_coords_valid'].mean() * 100:.2f}%\")\n",
    "\n",
    "    return df, apis_outside_texas"
   ]
  },
  {
   "cell_type": "code",
   "execution_count": 26,
   "id": "80406f83-c631-4d54-b285-a5bfe4467031",
   "metadata": {},
   "outputs": [
    {
     "name": "stderr",
     "output_type": "stream",
     "text": [
      "C:\\Users\\Owner\\AppData\\Local\\Temp\\ipykernel_18972\\3192206178.py:14: DeprecationWarning: The 'unary_union' attribute is deprecated, use the 'union_all()' method instead.\n",
      "  texas_polygon = texas_gdf.unary_union\n"
     ]
    },
    {
     "name": "stdout",
     "output_type": "stream",
     "text": [
      "=== Advanced Texas Coordinate Validation ===\n",
      "APIs outside Texas: 1,030\n",
      "Sample of APIs outside Texas: ['4207131449', '4207102633', '4207132220', '4248543949', '4216700550', '4209700350', '4207103276', '4209784229', '4216731099', '4248531606']\n",
      "Total wells with surface coordinates: 397,947\n",
      "Valid surface coordinates within Texas: 397074\n",
      "Invalid surface coordinates: 873\n",
      "Surface coordinate validity rate: 99.78%\n",
      "\n",
      "Total wells with bottomhole coordinates: 397,936\n",
      "Valid bottomhole coordinates within Texas: 396909\n",
      "Invalid bottomhole coordinates: 1027\n",
      "Bottomhole coordinate validity rate: 99.74%\n"
     ]
    }
   ],
   "source": [
    "_, apis_outside_texas = validate_texas_coordinates_advanced(wrangle_datasets['well_properties'])"
   ]
  },
  {
   "cell_type": "markdown",
   "id": "84cbff4d-d1ed-4bf4-aa0c-343868ad16e7",
   "metadata": {},
   "source": [
    "There are a fair few wells outside of Texas, and I will get rid of them at some point, but I don't want to get rid of them yet because they still might provide useful information for geospatial features that I create later due to their possible proximity to other Wells that actually are in Texas"
   ]
  },
  {
   "cell_type": "markdown",
   "id": "8950ca0d-fd5e-4101-87e0-a9ea13019b09",
   "metadata": {},
   "source": [
    "### Operator Performance and Size Analysis <a id=\"Operator\"></a>"
   ]
  },
  {
   "cell_type": "markdown",
   "id": "0d4130e4-34e3-44e4-8c5b-85842ba1629e",
   "metadata": {},
   "source": [
    "Next I was going to look at Operator clusters, but I don't necessarily see the use of that yet because we don't have the final data yet so the end clusters could end up looking different, so instead I'll just investigate Operator and some other columns with groupby later on to see if any important insights come up when designing my final features. We can just apply a function to get some general insights for now."
   ]
  },
  {
   "cell_type": "code",
   "execution_count": 27,
   "id": "4cef9573-9a1c-43ce-95ab-00d6abfde6cb",
   "metadata": {},
   "outputs": [],
   "source": [
    "def analyze_operator_patterns(well_properties_df, well_production_df):\n",
    "    \"\"\"\n",
    "    Analyze operator performance, size distribution, and create\n",
    "    meaningful operator clusters for modeling.\n",
    "    \"\"\"\n",
    "    print(\"=== OPERATOR ANALYSIS AND CLUSTERING ===\")\n",
    "    \n",
    "    # Operator size distribution\n",
    "    operator_sizes = well_properties_df['operator_name'].value_counts()\n",
    "    \n",
    "    print(f\"Operator Size Distribution:\")\n",
    "    print(f\"  Total operators: {len(operator_sizes):,}\")\n",
    "    print(f\"  Largest operator: {operator_sizes.iloc[0]:,} wells\")\n",
    "    print(f\"  Median operator size: {operator_sizes.median():.0f} wells\")\n",
    "    print(f\"  Single-well operators: {(operator_sizes == 1).sum():,}\")\n",
    "    \n",
    "    # Size-based clustering\n",
    "    def classify_operator_size(well_count):\n",
    "        if well_count >= 1000:\n",
    "            return 'Major'\n",
    "        elif well_count >= 100:\n",
    "            return 'Large'\n",
    "        elif well_count >= 10:\n",
    "            return 'Medium'\n",
    "        else:\n",
    "            return 'Small'\n",
    "    \n",
    "    operator_clusters = operator_sizes.apply(classify_operator_size)\n",
    "    cluster_distribution = operator_clusters.value_counts()\n",
    "    \n",
    "    print(f\"\\nOperator Size Clusters:\")\n",
    "    for cluster, count in cluster_distribution.items():\n",
    "        wells_in_cluster = operator_sizes[operator_clusters == cluster].sum()\n",
    "        print(f\"  {cluster}: {count:,} operators, {wells_in_cluster:,} total wells\")\n",
    "    \n",
    "    # Add operator cluster to well properties\n",
    "    operator_cluster_map = operator_clusters.to_dict()\n",
    "    well_properties_df['operator_size_cluster'] = well_properties_df['operator_name'].map(\n",
    "        lambda x: operator_cluster_map.get(x, 'Unknown')\n",
    "    )\n",
    "    \n",
    "    # Analyze performance by operator size (if production data available)\n",
    "    if 'api_no_10' in well_production_df.columns:\n",
    "        # Merge operator info with production\n",
    "        well_prod_operator = well_production_df.merge(\n",
    "            well_properties_df[['api_no_10', 'operator_size_cluster']], \n",
    "            on='api_no_10', \n",
    "            how='left'\n",
    "        )\n",
    "        \n",
    "        # Performance analysis by cluster\n",
    "        performance_by_cluster = well_prod_operator.groupby('operator_size_cluster').agg({\n",
    "            'oil_monthly': ['mean', 'median', 'count'],\n",
    "            'gas_monthly': ['mean', 'median', 'count']\n",
    "        }).round(2)\n",
    "        \n",
    "        print(f\"\\nPerformance by Operator Size:\")\n",
    "        print(performance_by_cluster)\n",
    "    \n",
    "    return well_properties_df"
   ]
  },
  {
   "cell_type": "code",
   "execution_count": 28,
   "id": "8e0a3808-0889-4706-b150-2e295e286bc4",
   "metadata": {},
   "outputs": [
    {
     "name": "stdout",
     "output_type": "stream",
     "text": [
      "=== OPERATOR ANALYSIS AND CLUSTERING ===\n",
      "Operator Size Distribution:\n",
      "  Total operators: 9,187\n",
      "  Largest operator: 14,738 wells\n",
      "  Median operator size: 3 wells\n",
      "  Single-well operators: 2,980\n",
      "\n",
      "Operator Size Clusters:\n",
      "  Small: 6,451 operators, 16,874 total wells\n",
      "  Medium: 2,281 operators, 78,604 total wells\n",
      "  Large: 384 operators, 112,458 total wells\n",
      "  Major: 71 operators, 191,973 total wells\n",
      "\n",
      "Performance by Operator Size:\n",
      "                      oil_monthly                 gas_monthly             \\\n",
      "                             mean median    count        mean     median   \n",
      "operator_size_cluster                                                      \n",
      "Large                      352.59  16.00  4725512     2943.11      24.00   \n",
      "Major                      603.20  39.00  7945700     3312.18     227.00   \n",
      "Medium                     155.32  12.00  3282975      924.69       5.00   \n",
      "Small                      203.03  22.00   648239      807.18      11.00   \n",
      "Unknown                      2.00   0.00     1364  1257699.12 1290394.00   \n",
      "\n",
      "                                \n",
      "                         count  \n",
      "operator_size_cluster           \n",
      "Large                  4725512  \n",
      "Major                  7945700  \n",
      "Medium                 3282975  \n",
      "Small                   648239  \n",
      "Unknown                   1364  \n"
     ]
    },
    {
     "data": {
      "text/html": [
       "<div>\n",
       "<style scoped>\n",
       "    .dataframe tbody tr th:only-of-type {\n",
       "        vertical-align: middle;\n",
       "    }\n",
       "\n",
       "    .dataframe tbody tr th {\n",
       "        vertical-align: top;\n",
       "    }\n",
       "\n",
       "    .dataframe thead th {\n",
       "        text-align: right;\n",
       "    }\n",
       "</style>\n",
       "<table border=\"1\" class=\"dataframe\">\n",
       "  <thead>\n",
       "    <tr style=\"text-align: right;\">\n",
       "      <th></th>\n",
       "      <th>api_no_10</th>\n",
       "      <th>operator_name</th>\n",
       "      <th>lon_surface</th>\n",
       "      <th>lat_surface</th>\n",
       "      <th>lon_bottomhole</th>\n",
       "      <th>lat_bottomhole</th>\n",
       "      <th>elevation_ground</th>\n",
       "      <th>depth_tvd</th>\n",
       "      <th>lower_perf</th>\n",
       "      <th>upper_perf</th>\n",
       "      <th>measured_depth</th>\n",
       "      <th>horizontal_length</th>\n",
       "      <th>wellbore_type</th>\n",
       "      <th>field_name</th>\n",
       "      <th>township</th>\n",
       "      <th>section</th>\n",
       "      <th>range</th>\n",
       "      <th>county_name</th>\n",
       "      <th>sub_region</th>\n",
       "      <th>operator_size_cluster</th>\n",
       "    </tr>\n",
       "  </thead>\n",
       "  <tbody>\n",
       "    <tr>\n",
       "      <th>0</th>\n",
       "      <td>4242131075</td>\n",
       "      <td>PANTERA ENERGY COMPANY</td>\n",
       "      <td>-101.97</td>\n",
       "      <td>36.16</td>\n",
       "      <td>-101.97</td>\n",
       "      <td>36.16</td>\n",
       "      <td>None</td>\n",
       "      <td>NaN</td>\n",
       "      <td>None</td>\n",
       "      <td>None</td>\n",
       "      <td>3314.00</td>\n",
       "      <td>NaN</td>\n",
       "      <td>Unknown</td>\n",
       "      <td>TEXAS HUGOTON</td>\n",
       "      <td>None</td>\n",
       "      <td>None</td>\n",
       "      <td>None</td>\n",
       "      <td>SHERMAN</td>\n",
       "      <td>North - TX</td>\n",
       "      <td>Major</td>\n",
       "    </tr>\n",
       "    <tr>\n",
       "      <th>1</th>\n",
       "      <td>4243934705</td>\n",
       "      <td>BKV BARNETT, LLC</td>\n",
       "      <td>-97.53</td>\n",
       "      <td>32.64</td>\n",
       "      <td>-97.50</td>\n",
       "      <td>32.65</td>\n",
       "      <td>None</td>\n",
       "      <td>NaN</td>\n",
       "      <td>None</td>\n",
       "      <td>None</td>\n",
       "      <td>6833.00</td>\n",
       "      <td>7404.71</td>\n",
       "      <td>Horizontal</td>\n",
       "      <td>NEWARK, EAST (BARNETT SHALE)</td>\n",
       "      <td>None</td>\n",
       "      <td>None</td>\n",
       "      <td>None</td>\n",
       "      <td>TARRANT</td>\n",
       "      <td>Central - TX</td>\n",
       "      <td>Major</td>\n",
       "    </tr>\n",
       "    <tr>\n",
       "      <th>2</th>\n",
       "      <td>4239530630</td>\n",
       "      <td>HILCORP ENERGY COMPANY</td>\n",
       "      <td>-96.45</td>\n",
       "      <td>31.18</td>\n",
       "      <td>-96.45</td>\n",
       "      <td>31.18</td>\n",
       "      <td>None</td>\n",
       "      <td>NaN</td>\n",
       "      <td>None</td>\n",
       "      <td>None</td>\n",
       "      <td>13029.00</td>\n",
       "      <td>NaN</td>\n",
       "      <td>Unknown</td>\n",
       "      <td>BALD PRAIRIE (CV CONSOLIDATED)</td>\n",
       "      <td>None</td>\n",
       "      <td>None</td>\n",
       "      <td>None</td>\n",
       "      <td>ROBERTSON</td>\n",
       "      <td>Central - TX</td>\n",
       "      <td>Major</td>\n",
       "    </tr>\n",
       "    <tr>\n",
       "      <th>3</th>\n",
       "      <td>4225130640</td>\n",
       "      <td>TEP BARNETT USA, LLC</td>\n",
       "      <td>-97.43</td>\n",
       "      <td>32.25</td>\n",
       "      <td>-97.44</td>\n",
       "      <td>32.25</td>\n",
       "      <td>None</td>\n",
       "      <td>NaN</td>\n",
       "      <td>None</td>\n",
       "      <td>None</td>\n",
       "      <td>6881.00</td>\n",
       "      <td>4078.53</td>\n",
       "      <td>Horizontal</td>\n",
       "      <td>NEWARK, EAST (BARNETT SHALE)</td>\n",
       "      <td>None</td>\n",
       "      <td>None</td>\n",
       "      <td>None</td>\n",
       "      <td>JOHNSON</td>\n",
       "      <td>Central - TX</td>\n",
       "      <td>Major</td>\n",
       "    </tr>\n",
       "    <tr>\n",
       "      <th>4</th>\n",
       "      <td>4204131998</td>\n",
       "      <td>VESS OIL CORPORATION</td>\n",
       "      <td>-96.21</td>\n",
       "      <td>30.82</td>\n",
       "      <td>-96.21</td>\n",
       "      <td>30.82</td>\n",
       "      <td>None</td>\n",
       "      <td>NaN</td>\n",
       "      <td>None</td>\n",
       "      <td>None</td>\n",
       "      <td>8799.00</td>\n",
       "      <td>NaN</td>\n",
       "      <td>Unknown</td>\n",
       "      <td>KURTEN (WOODBINE)</td>\n",
       "      <td>None</td>\n",
       "      <td>None</td>\n",
       "      <td>None</td>\n",
       "      <td>BRAZOS</td>\n",
       "      <td>South - TX</td>\n",
       "      <td>Large</td>\n",
       "    </tr>\n",
       "    <tr>\n",
       "      <th>...</th>\n",
       "      <td>...</td>\n",
       "      <td>...</td>\n",
       "      <td>...</td>\n",
       "      <td>...</td>\n",
       "      <td>...</td>\n",
       "      <td>...</td>\n",
       "      <td>...</td>\n",
       "      <td>...</td>\n",
       "      <td>...</td>\n",
       "      <td>...</td>\n",
       "      <td>...</td>\n",
       "      <td>...</td>\n",
       "      <td>...</td>\n",
       "      <td>...</td>\n",
       "      <td>...</td>\n",
       "      <td>...</td>\n",
       "      <td>...</td>\n",
       "      <td>...</td>\n",
       "      <td>...</td>\n",
       "      <td>...</td>\n",
       "    </tr>\n",
       "    <tr>\n",
       "      <th>430655</th>\n",
       "      <td>4240901676</td>\n",
       "      <td>ABRAXAS PETROLEUM CORPORATION</td>\n",
       "      <td>-97.44</td>\n",
       "      <td>28.09</td>\n",
       "      <td>-97.44</td>\n",
       "      <td>28.09</td>\n",
       "      <td>None</td>\n",
       "      <td>NaN</td>\n",
       "      <td>None</td>\n",
       "      <td>None</td>\n",
       "      <td>NaN</td>\n",
       "      <td>NaN</td>\n",
       "      <td>Unknown</td>\n",
       "      <td>PORTILLA (7300 SAND)</td>\n",
       "      <td>None</td>\n",
       "      <td>None</td>\n",
       "      <td>None</td>\n",
       "      <td>SAN PATRICIO</td>\n",
       "      <td>South - TX</td>\n",
       "      <td>Medium</td>\n",
       "    </tr>\n",
       "    <tr>\n",
       "      <th>430656</th>\n",
       "      <td>4231134458</td>\n",
       "      <td>REPSOL OIL &amp; GAS USA, LLC</td>\n",
       "      <td>-98.51</td>\n",
       "      <td>28.40</td>\n",
       "      <td>-98.51</td>\n",
       "      <td>28.39</td>\n",
       "      <td>None</td>\n",
       "      <td>NaN</td>\n",
       "      <td>None</td>\n",
       "      <td>None</td>\n",
       "      <td>11773.00</td>\n",
       "      <td>4692.89</td>\n",
       "      <td>Horizontal</td>\n",
       "      <td>EAGLEVILLE (EAGLE FORD-1)</td>\n",
       "      <td>None</td>\n",
       "      <td>None</td>\n",
       "      <td>None</td>\n",
       "      <td>MCMULLEN</td>\n",
       "      <td>South - TX</td>\n",
       "      <td>Large</td>\n",
       "    </tr>\n",
       "    <tr>\n",
       "      <th>430657</th>\n",
       "      <td>4222736804</td>\n",
       "      <td>BAYSWATER OPERATING COMPANY LLC</td>\n",
       "      <td>-101.29</td>\n",
       "      <td>32.36</td>\n",
       "      <td>-101.29</td>\n",
       "      <td>32.36</td>\n",
       "      <td>None</td>\n",
       "      <td>NaN</td>\n",
       "      <td>None</td>\n",
       "      <td>None</td>\n",
       "      <td>9181.00</td>\n",
       "      <td>NaN</td>\n",
       "      <td>Unknown</td>\n",
       "      <td>SPRABERRY (TREND AREA)</td>\n",
       "      <td>None</td>\n",
       "      <td>None</td>\n",
       "      <td>None</td>\n",
       "      <td>HOWARD</td>\n",
       "      <td>West - TX</td>\n",
       "      <td>Large</td>\n",
       "    </tr>\n",
       "    <tr>\n",
       "      <th>430658</th>\n",
       "      <td>4222739543</td>\n",
       "      <td>SURGE OPERATING, LLC</td>\n",
       "      <td>-101.60</td>\n",
       "      <td>32.46</td>\n",
       "      <td>-101.60</td>\n",
       "      <td>32.44</td>\n",
       "      <td>None</td>\n",
       "      <td>NaN</td>\n",
       "      <td>None</td>\n",
       "      <td>None</td>\n",
       "      <td>8075.00</td>\n",
       "      <td>7430.68</td>\n",
       "      <td>Horizontal</td>\n",
       "      <td>SPRABERRY (TREND AREA)</td>\n",
       "      <td>None</td>\n",
       "      <td>None</td>\n",
       "      <td>None</td>\n",
       "      <td>HOWARD</td>\n",
       "      <td>West - TX</td>\n",
       "      <td>Large</td>\n",
       "    </tr>\n",
       "    <tr>\n",
       "      <th>430659</th>\n",
       "      <td>4236500943</td>\n",
       "      <td>HOPEWELL OPERATING, INC.</td>\n",
       "      <td>-94.05</td>\n",
       "      <td>32.34</td>\n",
       "      <td>-94.05</td>\n",
       "      <td>32.34</td>\n",
       "      <td>None</td>\n",
       "      <td>NaN</td>\n",
       "      <td>None</td>\n",
       "      <td>None</td>\n",
       "      <td>NaN</td>\n",
       "      <td>NaN</td>\n",
       "      <td>Unknown</td>\n",
       "      <td>BETHANY, NE. (LIME 3850)</td>\n",
       "      <td>None</td>\n",
       "      <td>None</td>\n",
       "      <td>None</td>\n",
       "      <td>PANOLA</td>\n",
       "      <td>Haynesville - TX</td>\n",
       "      <td>Medium</td>\n",
       "    </tr>\n",
       "  </tbody>\n",
       "</table>\n",
       "<p>399913 rows × 20 columns</p>\n",
       "</div>"
      ],
      "text/plain": [
       "         api_no_10                    operator_name  lon_surface  lat_surface  \\\n",
       "0       4242131075           PANTERA ENERGY COMPANY      -101.97        36.16   \n",
       "1       4243934705                 BKV BARNETT, LLC       -97.53        32.64   \n",
       "2       4239530630           HILCORP ENERGY COMPANY       -96.45        31.18   \n",
       "3       4225130640             TEP BARNETT USA, LLC       -97.43        32.25   \n",
       "4       4204131998             VESS OIL CORPORATION       -96.21        30.82   \n",
       "...            ...                              ...          ...          ...   \n",
       "430655  4240901676    ABRAXAS PETROLEUM CORPORATION       -97.44        28.09   \n",
       "430656  4231134458        REPSOL OIL & GAS USA, LLC       -98.51        28.40   \n",
       "430657  4222736804  BAYSWATER OPERATING COMPANY LLC      -101.29        32.36   \n",
       "430658  4222739543             SURGE OPERATING, LLC      -101.60        32.46   \n",
       "430659  4236500943         HOPEWELL OPERATING, INC.       -94.05        32.34   \n",
       "\n",
       "        lon_bottomhole  lat_bottomhole elevation_ground  depth_tvd lower_perf  \\\n",
       "0              -101.97           36.16             None        NaN       None   \n",
       "1               -97.50           32.65             None        NaN       None   \n",
       "2               -96.45           31.18             None        NaN       None   \n",
       "3               -97.44           32.25             None        NaN       None   \n",
       "4               -96.21           30.82             None        NaN       None   \n",
       "...                ...             ...              ...        ...        ...   \n",
       "430655          -97.44           28.09             None        NaN       None   \n",
       "430656          -98.51           28.39             None        NaN       None   \n",
       "430657         -101.29           32.36             None        NaN       None   \n",
       "430658         -101.60           32.44             None        NaN       None   \n",
       "430659          -94.05           32.34             None        NaN       None   \n",
       "\n",
       "       upper_perf  measured_depth  horizontal_length wellbore_type  \\\n",
       "0            None         3314.00                NaN       Unknown   \n",
       "1            None         6833.00            7404.71    Horizontal   \n",
       "2            None        13029.00                NaN       Unknown   \n",
       "3            None         6881.00            4078.53    Horizontal   \n",
       "4            None         8799.00                NaN       Unknown   \n",
       "...           ...             ...                ...           ...   \n",
       "430655       None             NaN                NaN       Unknown   \n",
       "430656       None        11773.00            4692.89    Horizontal   \n",
       "430657       None         9181.00                NaN       Unknown   \n",
       "430658       None         8075.00            7430.68    Horizontal   \n",
       "430659       None             NaN                NaN       Unknown   \n",
       "\n",
       "                            field_name township section range   county_name  \\\n",
       "0                        TEXAS HUGOTON     None    None  None       SHERMAN   \n",
       "1         NEWARK, EAST (BARNETT SHALE)     None    None  None       TARRANT   \n",
       "2       BALD PRAIRIE (CV CONSOLIDATED)     None    None  None     ROBERTSON   \n",
       "3         NEWARK, EAST (BARNETT SHALE)     None    None  None       JOHNSON   \n",
       "4                    KURTEN (WOODBINE)     None    None  None        BRAZOS   \n",
       "...                                ...      ...     ...   ...           ...   \n",
       "430655            PORTILLA (7300 SAND)     None    None  None  SAN PATRICIO   \n",
       "430656       EAGLEVILLE (EAGLE FORD-1)     None    None  None      MCMULLEN   \n",
       "430657          SPRABERRY (TREND AREA)     None    None  None        HOWARD   \n",
       "430658          SPRABERRY (TREND AREA)     None    None  None        HOWARD   \n",
       "430659        BETHANY, NE. (LIME 3850)     None    None  None        PANOLA   \n",
       "\n",
       "              sub_region operator_size_cluster  \n",
       "0             North - TX                 Major  \n",
       "1           Central - TX                 Major  \n",
       "2           Central - TX                 Major  \n",
       "3           Central - TX                 Major  \n",
       "4             South - TX                 Large  \n",
       "...                  ...                   ...  \n",
       "430655        South - TX                Medium  \n",
       "430656        South - TX                 Large  \n",
       "430657         West - TX                 Large  \n",
       "430658         West - TX                 Large  \n",
       "430659  Haynesville - TX                Medium  \n",
       "\n",
       "[399913 rows x 20 columns]"
      ]
     },
     "execution_count": 28,
     "metadata": {},
     "output_type": "execute_result"
    }
   ],
   "source": [
    "analyze_operator_patterns(\n",
    "    wrangle_datasets['well_properties'], \n",
    "    wrangle_datasets['well_production']\n",
    ")"
   ]
  },
  {
   "cell_type": "code",
   "execution_count": 162,
   "id": "d4f675dd-688e-47ad-bcda-aa708ef0f3bf",
   "metadata": {},
   "outputs": [
    {
     "data": {
      "text/plain": [
       "Index(['api_no_10', 'operator_name', 'lon_surface', 'lat_surface',\n",
       "       'lon_bottomhole', 'lat_bottomhole', 'elevation_ground', 'depth_tvd',\n",
       "       'lower_perf', 'upper_perf', 'measured_depth', 'horizontal_length',\n",
       "       'wellbore_type', 'field_name', 'township', 'section', 'range',\n",
       "       'county_name', 'sub_region', 'operator_size_cluster'],\n",
       "      dtype='object')"
      ]
     },
     "execution_count": 162,
     "metadata": {},
     "output_type": "execute_result"
    }
   ],
   "source": [
    "wrangle_datasets['well_properties'].columns"
   ]
  },
  {
   "cell_type": "code",
   "execution_count": 29,
   "id": "7a59ba73-be8b-4f6a-940f-034a3fc94b45",
   "metadata": {},
   "outputs": [
    {
     "data": {
      "text/plain": [
       "Index(['api_no_10', 'operator_name', 'lon_surface', 'lat_surface',\n",
       "       'lon_bottomhole', 'lat_bottomhole', 'elevation_ground', 'depth_tvd',\n",
       "       'lower_perf', 'upper_perf', 'measured_depth', 'horizontal_length',\n",
       "       'wellbore_type', 'field_name', 'township', 'section', 'range',\n",
       "       'county_name', 'sub_region'],\n",
       "      dtype='object')"
      ]
     },
     "execution_count": 29,
     "metadata": {},
     "output_type": "execute_result"
    }
   ],
   "source": [
    "wrangle_datasets['well_properties'].drop('operator_size_cluster', axis=1, inplace=True)\n",
    "wrangle_datasets['well_properties'].columns"
   ]
  },
  {
   "cell_type": "markdown",
   "id": "1440b6f0-e88a-4551-8a6f-16b3b33082e2",
   "metadata": {},
   "source": [
    "The noteworthy insight here seems to be that API's with \"unknown\" operators (which is to say that those operators aren't listed in the well_properties data) have extremely high gas production totals (and very low oil totals), I don't know why that is but nothing else about this function results stands out much by comparison, the rest is fairly expected. I'm dropping this column because it's not that useful when not joined with production data and isn't any kind of final clustering that I'll use\n",
    "\n",
    "One thing that it reminds me of though is that we don't fully understand the extent of the missing data until we join all of the data together, so we'll want to do that before we get to our feature design and final imputation steps. Thinking about what kind of join I would like to do, I'm leaning towards a left join, with the left dataframe being the production data. I can't work with data that doesn't have any production values for gas or oil (I already got rid of data like that as basically not even being a well), so I'll keep all the data from properties and formations which has api's which exist in the production data"
   ]
  },
  {
   "cell_type": "markdown",
   "id": "85b4257b-b670-45ac-a69a-e56f653fe2e6",
   "metadata": {},
   "source": [
    "### Formation Name Standardization <a id=\"Formation\"></a>"
   ]
  },
  {
   "cell_type": "code",
   "execution_count": 30,
   "id": "cf105d1d-61e6-44b9-9ca3-2fa5a171eebc",
   "metadata": {},
   "outputs": [],
   "source": [
    "def standardize_formation_names(well_formations_df):\n",
    "    \"\"\"\n",
    "    Standardize formation names and create hierarchical formation clusters\n",
    "    based on geological relationships, using all known formation variants.\n",
    "    \"\"\"\n",
    "    import pandas as pd\n",
    "\n",
    "    print(\"=== FORMATION STANDARDIZATION AND CLUSTERING ===\")\n",
    "    df = well_formations_df.copy()\n",
    "\n",
    "    # Standardization rules based on dataset-specific values and geological knowledge\n",
    "    def standardize_formation_name(formation_name):\n",
    "        if pd.isna(formation_name):\n",
    "            return formation_name\n",
    "\n",
    "        name = str(formation_name).strip().lower()\n",
    "\n",
    "        # Barnett\n",
    "        if name == \"barnett\":\n",
    "            return \"Barnett\"\n",
    "        elif \"upper barnett\" in name:\n",
    "            return \"Barnett Upper\"\n",
    "        elif \"lower barnett\" in name:\n",
    "            return \"Barnett Lower\"\n",
    "\n",
    "        # Eagle Ford\n",
    "        elif name == \"eagle ford\":\n",
    "            return \"Eagle Ford\"\n",
    "        elif \"lower eagle ford\" in name:\n",
    "            return \"Eagle Ford Lower\"\n",
    "        elif \"upper eagle ford\" in name:\n",
    "            return \"Eagle Ford Upper\"\n",
    "\n",
    "        # Wolfcamp\n",
    "        elif name == \"wolfcamp a\":\n",
    "            return \"Wolfcamp A\"\n",
    "        elif name == \"wolfcamp a upper\":\n",
    "            return \"Wolfcamp A Upper\"\n",
    "        elif name == \"wolfcamp a lower\":\n",
    "            return \"Wolfcamp A Lower\"\n",
    "        elif name == \"wolfcamp b upper\":\n",
    "            return \"Wolfcamp B Upper\"\n",
    "        elif name == \"wolfcamp b lower\":\n",
    "            return \"Wolfcamp B Lower\"\n",
    "        elif name == \"wolfcamp b\":\n",
    "            return \"Wolfcamp B\"\n",
    "        elif name == \"wolfcamp c\":\n",
    "            return \"Wolfcamp C\"\n",
    "        elif name == \"wolfcamp d\":\n",
    "            return \"Wolfcamp D\"\n",
    "        elif name == \"wolfcamp\":\n",
    "            return \"Wolfcamp\"\n",
    "\n",
    "        # Bone Spring\n",
    "        elif name == \"first bone spring\":\n",
    "            return \"Bone Spring 1st\"\n",
    "        elif name == \"second bone spring\":\n",
    "            return \"Bone Spring 2nd\"\n",
    "        elif name == \"third bone spring\":\n",
    "            return \"Bone Spring 3rd\"\n",
    "        elif name == \"bone spring\":\n",
    "            return \"Bone Spring\"\n",
    "\n",
    "        # Brushy Canyon\n",
    "        elif \"upper brushy canyon\" in name:\n",
    "            return \"Brushy Canyon Upper\"\n",
    "        elif \"lower brushy canyon\" in name:\n",
    "            return \"Brushy Canyon Lower\"\n",
    "\n",
    "        # Other direct matches\n",
    "        elif name == \"delaware\":\n",
    "            return \"Delaware\"\n",
    "        elif name == \"abo-yeso\":\n",
    "            return \"Abo-Yeso\"\n",
    "        elif name == \"cherry canyon\":\n",
    "            return \"Cherry Canyon\"\n",
    "        elif name == \"tuscaloosa\":\n",
    "            return \"Tuscaloosa\"\n",
    "        elif name == \"bell canyon\":\n",
    "            return \"Bell Canyon\"\n",
    "\n",
    "        # Fallback: return original\n",
    "        else:\n",
    "            return formation_name\n",
    "\n",
    "    df['formation_standardized'] = df['formation'].apply(standardize_formation_name)\n",
    "\n",
    "    # Create formation groupings for higher-level clustering\n",
    "    def create_formation_group(standardized_name):\n",
    "        if pd.isna(standardized_name):\n",
    "            return 'Unknown'\n",
    "        name = str(standardized_name).lower()\n",
    "        if \"barnett\" in name:\n",
    "            return \"Barnett Group\"\n",
    "        elif \"eagle ford\" in name:\n",
    "            return \"Eagle Ford Group\"\n",
    "        elif \"wolfcamp\" in name:\n",
    "            return \"Wolfcamp Group\"\n",
    "        elif \"bone spring\" in name:\n",
    "            return \"Bone Spring Group\"\n",
    "        elif \"delaware\" in name:\n",
    "            return \"Delaware Group\"\n",
    "        elif \"brushy canyon\" in name or \"cherry canyon\" in name or \"bell canyon\" in name:\n",
    "            return \"Canyon Group\"\n",
    "        elif \"abo-yeso\" in name:\n",
    "            return \"Abo-Yeso Group\"\n",
    "        elif \"tuscaloosa\" in name:\n",
    "            return \"Tuscaloosa Group\"\n",
    "        else:\n",
    "            return \"Other\"\n",
    "\n",
    "    df['formation_group'] = df['formation_standardized'].apply(create_formation_group)\n",
    "\n",
    "    # Print summary\n",
    "    print(f\"\\nStandardized formation names ({df['formation_standardized'].nunique()} unique):\")\n",
    "    print(df['formation_standardized'].value_counts().head(15))\n",
    "\n",
    "    print(f\"\\nFormation groups ({df['formation_group'].nunique()} unique):\")\n",
    "    print(df['formation_group'].value_counts())\n",
    "\n",
    "    return df"
   ]
  },
  {
   "cell_type": "code",
   "execution_count": 31,
   "id": "471d5b22-7485-4b65-91db-a6653c5f0faf",
   "metadata": {},
   "outputs": [
    {
     "name": "stdout",
     "output_type": "stream",
     "text": [
      "=== FORMATION STANDARDIZATION AND CLUSTERING ===\n",
      "\n",
      "Standardized formation names (25 unique):\n",
      "formation_standardized\n",
      "Barnett             156898\n",
      "Wolfcamp A          114744\n",
      "Eagle Ford           63462\n",
      "Delaware             28444\n",
      "Eagle Ford Lower      3745\n",
      "Abo-Yeso              1664\n",
      "Eagle Ford Upper       994\n",
      "Wolfcamp               850\n",
      "Wolfcamp D             186\n",
      "Wolfcamp C             141\n",
      "Bone Spring 3rd        139\n",
      "Wolfcamp A Upper       123\n",
      "Bone Spring 2nd        107\n",
      "Barnett Upper           97\n",
      "Wolfcamp A Lower        62\n",
      "Name: count, dtype: int64\n",
      "\n",
      "Formation groups (8 unique):\n",
      "formation_group\n",
      "Barnett Group        157005\n",
      "Wolfcamp Group       116157\n",
      "Eagle Ford Group      68201\n",
      "Delaware Group        28444\n",
      "Abo-Yeso Group         1664\n",
      "Bone Spring Group       271\n",
      "Canyon Group            135\n",
      "Tuscaloosa Group         31\n",
      "Name: count, dtype: int64\n"
     ]
    }
   ],
   "source": [
    "wrangle_datasets['well_formations'] = standardize_formation_names(wrangle_datasets['well_formations'])"
   ]
  },
  {
   "cell_type": "markdown",
   "id": "2dd4aed5-3e23-4cd7-a42a-4398dfec8ba9",
   "metadata": {},
   "source": [
    "### Joining the Data <a id=\"Join\"></a>"
   ]
  },
  {
   "cell_type": "markdown",
   "id": "b89677cb-b649-4a6c-b60e-f770bffed007",
   "metadata": {},
   "source": [
    "My final step for now will be joining the data so I can drop any unnecessary columns and get a full picture of the missing data for the sake of final imputations and feature engineering. These data sets take up so much memory that's convenient to drop columns pre-join so that the join doesn't take excessive memory and computational power."
   ]
  },
  {
   "cell_type": "code",
   "execution_count": 32,
   "id": "9cdafe2c-f8eb-442b-b1a6-3c7b19c2d805",
   "metadata": {},
   "outputs": [
    {
     "name": "stdout",
     "output_type": "stream",
     "text": [
      "<class 'pandas.core.frame.DataFrame'>\n",
      "Index: 16603790 entries, 0 to 17724874\n",
      "Data columns (total 9 columns):\n",
      " #   Column              Dtype         \n",
      "---  ------              -----         \n",
      " 0   date_prod           datetime64[ms]\n",
      " 1   api_no_10           object        \n",
      " 2   gas_monthly         float64       \n",
      " 3   oil_monthly         float64       \n",
      " 4   production_month    int64         \n",
      " 5   start_date          datetime64[ns]\n",
      " 6   county              object        \n",
      " 7   sub_region          object        \n",
      " 8   start_date_imputed  bool          \n",
      "dtypes: bool(1), datetime64[ms](1), datetime64[ns](1), float64(2), int64(1), object(3)\n",
      "memory usage: 1.1+ GB\n"
     ]
    }
   ],
   "source": [
    "wrangle_datasets['well_production'].info()"
   ]
  },
  {
   "cell_type": "code",
   "execution_count": 33,
   "id": "ccf192c5-5044-41c5-96c4-5d0df891a97f",
   "metadata": {},
   "outputs": [
    {
     "name": "stdout",
     "output_type": "stream",
     "text": [
      "<class 'pandas.core.frame.DataFrame'>\n",
      "Index: 16603790 entries, 0 to 17724874\n",
      "Data columns (total 7 columns):\n",
      " #   Column       Dtype         \n",
      "---  ------       -----         \n",
      " 0   date_prod    datetime64[ms]\n",
      " 1   api_no_10    object        \n",
      " 2   gas_monthly  float64       \n",
      " 3   oil_monthly  float64       \n",
      " 4   start_date   datetime64[ns]\n",
      " 5   county       object        \n",
      " 6   sub_region   object        \n",
      "dtypes: datetime64[ms](1), datetime64[ns](1), float64(2), object(3)\n",
      "memory usage: 1013.4+ MB\n"
     ]
    }
   ],
   "source": [
    "wrangle_datasets['well_production'].drop(['production_month', 'start_date_imputed'], axis=1, inplace=True)\n",
    "wrangle_datasets['well_production'].info()"
   ]
  },
  {
   "cell_type": "code",
   "execution_count": 34,
   "id": "27250c48-492b-41ac-af08-7202b962ab36",
   "metadata": {},
   "outputs": [
    {
     "name": "stdout",
     "output_type": "stream",
     "text": [
      "<class 'pandas.core.frame.DataFrame'>\n",
      "Index: 399913 entries, 0 to 430659\n",
      "Data columns (total 19 columns):\n",
      " #   Column             Non-Null Count   Dtype  \n",
      "---  ------             --------------   -----  \n",
      " 0   api_no_10          399913 non-null  object \n",
      " 1   operator_name      399909 non-null  object \n",
      " 2   lon_surface        397947 non-null  float64\n",
      " 3   lat_surface        397947 non-null  float64\n",
      " 4   lon_bottomhole     397936 non-null  float64\n",
      " 5   lat_bottomhole     397936 non-null  float64\n",
      " 6   elevation_ground   0 non-null       object \n",
      " 7   depth_tvd          32426 non-null   float64\n",
      " 8   lower_perf         0 non-null       object \n",
      " 9   upper_perf         0 non-null       object \n",
      " 10  measured_depth     363361 non-null  float64\n",
      " 11  horizontal_length  96450 non-null   float64\n",
      " 12  wellbore_type      398008 non-null  object \n",
      " 13  field_name         398738 non-null  object \n",
      " 14  township           0 non-null       object \n",
      " 15  section            0 non-null       object \n",
      " 16  range              0 non-null       object \n",
      " 17  county_name        399913 non-null  object \n",
      " 18  sub_region         399910 non-null  object \n",
      "dtypes: float64(7), object(12)\n",
      "memory usage: 69.1+ MB\n"
     ]
    }
   ],
   "source": [
    "wrangle_datasets['well_properties'].info()"
   ]
  },
  {
   "cell_type": "code",
   "execution_count": 35,
   "id": "19457c31-0978-4cfb-aa1d-9290c3d2952f",
   "metadata": {},
   "outputs": [
    {
     "name": "stdout",
     "output_type": "stream",
     "text": [
      "<class 'pandas.core.frame.DataFrame'>\n",
      "Index: 399913 entries, 0 to 430659\n",
      "Data columns (total 12 columns):\n",
      " #   Column             Non-Null Count   Dtype  \n",
      "---  ------             --------------   -----  \n",
      " 0   api_no_10          399913 non-null  object \n",
      " 1   operator_name      399909 non-null  object \n",
      " 2   lon_surface        397947 non-null  float64\n",
      " 3   lat_surface        397947 non-null  float64\n",
      " 4   lon_bottomhole     397936 non-null  float64\n",
      " 5   lat_bottomhole     397936 non-null  float64\n",
      " 6   elevation_ground   0 non-null       object \n",
      " 7   depth_tvd          32426 non-null   float64\n",
      " 8   measured_depth     363361 non-null  float64\n",
      " 9   horizontal_length  96450 non-null   float64\n",
      " 10  wellbore_type      398008 non-null  object \n",
      " 11  field_name         398738 non-null  object \n",
      "dtypes: float64(7), object(5)\n",
      "memory usage: 47.7+ MB\n"
     ]
    }
   ],
   "source": [
    "wrangle_datasets['well_properties'].drop(['lower_perf', 'upper_perf', 'township', 'section', 'range', 'county_name', 'sub_region'], axis=1, inplace=True)\n",
    "wrangle_datasets['well_properties'].info()"
   ]
  },
  {
   "cell_type": "code",
   "execution_count": 36,
   "id": "37ef653b-8eb3-4ee0-9a1d-94d69c30bd41",
   "metadata": {},
   "outputs": [
    {
     "name": "stdout",
     "output_type": "stream",
     "text": [
      "<class 'pandas.core.frame.DataFrame'>\n",
      "Index: 371908 entries, 0 to 382131\n",
      "Data columns (total 5 columns):\n",
      " #   Column                  Non-Null Count   Dtype \n",
      "---  ------                  --------------   ----- \n",
      " 0   api_no_10               371908 non-null  object\n",
      " 1   formation               371908 non-null  object\n",
      " 2   basin                   371908 non-null  object\n",
      " 3   formation_standardized  371908 non-null  object\n",
      " 4   formation_group         371908 non-null  object\n",
      "dtypes: object(5)\n",
      "memory usage: 17.0+ MB\n"
     ]
    }
   ],
   "source": [
    "wrangle_datasets['well_formations'].info()"
   ]
  },
  {
   "cell_type": "code",
   "execution_count": 38,
   "id": "54aed4a0-82e8-4525-8e5f-61994814ed17",
   "metadata": {},
   "outputs": [
    {
     "name": "stdout",
     "output_type": "stream",
     "text": [
      "<class 'pandas.core.frame.DataFrame'>\n",
      "Index: 371908 entries, 0 to 382131\n",
      "Data columns (total 4 columns):\n",
      " #   Column                  Non-Null Count   Dtype \n",
      "---  ------                  --------------   ----- \n",
      " 0   api_no_10               371908 non-null  object\n",
      " 1   basin                   371908 non-null  object\n",
      " 2   formation_standardized  371908 non-null  object\n",
      " 3   formation_group         371908 non-null  object\n",
      "dtypes: object(4)\n",
      "memory usage: 14.2+ MB\n"
     ]
    }
   ],
   "source": [
    "wrangle_datasets['well_formations'].drop('formation', axis=1, inplace=True)\n",
    "wrangle_datasets['well_formations'].info()"
   ]
  },
  {
   "cell_type": "code",
   "execution_count": 39,
   "id": "71109303-e5ce-4cf9-a142-a64bf1cdb923",
   "metadata": {},
   "outputs": [
    {
     "name": "stdout",
     "output_type": "stream",
     "text": [
      "<class 'pandas.core.frame.DataFrame'>\n",
      "RangeIndex: 16603790 entries, 0 to 16603789\n",
      "Data columns (total 18 columns):\n",
      " #   Column             Dtype         \n",
      "---  ------             -----         \n",
      " 0   date_prod          datetime64[ms]\n",
      " 1   api_no_10          object        \n",
      " 2   gas_monthly        float64       \n",
      " 3   oil_monthly        float64       \n",
      " 4   start_date         datetime64[ns]\n",
      " 5   county             object        \n",
      " 6   sub_region         object        \n",
      " 7   operator_name      object        \n",
      " 8   lon_surface        float64       \n",
      " 9   lat_surface        float64       \n",
      " 10  lon_bottomhole     float64       \n",
      " 11  lat_bottomhole     float64       \n",
      " 12  elevation_ground   object        \n",
      " 13  depth_tvd          float64       \n",
      " 14  measured_depth     float64       \n",
      " 15  horizontal_length  float64       \n",
      " 16  wellbore_type      object        \n",
      " 17  field_name         object        \n",
      "dtypes: datetime64[ms](1), datetime64[ns](1), float64(9), object(7)\n",
      "memory usage: 2.2+ GB\n"
     ]
    }
   ],
   "source": [
    "joined_data = wrangle_datasets['well_production'].merge(wrangle_datasets['well_properties'], on='api_no_10', how='left')\n",
    "joined_data.info()"
   ]
  },
  {
   "cell_type": "code",
   "execution_count": 40,
   "id": "ee842c5f-555b-469e-9981-bfca0dbe745f",
   "metadata": {},
   "outputs": [
    {
     "name": "stdout",
     "output_type": "stream",
     "text": [
      "<class 'pandas.core.frame.DataFrame'>\n",
      "RangeIndex: 16603790 entries, 0 to 16603789\n",
      "Data columns (total 21 columns):\n",
      " #   Column                  Dtype         \n",
      "---  ------                  -----         \n",
      " 0   date_prod               datetime64[ms]\n",
      " 1   api_no_10               object        \n",
      " 2   gas_monthly             float64       \n",
      " 3   oil_monthly             float64       \n",
      " 4   start_date              datetime64[ns]\n",
      " 5   county                  object        \n",
      " 6   sub_region              object        \n",
      " 7   operator_name           object        \n",
      " 8   lon_surface             float64       \n",
      " 9   lat_surface             float64       \n",
      " 10  lon_bottomhole          float64       \n",
      " 11  lat_bottomhole          float64       \n",
      " 12  elevation_ground        object        \n",
      " 13  depth_tvd               float64       \n",
      " 14  measured_depth          float64       \n",
      " 15  horizontal_length       float64       \n",
      " 16  wellbore_type           object        \n",
      " 17  field_name              object        \n",
      " 18  basin                   object        \n",
      " 19  formation_standardized  object        \n",
      " 20  formation_group         object        \n",
      "dtypes: datetime64[ms](1), datetime64[ns](1), float64(9), object(10)\n",
      "memory usage: 2.6+ GB\n"
     ]
    }
   ],
   "source": [
    "joined_data = joined_data.merge(wrangle_datasets['well_formations'], on='api_no_10', how='left')\n",
    "joined_data.info()"
   ]
  },
  {
   "cell_type": "markdown",
   "id": "e963cdc8-0afe-4a4e-92e0-dc10b13716cd",
   "metadata": {},
   "source": [
    "Last time I tried this, there was so much data it literally overflowed the memory of my computer and shut it down (partly a consequence of low RAM I suppose), so I'll need to be careful of these data operations going forward and when doing imputations and machine learning I need to try to use the GPU whenever possible.\n",
    "\n",
    "For now I just need a final overview of the data, especially the missing values, and then I'll save the data and execute my feature engineering and imputation strategy to fill out the data completely (except for the production gaps which will be the subject of forecasting). I'll obviously only be able to forecast through 2021 through the Februrary 2025 data I don't think my computer can handle datasets much larger than that. If that ends up being too much that I will forecast only from the values that were asked of me."
   ]
  },
  {
   "cell_type": "code",
   "execution_count": 44,
   "id": "27384feb-cfe4-4d60-a34b-b4b9043eebe0",
   "metadata": {},
   "outputs": [
    {
     "name": "stdout",
     "output_type": "stream",
     "text": [
      "\n",
      "============================================================\n",
      "DATASET: JOINED_DATA\n",
      "============================================================\n",
      "Shape: (16603790, 21)\n",
      "\n",
      "Column Overview:\n",
      "Column                    Type            Non-Null   Unique     Missing % \n",
      "--------------------------------------------------------------------------------\n",
      "date_prod                 datetime64[ms]  16603790   472        0.0       %\n",
      "api_no_10                 object          16603790   399913     0.0       %\n",
      "gas_monthly               float64         16603790   130811     0.0       %\n",
      "oil_monthly               float64         16603790   38712      0.0       %\n",
      "start_date                datetime64[ns]  16603790   386        0.0       %\n",
      "county                    object          16603790   225        0.0       %\n",
      "sub_region                object          16603790   5          0.0       %\n",
      "operator_name             object          16602426   9187       0.0       %\n",
      "lon_surface               float64         16519108   384239     0.5       %\n",
      "lat_surface               float64         16519108   377774     0.5       %\n",
      "lon_bottomhole            float64         16517458   385987     0.5       %\n",
      "lat_bottomhole            float64         16517458   381496     0.5       %\n",
      "elevation_ground          object          0          0          100.0     %\n",
      "depth_tvd                 float64         936099     9772       94.4      %\n",
      "measured_depth            float64         14978486   16019      9.8       %\n",
      "horizontal_length         float64         3703364    92087      77.7      %\n",
      "wellbore_type             object          16519605   3          0.5       %\n",
      "field_name                object          16553282   17735      0.3       %\n",
      "basin                     object          6439020    4          61.2      %\n",
      "formation_standardized    object          6439020    24         61.2      %\n",
      "formation_group           object          6439020    8          61.2      %\n",
      "\n",
      "Potential date/time columns: ['date_prod', 'gas_monthly', 'oil_monthly', 'start_date']\n",
      "\n",
      "Coordinate columns: ['lon_surface', 'lat_surface', 'lon_bottomhole', 'lat_bottomhole']\n"
     ]
    }
   ],
   "source": [
    "comprehensive_data_overview({'joined_data': joined_data})"
   ]
  },
  {
   "cell_type": "code",
   "execution_count": 45,
   "id": "8816b182-ebcf-4e2e-930a-10b90c334f4e",
   "metadata": {},
   "outputs": [
    {
     "name": "stdout",
     "output_type": "stream",
     "text": [
      "\n",
      "==================================================\n",
      "DATA QUALITY ASSESSMENT: JOINED_DATA\n",
      "==================================================\n",
      "Missing Values Analysis:\n",
      "Column                    Missing Count   Missing % \n",
      "--------------------------------------------------\n",
      "operator_name             1364            0.0       %\n",
      "lon_surface               84682           0.5       %\n",
      "lat_surface               84682           0.5       %\n",
      "lon_bottomhole            86332           0.5       %\n",
      "lat_bottomhole            86332           0.5       %\n",
      "elevation_ground          16603790        100.0     %\n",
      "depth_tvd                 15667691        94.4      %\n",
      "measured_depth            1625304         9.8       %\n",
      "horizontal_length         12900426        77.7      %\n",
      "wellbore_type             84185           0.5       %\n",
      "field_name                50508           0.3       %\n",
      "basin                     10164770        61.2      %\n",
      "formation_standardized    10164770        61.2      %\n",
      "formation_group           10164770        61.2      %\n",
      "\n",
      "Overall Missing Data Summary:\n",
      "  Total missing cells: 77,769,606\n",
      "  Total cells: 348,679,590\n",
      "  Overall missing percentage: 22.30%\n",
      "\n",
      "Duplicate Analysis:\n",
      "  Total duplicate rows: 0\n",
      "  Duplicate percentage: 0.00%\n",
      "  API number duplicates: 16203877\n"
     ]
    },
    {
     "data": {
      "text/plain": [
       "{'joined_data': {'total_rows': 16603790,\n",
       "  'total_missing': 77769606,\n",
       "  'missing_percentage': 22.304031618254456,\n",
       "  'duplicate_rows': 0,\n",
       "  'duplicate_percentage': 0.0}}"
      ]
     },
     "execution_count": 45,
     "metadata": {},
     "output_type": "execute_result"
    }
   ],
   "source": [
    "data_quality_assessment({'joined_data': joined_data})"
   ]
  },
  {
   "cell_type": "markdown",
   "id": "8e7a8d2f-8a95-49f0-864f-c0fdf00cfa0b",
   "metadata": {},
   "source": [
    "It's unfortunate that we're missing so many values for formation and basin as well, since that will certainly need to be imputed, but I think it will not be difficult to impute that for lon and lat values combined with geospatial data from the internet. With this information I can finalize my imputation and feature engineering strategy."
   ]
  },
  {
   "cell_type": "code",
   "execution_count": 46,
   "id": "b70dac09-4c75-41a3-aaa0-a1a94fb79806",
   "metadata": {},
   "outputs": [],
   "source": [
    "joined_data.to_parquet('../data/wrangled_data.parquet')"
   ]
  },
  {
   "cell_type": "code",
   "execution_count": null,
   "id": "b354b5cc-0a8b-4f31-a0e2-4d898bc04d20",
   "metadata": {},
   "outputs": [],
   "source": []
  }
 ],
 "metadata": {
  "kernelspec": {
   "display_name": "Python 3 (ipykernel)",
   "language": "python",
   "name": "python3"
  },
  "language_info": {
   "codemirror_mode": {
    "name": "ipython",
    "version": 3
   },
   "file_extension": ".py",
   "mimetype": "text/x-python",
   "name": "python",
   "nbconvert_exporter": "python",
   "pygments_lexer": "ipython3",
   "version": "3.11.13"
  }
 },
 "nbformat": 4,
 "nbformat_minor": 5
}
